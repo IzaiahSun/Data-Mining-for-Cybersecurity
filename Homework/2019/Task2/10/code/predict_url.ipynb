{
 "cells": [
  {
   "cell_type": "code",
   "execution_count": 1,
   "metadata": {},
   "outputs": [],
   "source": [
    "from sklearn.externals import joblib \n",
    "import pandas as pd"
   ]
  },
  {
   "cell_type": "code",
   "execution_count": 2,
   "metadata": {},
   "outputs": [
    {
     "name": "stderr",
     "output_type": "stream",
     "text": [
      "D:\\python\\Anaconda\\Anaconda3\\lib\\site-packages\\sklearn\\ensemble\\weight_boosting.py:29: DeprecationWarning: numpy.core.umath_tests is an internal NumPy module and should not be imported. It will be removed in a future NumPy release.\n",
      "  from numpy.core.umath_tests import inner1d\n"
     ]
    }
   ],
   "source": [
    "#读取模型\n",
    "clf = joblib.load('../data/clf.pkl')"
   ]
  },
  {
   "cell_type": "code",
   "execution_count": 3,
   "metadata": {},
   "outputs": [],
   "source": [
    "import get_features"
   ]
  },
  {
   "cell_type": "code",
   "execution_count": 4,
   "metadata": {},
   "outputs": [],
   "source": [
    "from flask import Flask\n",
    "from flask import render_template\n",
    "from flask import request,redirect\n",
    "app = Flask(__name__)\n",
    "\n",
    "@app.route(\"/\",methods=['GET','POST'])\n",
    "def test_the_url():\n",
    "    features=''\n",
    "    test_result=''\n",
    "    url =  request.args.get('url')\n",
    "    \n",
    "    if url:\n",
    "        result = pd.DataFrame(columns=('url','no of dots','presence of hyphen','len of url','presence of at',\\\n",
    "    'presence of double slash','no of subdir','no of subdomain','len of domain','no of queries','is IP','presence of Suspicious_TLD',\\\n",
    "    'presence of suspicious domain','label'))\n",
    "\n",
    "        features = get_features.getFeatures(url, '1')\n",
    "        result.loc[0] = features\n",
    "        result = result.drop(['url','label'],axis=1).values\n",
    "        test_result=clf.predict(result)\n",
    "        \n",
    "        if test_result == 1 :\n",
    "            test_result = \"这个链接可能是恶意链接\"\n",
    "        elif test_result == 0 :\n",
    "            test_result = \"这个链接可能不是恶意链接\"\n",
    "        \n",
    "    return render_template('./pred_the_url.html',features=features,test_result=test_result)\n"
   ]
  },
  {
   "cell_type": "code",
   "execution_count": null,
   "metadata": {},
   "outputs": [
    {
     "name": "stdout",
     "output_type": "stream",
     "text": [
      " * Serving Flask app \"__main__\" (lazy loading)\n",
      " * Environment: production\n",
      "   WARNING: Do not use the development server in a production environment.\n",
      "   Use a production WSGI server instead.\n",
      " * Debug mode: off\n"
     ]
    },
    {
     "name": "stderr",
     "output_type": "stream",
     "text": [
      " * Running on http://127.0.0.1:5000/ (Press CTRL+C to quit)\n",
      "127.0.0.1 - - [07/Oct/2019 22:03:14] \"GET / HTTP/1.1\" 200 -\n",
      "127.0.0.1 - - [07/Oct/2019 22:03:23] \"GET /?url=helloworld HTTP/1.1\" 200 -\n"
     ]
    }
   ],
   "source": [
    "if __name__ == '__main__':\n",
    "    #app.run(host='0.0.0.0')\n",
    "    app.run()"
   ]
  },
  {
   "cell_type": "code",
   "execution_count": null,
   "metadata": {},
   "outputs": [],
   "source": []
  }
 ],
 "metadata": {
  "kernelspec": {
   "display_name": "Python 3",
   "language": "python",
   "name": "python3"
  },
  "language_info": {
   "codemirror_mode": {
    "name": "ipython",
    "version": 3
   },
   "file_extension": ".py",
   "mimetype": "text/x-python",
   "name": "python",
   "nbconvert_exporter": "python",
   "pygments_lexer": "ipython3",
   "version": "3.7.0"
  }
 },
 "nbformat": 4,
 "nbformat_minor": 2
}
