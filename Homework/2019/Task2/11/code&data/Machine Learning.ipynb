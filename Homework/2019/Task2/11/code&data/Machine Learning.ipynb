{
 "cells": [
  {
   "cell_type": "code",
   "execution_count": 12,
   "metadata": {},
   "outputs": [
    {
     "name": "stdout",
     "output_type": "stream",
     "text": [
      "              precision    recall  f1-score   support\n",
      "\n",
      "        good       0.85      0.99      0.92     69068\n",
      "         bad       0.80      0.22      0.34     15025\n",
      "\n",
      "    accuracy                           0.85     84093\n",
      "   macro avg       0.83      0.60      0.63     84093\n",
      "weighted avg       0.84      0.85      0.81     84093\n",
      "\n"
     ]
    }
   ],
   "source": [
    "import numpy as np\n",
    "import pandas as pd\n",
    "import matplotlib.pylab as plt\n",
    "\n",
    "data_=pd.read_csv('./after.csv')\n",
    "feature=np.array(data_.iloc[:,1:-1])  # 将参数与特征进行分离，返回数据类型为数组\n",
    "labels = data_['label'].tolist()   # 将'label'标签提取出来转换为列表类型,方便后续使用\n",
    "\n",
    "from sklearn import neighbors\n",
    "from sklearn.model_selection import train_test_split\n",
    "feautre_train,feautre_test,label_train,label_test=train_test_split(feature,labels,test_size=0.2)\n",
    "# 指出训练集的标签和特征以及测试集的标签和特征，0.2为参数，对测试集以及训练集按照2:8进行划分\n",
    "from sklearn.tree import DecisionTreeClassifier\n",
    "model=DecisionTreeClassifier()\n",
    "\n",
    "model.fit(feautre_train,label_train) # 现在只需要传入训练集的数据\n",
    "prediction=model.predict(feautre_test)\n",
    "#print(prediction)\n",
    "\n",
    "labels=['good','bad']\n",
    "classes=['good',\n",
    "         'bad']\n",
    "from sklearn.metrics import classification_report\n",
    "\n",
    "result_=classification_report(label_test,prediction,target_names = classes)\n",
    "# target_names：类别；digits：int，输出浮点值的位数\n",
    "print(result_)\n",
    "\n"
   ]
  },
  {
   "cell_type": "code",
   "execution_count": 11,
   "metadata": {},
   "outputs": [
    {
     "name": "stdout",
     "output_type": "stream",
     "text": [
      "[[  0   0  74 ...   0   0   0]\n",
      " [  0   0  37 ...   0   0   0]\n",
      " [  0   0  65 ...   0   0   0]\n",
      " ...\n",
      " [  0   0  49 ...   0   0   0]\n",
      " [  0   0  17 ...   0   0   0]\n",
      " [  0   0 176 ...   0   0   0]]\n",
      "              precision    recall  f1-score   support\n",
      "\n",
      "        good       0.84      1.00      0.91     69069\n",
      "         bad       0.94      0.12      0.21     15024\n",
      "\n",
      "    accuracy                           0.84     84093\n",
      "   macro avg       0.89      0.56      0.56     84093\n",
      "weighted avg       0.86      0.84      0.79     84093\n",
      "\n"
     ]
    }
   ],
   "source": [
    "import numpy as np\n",
    "import pandas as pd\n",
    "import matplotlib.pylab as plt\n",
    "\n",
    "data_=pd.read_csv('./after.csv')\n",
    "feature=np.array(data_.iloc[:,1:-1])  # 将参数与特征进行分离，返回数据类型为数组\n",
    "print(feature)\n",
    "labels = data_['label'].tolist()   # 将'label'标签提取出来转换为列表类型,方便后续使用\n",
    "\n",
    "\n",
    "from sklearn.model_selection import train_test_split\n",
    "feautre_train,feautre_test,label_train,label_test=train_test_split(feature,labels,test_size=0.2)\n",
    "# 指出训练集的标签和特征以及测试集的标签和特征，0.2为参数，对测试集以及训练集按照2:8进行划分\n",
    "from sklearn.ensemble import RandomForestClassifier\n",
    "model=RandomForestClassifier(n_estimators=100, max_depth=3,random_state=0)\n",
    "\n",
    "model.fit(feautre_train,label_train) # 现在只需要传入训练集的数据\n",
    "prediction=model.predict(feautre_test)\n",
    "#print(prediction)\n",
    "\n",
    "labels=['good','bad']\n",
    "classes=['good',\n",
    "         'bad']\n",
    "from sklearn.metrics import classification_report\n",
    "\n",
    "result_=classification_report(label_test,prediction,target_names = classes)\n",
    "# target_names：类别；digits：int，输出浮点值的位数\n",
    "print(result_)"
   ]
  },
  {
   "cell_type": "code",
   "execution_count": null,
   "metadata": {},
   "outputs": [],
   "source": []
  }
 ],
 "metadata": {
  "kernelspec": {
   "display_name": "Python 3",
   "language": "python",
   "name": "python3"
  },
  "language_info": {
   "codemirror_mode": {
    "name": "ipython",
    "version": 3
   },
   "file_extension": ".py",
   "mimetype": "text/x-python",
   "name": "python",
   "nbconvert_exporter": "python",
   "pygments_lexer": "ipython3",
   "version": "3.6.7"
  }
 },
 "nbformat": 4,
 "nbformat_minor": 2
}
