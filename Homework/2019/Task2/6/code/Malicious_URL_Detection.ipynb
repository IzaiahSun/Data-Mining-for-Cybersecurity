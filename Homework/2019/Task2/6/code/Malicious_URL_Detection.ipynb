{
 "cells": [
  {
   "cell_type": "code",
   "execution_count": 1,
   "metadata": {},
   "outputs": [
    {
     "name": "stderr",
     "output_type": "stream",
     "text": [
      "E:\\Anaconda3\\lib\\site-packages\\sklearn\\ensemble\\weight_boosting.py:29: DeprecationWarning: numpy.core.umath_tests is an internal NumPy module and should not be imported. It will be removed in a future NumPy release.\n",
      "  from numpy.core.umath_tests import inner1d\n",
      "E:\\Anaconda3\\lib\\site-packages\\sklearn\\cross_validation.py:41: DeprecationWarning: This module was deprecated in version 0.18 in favor of the model_selection module into which all the refactored classes and functions are moved. Also note that the interface of the new CV iterators are different from that of this module. This module will be removed in 0.20.\n",
      "  \"This module will be removed in 0.20.\", DeprecationWarning)\n"
     ]
    },
    {
     "data": {
      "text/html": [
       "<div>\n",
       "<style scoped>\n",
       "    .dataframe tbody tr th:only-of-type {\n",
       "        vertical-align: middle;\n",
       "    }\n",
       "\n",
       "    .dataframe tbody tr th {\n",
       "        vertical-align: top;\n",
       "    }\n",
       "\n",
       "    .dataframe thead th {\n",
       "        text-align: right;\n",
       "    }\n",
       "</style>\n",
       "<table border=\"1\" class=\"dataframe\">\n",
       "  <thead>\n",
       "    <tr style=\"text-align: right;\">\n",
       "      <th></th>\n",
       "      <th>url</th>\n",
       "      <th>label</th>\n",
       "    </tr>\n",
       "  </thead>\n",
       "  <tbody>\n",
       "    <tr>\n",
       "      <th>0</th>\n",
       "      <td>en.wikipedia.org/wiki/Category:Eyewear_retaile...</td>\n",
       "      <td>good</td>\n",
       "    </tr>\n",
       "    <tr>\n",
       "      <th>1</th>\n",
       "      <td>answers.com/topic/golden-state-warriors</td>\n",
       "      <td>good</td>\n",
       "    </tr>\n",
       "    <tr>\n",
       "      <th>2</th>\n",
       "      <td>youtube.com/watch?v=ClEoWXyaSbI</td>\n",
       "      <td>good</td>\n",
       "    </tr>\n",
       "    <tr>\n",
       "      <th>3</th>\n",
       "      <td>math.mcgill.ca/</td>\n",
       "      <td>good</td>\n",
       "    </tr>\n",
       "    <tr>\n",
       "      <th>4</th>\n",
       "      <td>ovguide.com/pals-of-the-golden-west-9202a8c040...</td>\n",
       "      <td>good</td>\n",
       "    </tr>\n",
       "  </tbody>\n",
       "</table>\n",
       "</div>"
      ],
      "text/plain": [
       "                                                 url label\n",
       "0  en.wikipedia.org/wiki/Category:Eyewear_retaile...  good\n",
       "1            answers.com/topic/golden-state-warriors  good\n",
       "2                    youtube.com/watch?v=ClEoWXyaSbI  good\n",
       "3                                    math.mcgill.ca/  good\n",
       "4  ovguide.com/pals-of-the-golden-west-9202a8c040...  good"
      ]
     },
     "execution_count": 1,
     "metadata": {},
     "output_type": "execute_result"
    }
   ],
   "source": [
    "import pandas as pd\n",
    "import numpy as np\n",
    "import ipaddress as ip\n",
    "from urllib.parse import urlparse\n",
    "from sklearn.tree import DecisionTreeClassifier\n",
    "from sklearn import svm\n",
    "import whois\n",
    "import sklearn.ensemble as ek\n",
    "from sklearn.model_selection import train_test_split\n",
    "from sklearn import cross_validation\n",
    "from sklearn.metrics import confusion_matrix\n",
    "from sklearn.preprocessing import StandardScaler\n",
    "import tldextract\n",
    "\n",
    "df = pd.read_csv(\"data.csv\")\n",
    "df = df.sample(frac=1).reset_index(drop=True)\n",
    "df.head()"
   ]
  },
  {
   "cell_type": "code",
   "execution_count": 2,
   "metadata": {},
   "outputs": [],
   "source": [
    "# Method to count number of dots\n",
    "def countdots(url):  \n",
    "    url = str(url)\n",
    "    return url.count('.')\n",
    "\n",
    "# Method to count number of delimeters\n",
    "def countdelim(url):\n",
    "    url = str(url)\n",
    "    count = 0\n",
    "    delim=[';','_','?','=','&']\n",
    "    for each in url:\n",
    "        if each in delim:\n",
    "            count = count + 1\n",
    "    \n",
    "    return count\n",
    "\n",
    "# Is IP addr present as th hostname, let's validate\n",
    "\n",
    "import ipaddress as ip #works only in python 3\n",
    "\n",
    "def is_ip(url):\n",
    "    try:\n",
    "        if ip.ip_address(url):\n",
    "            return 1\n",
    "    except:\n",
    "        return 0\n",
    "\n",
    "\n",
    "def isPresentDSlash(url):\n",
    "    url = str(url)\n",
    "    return url.count('//')\n",
    "\n",
    "def countSubDir(url):\n",
    "    url = str(url)\n",
    "    return url.count('/')\n",
    "\n",
    "def countSubDomain(subdomain):\n",
    "    if not subdomain:\n",
    "        return 0\n",
    "    else:\n",
    "        return len(subdomain.split('.'))\n",
    "    \n",
    "def getFeatures(url, label):\n",
    "    result = []\n",
    "    url = str(url)\n",
    "    result.append(url)\n",
    "    ext = tldextract.extract(url)\n",
    "    \n",
    "    result.append(countdots(url))\n",
    "    result.append(countdelim(url))\n",
    "    result.append(is_ip(url))\n",
    "    result.append(isPresentDSlash(url))\n",
    "    result.append(countSubDir(url))\n",
    "    result.append(countSubDomain(ext.subdomain))\n",
    "    result.append(len(url))\n",
    "    \n",
    "    result.append(label)\n",
    "    return result\n",
    "    \n",
    "    \n",
    "    \n",
    "def change_lable(x):\n",
    "    if x == 'bad':\n",
    "        return 0\n",
    "    elif x == 'good':\n",
    "        return 1\n",
    "    else:\n",
    "        print(\"type error\")"
   ]
  },
  {
   "cell_type": "code",
   "execution_count": 3,
   "metadata": {},
   "outputs": [
    {
     "data": {
      "text/html": [
       "<div>\n",
       "<style scoped>\n",
       "    .dataframe tbody tr th:only-of-type {\n",
       "        vertical-align: middle;\n",
       "    }\n",
       "\n",
       "    .dataframe tbody tr th {\n",
       "        vertical-align: top;\n",
       "    }\n",
       "\n",
       "    .dataframe thead th {\n",
       "        text-align: right;\n",
       "    }\n",
       "</style>\n",
       "<table border=\"1\" class=\"dataframe\">\n",
       "  <thead>\n",
       "    <tr style=\"text-align: right;\">\n",
       "      <th></th>\n",
       "      <th>url</th>\n",
       "      <th>label</th>\n",
       "    </tr>\n",
       "  </thead>\n",
       "  <tbody>\n",
       "    <tr>\n",
       "      <th>0</th>\n",
       "      <td>en.wikipedia.org/wiki/Category:Eyewear_retaile...</td>\n",
       "      <td>1</td>\n",
       "    </tr>\n",
       "    <tr>\n",
       "      <th>1</th>\n",
       "      <td>answers.com/topic/golden-state-warriors</td>\n",
       "      <td>1</td>\n",
       "    </tr>\n",
       "    <tr>\n",
       "      <th>2</th>\n",
       "      <td>youtube.com/watch?v=ClEoWXyaSbI</td>\n",
       "      <td>1</td>\n",
       "    </tr>\n",
       "    <tr>\n",
       "      <th>3</th>\n",
       "      <td>math.mcgill.ca/</td>\n",
       "      <td>1</td>\n",
       "    </tr>\n",
       "    <tr>\n",
       "      <th>4</th>\n",
       "      <td>ovguide.com/pals-of-the-golden-west-9202a8c040...</td>\n",
       "      <td>1</td>\n",
       "    </tr>\n",
       "  </tbody>\n",
       "</table>\n",
       "</div>"
      ],
      "text/plain": [
       "                                                 url  label\n",
       "0  en.wikipedia.org/wiki/Category:Eyewear_retaile...      1\n",
       "1            answers.com/topic/golden-state-warriors      1\n",
       "2                    youtube.com/watch?v=ClEoWXyaSbI      1\n",
       "3                                    math.mcgill.ca/      1\n",
       "4  ovguide.com/pals-of-the-golden-west-9202a8c040...      1"
      ]
     },
     "execution_count": 3,
     "metadata": {},
     "output_type": "execute_result"
    }
   ],
   "source": [
    "df['label'] = df['label'].map(lambda x: change_lable(x))\n",
    "df.head()"
   ]
  },
  {
   "cell_type": "code",
   "execution_count": 4,
   "metadata": {},
   "outputs": [
    {
     "data": {
      "text/html": [
       "<div>\n",
       "<style scoped>\n",
       "    .dataframe tbody tr th:only-of-type {\n",
       "        vertical-align: middle;\n",
       "    }\n",
       "\n",
       "    .dataframe tbody tr th {\n",
       "        vertical-align: top;\n",
       "    }\n",
       "\n",
       "    .dataframe thead th {\n",
       "        text-align: right;\n",
       "    }\n",
       "</style>\n",
       "<table border=\"1\" class=\"dataframe\">\n",
       "  <thead>\n",
       "    <tr style=\"text-align: right;\">\n",
       "      <th></th>\n",
       "      <th>url</th>\n",
       "      <th>label</th>\n",
       "      <th>No of dots</th>\n",
       "      <th>No of delim</th>\n",
       "      <th>Is IP</th>\n",
       "      <th>No of DSlash</th>\n",
       "      <th>No of SubDir</th>\n",
       "      <th>No of SubDomain</th>\n",
       "      <th>Len of url</th>\n",
       "    </tr>\n",
       "  </thead>\n",
       "  <tbody>\n",
       "    <tr>\n",
       "      <th>0</th>\n",
       "      <td>http://en.wikipedia.org/wiki/Category:Eyewear_...</td>\n",
       "      <td>1</td>\n",
       "      <td>2</td>\n",
       "      <td>5</td>\n",
       "      <td>0</td>\n",
       "      <td>0</td>\n",
       "      <td>2</td>\n",
       "      <td>3</td>\n",
       "      <td>70</td>\n",
       "    </tr>\n",
       "    <tr>\n",
       "      <th>1</th>\n",
       "      <td>http://answers.com/topic/golden-state-warriors</td>\n",
       "      <td>1</td>\n",
       "      <td>1</td>\n",
       "      <td>0</td>\n",
       "      <td>0</td>\n",
       "      <td>0</td>\n",
       "      <td>2</td>\n",
       "      <td>2</td>\n",
       "      <td>39</td>\n",
       "    </tr>\n",
       "    <tr>\n",
       "      <th>2</th>\n",
       "      <td>http://youtube.com/watch?v=ClEoWXyaSbI</td>\n",
       "      <td>1</td>\n",
       "      <td>1</td>\n",
       "      <td>2</td>\n",
       "      <td>0</td>\n",
       "      <td>0</td>\n",
       "      <td>1</td>\n",
       "      <td>2</td>\n",
       "      <td>31</td>\n",
       "    </tr>\n",
       "    <tr>\n",
       "      <th>3</th>\n",
       "      <td>http://math.mcgill.ca/</td>\n",
       "      <td>1</td>\n",
       "      <td>2</td>\n",
       "      <td>0</td>\n",
       "      <td>0</td>\n",
       "      <td>0</td>\n",
       "      <td>1</td>\n",
       "      <td>3</td>\n",
       "      <td>15</td>\n",
       "    </tr>\n",
       "    <tr>\n",
       "      <th>4</th>\n",
       "      <td>http://ovguide.com/pals-of-the-golden-west-920...</td>\n",
       "      <td>1</td>\n",
       "      <td>1</td>\n",
       "      <td>0</td>\n",
       "      <td>0</td>\n",
       "      <td>0</td>\n",
       "      <td>1</td>\n",
       "      <td>2</td>\n",
       "      <td>68</td>\n",
       "    </tr>\n",
       "  </tbody>\n",
       "</table>\n",
       "</div>"
      ],
      "text/plain": [
       "                                                 url  label  No of dots  \\\n",
       "0  http://en.wikipedia.org/wiki/Category:Eyewear_...      1           2   \n",
       "1     http://answers.com/topic/golden-state-warriors      1           1   \n",
       "2             http://youtube.com/watch?v=ClEoWXyaSbI      1           1   \n",
       "3                             http://math.mcgill.ca/      1           2   \n",
       "4  http://ovguide.com/pals-of-the-golden-west-920...      1           1   \n",
       "\n",
       "   No of delim  Is IP  No of DSlash  No of SubDir  No of SubDomain  Len of url  \n",
       "0            5      0             0             2                3          70  \n",
       "1            0      0             0             2                2          39  \n",
       "2            2      0             0             1                2          31  \n",
       "3            0      0             0             1                3          15  \n",
       "4            0      0             0             1                2          68  "
      ]
     },
     "execution_count": 4,
     "metadata": {},
     "output_type": "execute_result"
    }
   ],
   "source": [
    "df['No of dots'] = df['url'].map(lambda x: countdots(x))\n",
    "df['No of delim'] = df['url'].map(lambda x: countdelim(x))\n",
    "df['Is IP'] = df['url'].map(lambda x: is_ip(x))\n",
    "df['No of DSlash'] = df['url'].map(lambda x: isPresentDSlash(x))\n",
    "df['No of SubDir'] = df['url'].map(lambda x: countSubDir(x))\n",
    "df['No of SubDomain'] = df['url'].map(lambda x: countSubDomain(x))\n",
    "df['Len of url'] = df['url'].map(lambda x: len(x))\n",
    "df['url'] = df['url'].map(lambda x: ('http://' + x))\n",
    "df.head()"
   ]
  },
  {
   "cell_type": "code",
   "execution_count": 5,
   "metadata": {},
   "outputs": [],
   "source": [
    "from sklearn import cross_validation\n",
    "X = df.drop(['url', 'label'], axis = 1).values\n",
    "y = df['label'].values\n",
    "X_train, X_test, y_train, y_test = cross_validation.train_test_split(X, y ,test_size=0.2)"
   ]
  },
  {
   "cell_type": "code",
   "execution_count": 6,
   "metadata": {},
   "outputs": [
    {
     "name": "stdout",
     "output_type": "stream",
     "text": [
      "Accuracy: 0.85  Recall: 0.81\n"
     ]
    }
   ],
   "source": [
    "#Decision tree\n",
    "from sklearn import tree\n",
    "from sklearn.metrics import confusion_matrix\n",
    "dt = tree.DecisionTreeClassifier(max_depth = 10)\n",
    "dt.fit(X_train, y_train)\n",
    "r = dt.predict(X)\n",
    "matrix = confusion_matrix(y, r)\n",
    "TP = matrix[0][0]\n",
    "FP = matrix[0][1]\n",
    "FN = matrix[1][0]\n",
    "TN = matrix[1][1]\n",
    "Acc = (TP + TN) / (TP + FP + TN + FN)\n",
    "Rec = TP / (TP + FN)\n",
    "print(\"Accuracy: %.2f  Recall: %.2f\" % (Acc, Rec))"
   ]
  },
  {
   "cell_type": "code",
   "execution_count": 7,
   "metadata": {},
   "outputs": [
    {
     "name": "stdout",
     "output_type": "stream",
     "text": [
      "[0]\n"
     ]
    }
   ],
   "source": [
    "#输入单个恶意url进行测试。假冒工商银行网站\n",
    "URL = 'http://www.1cbc.com.cn/icbc/'\n",
    "result = pd.DataFrame(columns = ('url', 'label', 'No of dots', 'No of delim', 'Is IP', 'No of DSlash', 'No of SubDir', 'No of SubDomain', 'Len of url'))\n",
    "results = getFeatures(URL, 1)\n",
    "result.loc[0] = results\n",
    "result = result.drop(['url','label'],axis=1).values\n",
    "print(dt.predict(result))"
   ]
  },
  {
   "cell_type": "code",
   "execution_count": 8,
   "metadata": {},
   "outputs": [
    {
     "name": "stdout",
     "output_type": "stream",
     "text": [
      "Accuracy: 0.86  Recall: 0.81\n"
     ]
    }
   ],
   "source": [
    "#Random Forest\n",
    "import sklearn.ensemble as ek\n",
    "clf = ek.RandomForestClassifier(n_estimators=50)\n",
    "clf.fit(X_train, y_train)\n",
    "r = clf.predict(X)\n",
    "matrix = confusion_matrix(y, r)\n",
    "TP = matrix[0][0]\n",
    "FP = matrix[0][1]\n",
    "FN = matrix[1][0]\n",
    "TN = matrix[1][1]\n",
    "Acc = (TP + TN) / (TP + FP + TN + FN)\n",
    "Rec = TP / (TP + FN)\n",
    "print(\"Accuracy: %.2f  Recall: %.2f\" % (Acc, Rec))"
   ]
  },
  {
   "cell_type": "code",
   "execution_count": 9,
   "metadata": {},
   "outputs": [
    {
     "name": "stdout",
     "output_type": "stream",
     "text": [
      "[0]\n"
     ]
    }
   ],
   "source": [
    "#输入单个恶意url进行测试。假冒工商银行网站\n",
    "URL = 'http://www.1cbc.com.cn/icbc/'\n",
    "result = pd.DataFrame(columns = ('url', 'label', 'No of dots', 'No of delim', 'Is IP', 'No of DSlash', 'No of SubDir', 'No of SubDomain', 'Len of url'))\n",
    "results = getFeatures(URL, 1)\n",
    "result.loc[0] = results\n",
    "result = result.drop(['url','label'],axis=1).values\n",
    "print(clf.predict(result))"
   ]
  },
  {
   "cell_type": "code",
   "execution_count": null,
   "metadata": {},
   "outputs": [],
   "source": []
  }
 ],
 "metadata": {
  "kernelspec": {
   "display_name": "Python 3",
   "language": "python",
   "name": "python3"
  },
  "language_info": {
   "codemirror_mode": {
    "name": "ipython",
    "version": 3
   },
   "file_extension": ".py",
   "mimetype": "text/x-python",
   "name": "python",
   "nbconvert_exporter": "python",
   "pygments_lexer": "ipython3",
   "version": "3.6.5"
  }
 },
 "nbformat": 4,
 "nbformat_minor": 2
}
