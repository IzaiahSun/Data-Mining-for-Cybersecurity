{
 "cells": [
  {
   "cell_type": "code",
   "execution_count": 1,
   "metadata": {},
   "outputs": [],
   "source": [
    "import numpy as np \n",
    "import pandas as pd \n",
    "import tldextract\n",
    "\n",
    "\"\"\"\n",
    "    XSS检测的相关特征：script,java,iframe,左右括号,style,alert,%,\\\",\\'\n",
    "    等常见的字符。\n",
    "\"\"\"\n",
    "def count_script(payload):\n",
    "    return payload.lower().count(\"script\")\n",
    "\n",
    "def count_java(payload):\n",
    "    return payload.lower().count(\"java\")\n",
    "\n",
    "def count_iframe(payload):\n",
    "    return payload.lower().count(\"iframe\")\n",
    "\n",
    "def count_style(payload):\n",
    "    return payload.lower().count(\"style\")\n",
    "\n",
    "def count_alert(payload):\n",
    "    return payload.lower().count(\"alert\")\n",
    "\n",
    "def count_leftBracket(payload):\n",
    "    return payload.lower().count(\"(\")\n",
    "\n",
    "def count_rightBracket(payload):\n",
    "    return payload.lower().count(\")\")\n",
    "\n",
    "def count_leftAngleBracket(payload):\n",
    "    return payload.lower().count(\"<\")\n",
    "\n",
    "def count_rightAngleBracket(payload):\n",
    "    return payload.lower().count(\">\")\n",
    "\n",
    "def count_percent(payload):\n",
    "    return payload.lower().count(\"%\")\n",
    "\n",
    "def count_slash1(payload):\n",
    "    return payload.lower().count(\"\\\"\")\n",
    "\n",
    "def count_slash2(payload):\n",
    "    return payload.lower().count(\"\\'\")\n",
    "\n"
   ]
  },
  {
   "cell_type": "code",
   "execution_count": 2,
   "metadata": {},
   "outputs": [],
   "source": [
    "#获取对应特征的函数；\n",
    "def getFeature(payload,label):\n",
    "    result = []\n",
    "    payload = str(payload)\n",
    "\n",
    "    result.append(payload)\n",
    "    result.append(count_script(payload))\n",
    "    result.append(count_java(payload))\n",
    "    result.append(count_iframe(payload))\n",
    "    result.append(count_style(payload))\n",
    "    result.append(count_alert(payload))\n",
    "    result.append(count_leftBracket(payload))\n",
    "    result.append(count_rightBracket(payload))\n",
    "    result.append(count_leftAngleBracket(payload))\n",
    "    result.append(count_rightAngleBracket(payload))\n",
    "    result.append(count_percent(payload))\n",
    "    result.append(count_slash1(payload))\n",
    "    result.append(count_slash2(payload))\n",
    "    result.append(str(label))\n",
    "    return result\n"
   ]
  },
  {
   "cell_type": "code",
   "execution_count": 3,
   "metadata": {},
   "outputs": [],
   "source": [
    "featureSet = pd.DataFrame(columns=('payload','script','java','iframe',\\\n",
    "    'style','alert','leftBracket','rightBracket','leftAngleBracket',\\\n",
    "    'rightAngleBracket','percent','slash1','slash2','label'))"
   ]
  },
  {
   "cell_type": "code",
   "execution_count": 4,
   "metadata": {},
   "outputs": [
    {
     "name": "stdout",
     "output_type": "stream",
     "text": [
      "                                             payload  label\n",
      "0                                            id=2800      1\n",
      "1                               area=4&aName=Council      0\n",
      "2  q=FTP&%27%22%3E%3C/title%3E%3Cscript%3Ealert(<...      0\n",
      "3  c=&search_country=&search_state=&search_city=&...      0\n",
      "4  element=%22%3E%3CscRipT%3Ealert%28123%29%3C%2F...      0\n",
      "总共的样本数： 64833\n"
     ]
    }
   ],
   "source": [
    "df_xss = pd.read_csv('xss.csv')\n",
    "#print(df_xss.head())\n",
    "df_normal = pd.read_csv('normal.csv')\n",
    "df_normal['label'] = 1\n",
    "df_xss['label'] = 0\n",
    "df_total = df_xss.append(df_normal)\n",
    "df_total = df_total.sample(frac=1).reset_index(drop=True)\n",
    "print(df_total.head())\n",
    "length_data = len(df_total)\n",
    "print(\"总共的样本数：\",length_data)\n",
    "PERCENTAGE = 1\n",
    "length=int(length_data*PERCENTAGE)\n"
   ]
  },
  {
   "cell_type": "code",
   "execution_count": 5,
   "metadata": {},
   "outputs": [
    {
     "name": "stdout",
     "output_type": "stream",
     "text": [
      "                                             payload script java iframe style  \\\n",
      "0                                            id=2800      0    0      0     0   \n",
      "1                               area=4&aName=Council      0    0      0     0   \n",
      "2  q=FTP&%27%22%3E%3C/title%3E%3Cscript%3Ealert(<...      2    0      0     0   \n",
      "3  c=&search_country=&search_state=&search_city=&...      2    0      0     0   \n",
      "4  element=%22%3E%3CscRipT%3Ealert%28123%29%3C%2F...      1    0      0     0   \n",
      "\n",
      "  alert leftBracket rightBracket leftAngleBracket rightAngleBracket percent  \\\n",
      "0     0           0            0                0                 0       0   \n",
      "1     0           0            0                0                 0       0   \n",
      "2     1           1            1                1                 1      20   \n",
      "3     4          10           10                3                 3      14   \n",
      "4     1           0            0                1                 1      10   \n",
      "\n",
      "  slash1 slash2 label  \n",
      "0      0      0     1  \n",
      "1      0      0     0  \n",
      "2      0      0     0  \n",
      "3      0      3     0  \n",
      "4      0      0     0  \n"
     ]
    }
   ],
   "source": [
    "for i in range(length):\n",
    "    feature = getFeature(df_total[\"payload\"].loc[i],df_total[\"label\"].loc[i])\n",
    "    featureSet.loc[i] = feature\n",
    "print(featureSet.head())\n"
   ]
  },
  {
   "cell_type": "code",
   "execution_count": 6,
   "metadata": {},
   "outputs": [],
   "source": [
    "from sklearn.metrics import confusion_matrix\n",
    "from sklearn.model_selection import train_test_split\n",
    "X = featureSet.drop(['payload','label'],axis=1).values\n",
    "y = featureSet['label'].values\n",
    "X_train,X_test,y_train,y_test = train_test_split(X,y,test_size=0.2)"
   ]
  },
  {
   "cell_type": "code",
   "execution_count": 7,
   "metadata": {},
   "outputs": [
    {
     "name": "stdout",
     "output_type": "stream",
     "text": [
      "Accuracy: 0.98  Recall: 1.00\n",
      "[[6429  219]\n",
      " [  16 6303]]\n"
     ]
    }
   ],
   "source": [
    "#使用决策树模型，并计算其对应的召回率和准确率\n",
    "from sklearn import tree\n",
    "from sklearn.metrics import confusion_matrix\n",
    "dt = tree.DecisionTreeClassifier(max_depth = 10)\n",
    "dt.fit(X_train,y_train)\n",
    "y_predict = dt.predict(X_test)\n",
    "matrix = confusion_matrix(y_test, y_predict)\n",
    "TP = matrix[0][0]\n",
    "FP = matrix[0][1]\n",
    "FN = matrix[1][0]\n",
    "TN = matrix[1][1]\n",
    "Acc = (TP + TN) / (TP + FP + TN + FN)\n",
    "Rec = TP / (TP + FN)\n",
    "print(\"Accuracy: %.2f  Recall: %.2f\" % (Acc, Rec))\n",
    "print(confusion_matrix(y_test,y_predict))"
   ]
  },
  {
   "cell_type": "code",
   "execution_count": 27,
   "metadata": {},
   "outputs": [
    {
     "name": "stdout",
     "output_type": "stream",
     "text": [
      "['0']\n"
     ]
    }
   ],
   "source": [
    "#输入用于XSS测试的payload；\n",
    "payload1 = '<isindexformaction=\"javascript:alert(1)\"     type=image>'\n",
    "result = pd.DataFrame(columns=('payload','script','java','iframe',\\\n",
    "    'style','alert','leftBracket','rightBracket','leftAngleBracket',\\\n",
    "    'rightAngleBracket','percent','slash1','slash2','label'))\n",
    "results = getFeature(payload1, 0)\n",
    "result.loc[0] = results\n",
    "result = result.drop(['payload','label'],axis=1).values\n",
    "print(dt.predict(result))"
   ]
  },
  {
   "cell_type": "code",
   "execution_count": 15,
   "metadata": {},
   "outputs": [
    {
     "name": "stdout",
     "output_type": "stream",
     "text": [
      "32347\n",
      "[[32347  1079]\n",
      " [   43 31364]]\n",
      "Accuracy: 0.98  Recall: 1.00\n"
     ]
    }
   ],
   "source": [
    "#Random Forest\n",
    "import sklearn.ensemble as ek\n",
    "clf = ek.RandomForestClassifier(n_estimators=50)\n",
    "clf.fit(X_train, y_train)\n",
    "r = clf.predict(X)\n",
    "matrix = confusion_matrix(y, r)\n",
    "TP = matrix[0][0]\n",
    "FP = matrix[0][1]\n",
    "FN = matrix[1][0]\n",
    "TN = matrix[1][1]\n",
    "print(TP)\n",
    "print(matrix)\n",
    "Acc = (TP + TN) / (TP + FP + TN + FN)\n",
    "Rec = TP / (TP + FN)\n",
    "print(\"Accuracy: %.2f  Recall: %.2f\" % (Acc, Rec))"
   ]
  },
  {
   "cell_type": "code",
   "execution_count": 29,
   "metadata": {},
   "outputs": [
    {
     "name": "stdout",
     "output_type": "stream",
     "text": [
      "['0']\n"
     ]
    }
   ],
   "source": [
    "#输入用于XSS测试的payload；\n",
    "payload2 = '<input type=\"image\" formaction=JaVaScript:alert(0)>'\n",
    "result = pd.DataFrame(columns=('payload','script','java','iframe',\\\n",
    "    'style','alert','leftBracket','rightBracket','leftAngleBracket',\\\n",
    "    'rightAngleBracket','percent','slash1','slash2','label'))\n",
    "results = getFeature(payload2, 0)\n",
    "result.loc[0] = results\n",
    "result = result.drop(['payload','label'],axis=1).values\n",
    "print(dt.predict(result))"
   ]
  },
  {
   "cell_type": "code",
   "execution_count": null,
   "metadata": {},
   "outputs": [],
   "source": []
  },
  {
   "cell_type": "code",
   "execution_count": null,
   "metadata": {},
   "outputs": [],
   "source": []
  }
 ],
 "metadata": {
  "kernelspec": {
   "display_name": "Python 3",
   "language": "python",
   "name": "python3"
  },
  "language_info": {
   "codemirror_mode": {
    "name": "ipython",
    "version": 3
   },
   "file_extension": ".py",
   "mimetype": "text/x-python",
   "name": "python",
   "nbconvert_exporter": "python",
   "pygments_lexer": "ipython3",
   "version": "3.7.3"
  }
 },
 "nbformat": 4,
 "nbformat_minor": 2
}
