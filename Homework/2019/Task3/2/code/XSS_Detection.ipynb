{
 "cells": [
  {
   "cell_type": "code",
   "execution_count": 1,
   "metadata": {},
   "outputs": [],
   "source": [
    "# -*- coding:utf-8 -*-\n",
    "\n",
    "import pandas as pd\n",
    "from sklearn.utils import shuffle\n",
    "from sklearn.model_selection import train_test_split\n",
    "from sklearn import svm\n",
    "\n",
    "\n",
    "def count_script(payload):\n",
    "    return str(payload).lower().count('script')\n",
    "\n",
    "\n",
    "def count_java(payload):\n",
    "    return str(payload).lower().count('java')\n",
    "\n",
    "\n",
    "def count_angle_brackets(payload):\n",
    "    return str(payload).lower().count('<')\n",
    "\n",
    "\n",
    "def count_parentheses(payload):\n",
    "    return str(payload).lower().count('(')\n",
    "\n",
    "\n",
    "\n",
    "def count_alert(payload):\n",
    "    return str(payload).lower().count('alert')\n",
    "\n",
    "\n",
    "def count_percent(payload):\n",
    "    return str(payload).lower().count('%')\n",
    "\n",
    "\n",
    "def judge_cases_exception(payload):\n",
    "    payload_lowercase = str(payload).lower()\n",
    "    if payload_lowercase == str(payload):\n",
    "        return 0\n",
    "    return 1\n",
    "\n",
    "def have_sensitive_words(payload):\n",
    "    words_list = ['fuck', 'xss', 'shit']\n",
    "    for word in words_list:\n",
    "        if word in str(payload).lower():\n",
    "            return 1 \n",
    "    return 0\n",
    "\n"
   ]
  },
  {
   "cell_type": "code",
   "execution_count": 2,
   "metadata": {},
   "outputs": [
    {
     "name": "stdout",
     "output_type": "stream",
     "text": [
      "Finished training.\n",
      "\n"
     ]
    }
   ],
   "source": [
    "XSS_label = []\n",
    "\n",
    "normal_data = pd.read_csv('dmzo_nomal.csv', header=None, names=['payload'])\n",
    "for i in range(len(normal_data)):\n",
    "    XSS_label.append(0)\n",
    "normal_data['XSS'] = XSS_label\n",
    "\n",
    "XSS_label = []\n",
    "xssed_data = pd.read_csv('xssed.csv', header=None, names=['payload'])\n",
    "for i in range(len(xssed_data)):\n",
    "    XSS_label.append('1')\n",
    "xssed_data['XSS'] = XSS_label\n",
    "\n",
    "data = pd.concat([normal_data, xssed_data], keys=['payload', 'XSS'])\n",
    "data = shuffle(data)\n",
    "# print(data)\n",
    "\n",
    "features = []\n",
    "labels = []\n",
    "for i in range(len(data)):\n",
    "    payload = data['payload'][i]\n",
    "    features.append([\n",
    "                     count_alert(payload),\n",
    "                     count_script(payload),\n",
    "                     count_java(payload),\n",
    "                     count_angle_brackets(payload),\n",
    "                     count_parentheses(payload),\n",
    "                     count_percent(payload),\n",
    "                     judge_cases_exception(payload),\n",
    "                     have_sensitive_words(payload)\n",
    "                    ])\n",
    "    labels.append(data['XSS'][i])\n",
    "\n",
    "X_train, X_test, y_train, y_test = train_test_split(features, labels, test_size=0.3,\n",
    "                                                    random_state=0, stratify=labels)\n",
    "\n",
    "svc = svm.SVC(kernel='linear', C=1.0, gamma='auto').fit(X_train, y_train)  # 线性核\n",
    "rbf_svc = svm.SVC(kernel='rbf', gamma=0.7, C=1.0).fit(X_train, y_train)  # 径向基核\n",
    "poly_svc = svm.SVC(kernel='poly', degree=3, C=1.0, gamma='auto').fit(X_train, y_train)  # 多项式核\n",
    "print('Finished training.\\n');"
   ]
  },
  {
   "cell_type": "code",
   "execution_count": 3,
   "metadata": {},
   "outputs": [
    {
     "name": "stdout",
     "output_type": "stream",
     "text": [
      "0.9916195372750642\n",
      "0.9913110539845759\n",
      "0.9841645244215939\n"
     ]
    }
   ],
   "source": [
    "print(svc.score(X_test, y_test))\n",
    "print(rbf_svc.score(X_test, y_test))\n",
    "print(poly_svc.score(X_test, y_test))"
   ]
  },
  {
   "cell_type": "code",
   "execution_count": null,
   "metadata": {},
   "outputs": [],
   "source": []
  }
 ],
 "metadata": {
  "kernelspec": {
   "display_name": "Python 3",
   "language": "python",
   "name": "python3"
  },
  "language_info": {
   "codemirror_mode": {
    "name": "ipython",
    "version": 3
   },
   "file_extension": ".py",
   "mimetype": "text/x-python",
   "name": "python",
   "nbconvert_exporter": "python",
   "pygments_lexer": "ipython3",
   "version": "3.7.4"
  }
 },
 "nbformat": 4,
 "nbformat_minor": 2
}
