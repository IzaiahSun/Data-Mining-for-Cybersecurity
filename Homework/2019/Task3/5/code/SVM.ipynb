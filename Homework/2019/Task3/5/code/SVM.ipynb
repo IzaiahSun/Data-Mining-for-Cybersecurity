{
 "cells": [
  {
   "cell_type": "code",
   "execution_count": 1,
   "metadata": {},
   "outputs": [
    {
     "name": "stderr",
     "output_type": "stream",
     "text": [
      "/Users/leeyn/anaconda3/lib/python3.6/site-packages/sklearn/externals/joblib/__init__.py:15: DeprecationWarning: sklearn.externals.joblib is deprecated in 0.21 and will be removed in 0.23. Please import this functionality directly from joblib, which can be installed with: pip install joblib. If this warning is raised when loading pickled models, you may need to re-serialize those models with scikit-learn 0.21+.\n",
      "  warnings.warn(msg, category=DeprecationWarning)\n"
     ]
    }
   ],
   "source": [
    "import pandas as pd\n",
    "import numpy as np\n",
    "from sklearn.externals import joblib"
   ]
  },
  {
   "cell_type": "code",
   "execution_count": 2,
   "metadata": {},
   "outputs": [
    {
     "name": "stdout",
     "output_type": "stream",
     "text": [
      "31407\n",
      "33426\n"
     ]
    }
   ],
   "source": [
    "def load_data(file):\n",
    "    data = pd.read_csv(file, sep=\"\\n\",header=None)\n",
    "    return data\n",
    "good = load_data('normal.csv')\n",
    "bad = load_data('xssed.csv')\n",
    "print(len(good))\n",
    "print(len(bad))\n"
   ]
  },
  {
   "cell_type": "code",
   "execution_count": 3,
   "metadata": {},
   "outputs": [
    {
     "data": {
      "text/plain": [
       "[2, 0, 0, 4, 4, 0, 0, 0, 2, 2]"
      ]
     },
     "execution_count": 3,
     "metadata": {},
     "output_type": "execute_result"
    }
   ],
   "source": [
    "def get_label_vec(url):\n",
    "    script = str(url).lower().count(\"script\")\n",
    "    java = str(url).lower().count(\"java\")\n",
    "    iframe = str(url).lower().count(\"iframe\")\n",
    "    quot_1 = str(url).lower().count(\"<\")\n",
    "    quot_2 = str(url).lower().count(\">\")\n",
    "    quot_3 = str(url).lower().count(\"\\\"\")\n",
    "    quot_4 = str(url).lower().count(\"\\'\")\n",
    "    quot_5 = str(url).lower().count(\"%\")\n",
    "    quot_6 = str(url).lower().count(\"(\")\n",
    "    quot_7 = str(url).lower().count(\")\")\n",
    "    vec = [script,java,iframe,quot_1,quot_2,quot_3,quot_4,quot_5,quot_6,quot_7]\n",
    "    return vec\n",
    "\n",
    "get_label_vec(\"q=<script>document.write(String.fromCharCode(60, 105, 102, 114, 97,<br/>109, 101, 32, 115, 114, 99, 61, 34, 104, 116, 116, 112, 58, 47, 47, 120, 115, 115, 101, 100, 46, 99,<br/>111, 109, 34, 62))</script>\")"
   ]
  },
  {
   "cell_type": "code",
   "execution_count": 4,
   "metadata": {},
   "outputs": [],
   "source": [
    "from sklearn.model_selection import train_test_split\n",
    "def get_train():\n",
    "    from sklearn import preprocessing\n",
    "    x = pd.concat([good[0],bad[0]])\n",
    "    y = [0]*len(good)+[1]*len(bad)\n",
    "    vec = []\n",
    "    for i in x:\n",
    "        vec.append(get_label_vec(i))\n",
    "    a=preprocessing.scale(vec)\n",
    "    x_train, x_test, y_train, y_test=train_test_split(a,y,test_size=0.3)\n",
    "    return x_train, x_test, y_train, y_test\n",
    "        \n",
    "    \n",
    "  \n",
    "    "
   ]
  },
  {
   "cell_type": "code",
   "execution_count": 5,
   "metadata": {},
   "outputs": [
    {
     "name": "stdout",
     "output_type": "stream",
     "text": [
      "svm训练结果\n",
      "              precision    recall  f1-score   support\n",
      "\n",
      "           0       0.96      1.00      0.98      9450\n",
      "           1       1.00      0.96      0.98     10000\n",
      "\n",
      "    accuracy                           0.98     19450\n",
      "   macro avg       0.98      0.98      0.98     19450\n",
      "weighted avg       0.98      0.98      0.98     19450\n",
      "\n"
     ]
    }
   ],
   "source": [
    "from sklearn import svm\n",
    "from sklearn.metrics import classification_report\n",
    "def do_svm(x_train,x_test,y_train,y_test):\n",
    "    clf = svm.SVC(kernel='rbf',decision_function_shape=\"ovo\",random_state=0,gamma=0.001,C=100, probability=True)\n",
    "    clf.fit(x_train, y_train)\n",
    "    joblib.dump(clf,'svm.m')\n",
    "    y_pred = clf.predict(x_test)\n",
    "    print(\"svm训练结果\")\n",
    "    print(classification_report(y_test, y_pred))\n",
    "\n",
    "\n",
    "x_train, x_test, y_train, y_test=get_train() \n",
    "do_svm(x_train,x_test,y_train,y_test)"
   ]
  },
  {
   "cell_type": "code",
   "execution_count": 7,
   "metadata": {},
   "outputs": [
    {
     "name": "stdout",
     "output_type": "stream",
     "text": [
      "XSS\n"
     ]
    }
   ],
   "source": [
    "def test(model,url):\n",
    "    clf = joblib.load(model)\n",
    "    vec = get_label_vec(url)\n",
    "    result = clf.predict(np.array(vec).reshape(1,-1))\n",
    "\n",
    "    if result == 0:\n",
    "        print(\"Normal\")\n",
    "    else:\n",
    "        print(\"XSS\")\n",
    "test(\"svm.m\",\"search_text=/\"\"><script>alert(1)</script>&I1.x=12&I1.y=14\")"
   ]
  },
  {
   "cell_type": "code",
   "execution_count": null,
   "metadata": {},
   "outputs": [],
   "source": []
  }
 ],
 "metadata": {
  "kernelspec": {
   "display_name": "Python 3",
   "language": "python",
   "name": "python3"
  },
  "language_info": {
   "codemirror_mode": {
    "name": "ipython",
    "version": 3
   },
   "file_extension": ".py",
   "mimetype": "text/x-python",
   "name": "python",
   "nbconvert_exporter": "python",
   "pygments_lexer": "ipython3",
   "version": "3.6.8"
  }
 },
 "nbformat": 4,
 "nbformat_minor": 2
}
