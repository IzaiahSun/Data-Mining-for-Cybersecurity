{
 "cells": [
  {
   "cell_type": "markdown",
   "metadata": {},
   "source": [
    "# XSS Dectection Based On Heuristic Method"
   ]
  },
  {
   "cell_type": "markdown",
   "metadata": {},
   "source": [
    "## Method of Cleaning data And Extracting features"
   ]
  },
  {
   "cell_type": "code",
   "execution_count": 41,
   "metadata": {},
   "outputs": [],
   "source": [
    "######## clean data ########\n",
    "def to_lower_case(obj):\n",
    "    return obj.lower()\n",
    "\n",
    "def remove_line_break(obj):\n",
    "    return obj.replace(\"<br/>\", \"\")\n",
    "\n",
    "def clean(obj):\n",
    "    obj = to_lower_case(obj)\n",
    "    obj = remove_line_break(obj)\n",
    "    return obj\n",
    "\n",
    "######## extract feature ########\n",
    "def is_angle_brackets_closed(obj):\n",
    "    left = 0\n",
    "    right = 0\n",
    "    for c in obj:\n",
    "        if(c == '<'):\n",
    "            left += 1\n",
    "        elif(c == '>'):\n",
    "            right += 1\n",
    "    return 1 if (left == right) else 0\n",
    "\n",
    "def has_pop_up_window(obj):\n",
    "    return 1 if(\"alert\" in obj) else 0\n",
    "\n",
    "def length(obj):\n",
    "    return len(obj)\n",
    "\n",
    "def is_script_embedded(obj):\n",
    "    flag = 0\n",
    "    if((obj.count(\"script\") % 2) == 0):\n",
    "        flag = 1\n",
    "    elif(obj.count(\"javascript:\")):\n",
    "        flag = 1\n",
    "    return flag\n",
    "\n",
    "def has_iframe(obj):\n",
    "    return 1 if \"iframe\" in obj else 0\n",
    "\n",
    "def per_cent_sign_num(obj):\n",
    "    return obj.count(\"%\")\n",
    "\n",
    "def has_backslash(obj):\n",
    "    return 1 if \"\\\\\" in obj else 0\n",
    "\n",
    "def has_closed_sign(obj):\n",
    "    return 1 if \"=\\'\" in obj else 0\n",
    "\n",
    "def has_document_cookie(obj):\n",
    "    return 1 if \"document.cookie\" in obj else 0\n",
    "\n",
    "\n",
    "######## interface for user ########\n",
    "def characterize(obj):\n",
    "    obj = clean(obj)\n",
    "    features = [is_angle_brackets_closed(obj),\n",
    "                has_pop_up_window(obj), has_iframe(obj),\n",
    "               is_script_embedded(obj), length(obj),\n",
    "               per_cent_sign_num(obj), has_backslash(obj),\n",
    "               has_closed_sign(obj), has_document_cookie(obj)]\n",
    "    return features\n",
    "\n"
   ]
  },
  {
   "cell_type": "markdown",
   "metadata": {},
   "source": [
    "## Load Raw Data"
   ]
  },
  {
   "cell_type": "code",
   "execution_count": 42,
   "metadata": {},
   "outputs": [],
   "source": [
    "import pandas as pd\n",
    "\n",
    "normal = pd.read_csv(\"./dmzo_nomal.csv\")\n",
    "xssed = pd.read_csv(\"./xssed.csv\")\n",
    "\n",
    "raw_data_xssed = xssed.iloc[:,0].values\n",
    "raw_data_normal = normal.iloc[:,0].values"
   ]
  },
  {
   "cell_type": "markdown",
   "metadata": {},
   "source": [
    "## Characterize Data"
   ]
  },
  {
   "cell_type": "code",
   "execution_count": 43,
   "metadata": {},
   "outputs": [],
   "source": [
    "features = []\n",
    "labels = []\n",
    "\n",
    "for data in raw_data_xssed:\n",
    "    features.append(characterize(data))\n",
    "    labels.append(1)\n",
    "\n",
    "for data in raw_data_normal:\n",
    "    features.append(characterize(data))\n",
    "    labels.append(0)"
   ]
  },
  {
   "cell_type": "markdown",
   "metadata": {},
   "source": [
    "## Training Data"
   ]
  },
  {
   "cell_type": "code",
   "execution_count": 44,
   "metadata": {},
   "outputs": [
    {
     "name": "stdout",
     "output_type": "stream",
     "text": [
      "accuracy_score: 0.9933263816475495\n",
      "recall_score: 0.9585429663916281\n"
     ]
    }
   ],
   "source": [
    "from sklearn.ensemble import RandomForestClassifier\n",
    "from sklearn.model_selection import train_test_split\n",
    "from sklearn.metrics import precision_score, recall_score\n",
    "\n",
    "train_X, test_X, train_y, test_y = train_test_split(features, labels, test_size=0.3, random_state=0)\n",
    "clf = RandomForestClassifier()\n",
    "clf.fit(train_X, train_y)\n",
    "pred_y = clf.predict(test_X)\n",
    "print(\"precision_score:\", precision_score(y_true=test_y, y_pred=pred_y))\n",
    "print(\"recall_score:\", recall_score(y_true=test_y, y_pred=pred_y))"
   ]
  },
  {
   "cell_type": "markdown",
   "metadata": {},
   "source": [
    "## Model App"
   ]
  },
  {
   "cell_type": "code",
   "execution_count": 45,
   "metadata": {},
   "outputs": [],
   "source": [
    "def pop_up_box():\n",
    "    \"\"\"\n",
    "    使用tkinter弹出输入框输入data, 输出result\n",
    "    \"\"\"\n",
    "\n",
    "    import tkinter\n",
    "\n",
    "    \n",
    "    def inputint():\n",
    "        nonlocal test_data\n",
    "        test_data = var.get().strip()\n",
    "        test = []\n",
    "        test.append(characterize(test_data))\n",
    "        if clf.predict(test)[0]:\n",
    "            l.config(text=\"xss dectected\")\n",
    "        else:\n",
    "            l.config(text=\"no xss found\")\n",
    "        var.set('')\n",
    "        test_data = ''\n",
    "\n",
    "    test_data = 0\n",
    "    root = tkinter.Tk(className='Here is some interpretation')  # 弹出框框名\n",
    "    root.geometry('270x60')     # 设置弹出框的大小 w x h\n",
    "\n",
    "    var = tkinter.StringVar()   # 这即是输入框中的内容\n",
    "    var.set('<img src=\\'#\\' onerror=javascript:alert(1)>') # 通过var.get()/var.set() 来 获取/设置var的值\n",
    "    entry1 = tkinter.Entry(root, textvariable=var)  # 设置\"文本变量\"为var\n",
    "    entry1.pack()   # 将entry\"打上去\"\n",
    "    l =tkinter.Label(root, bg = 'yellow', width = 20, text = '')\n",
    "    l.pack()\n",
    "    btn1 = tkinter.Button(root, text='Input', command=inputint)     # 按下此按钮(Input), 触发inputint函数\n",
    "\n",
    "    # 按钮定位\n",
    "    btn1.pack(side='right')\n",
    "\n",
    "    # 上述完成之后, 开始真正弹出弹出框\n",
    "    root.mainloop()"
   ]
  },
  {
   "cell_type": "code",
   "execution_count": 46,
   "metadata": {},
   "outputs": [],
   "source": [
    "pop_up_box()"
   ]
  }
 ],
 "metadata": {
  "kernelspec": {
   "display_name": "Python 3",
   "language": "python",
   "name": "python3"
  },
  "language_info": {
   "codemirror_mode": {
    "name": "ipython",
    "version": 3
   },
   "file_extension": ".py",
   "mimetype": "text/x-python",
   "name": "python",
   "nbconvert_exporter": "python",
   "pygments_lexer": "ipython3",
   "version": "3.6.5"
  },
  "toc": {
   "base_numbering": 1,
   "nav_menu": {},
   "number_sections": true,
   "sideBar": true,
   "skip_h1_title": false,
   "title_cell": "Table of Contents",
   "title_sidebar": "Contents",
   "toc_cell": false,
   "toc_position": {},
   "toc_section_display": true,
   "toc_window_display": false
  }
 },
 "nbformat": 4,
 "nbformat_minor": 2
}
