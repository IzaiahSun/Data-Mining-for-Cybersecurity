{
 "cells": [
  {
   "cell_type": "code",
   "execution_count": 1,
   "metadata": {
    "collapsed": true,
    "pycharm": {
     "is_executing": false
    }
   },
   "outputs": [
    {
     "name": "stderr",
     "text": [
      "/Users/greglamex/anaconda3/envs/scikit-learn/lib/python3.7/site-packages/sklearn/externals/joblib/__init__.py:15: DeprecationWarning: sklearn.externals.joblib is deprecated in 0.21 and will be removed in 0.23. Please import this functionality directly from joblib, which can be installed with: pip install joblib. If this warning is raised when loading pickled models, you may need to re-serialize those models with scikit-learn 0.21+.\n  warnings.warn(msg, category=DeprecationWarning)\n"
     ],
     "output_type": "stream"
    }
   ],
   "source": [
    "# -*- coding: utf-8 -*-\n",
    "\"\"\"\n",
    "Created on Wed Oct  9 15:33:37 2019\n",
    "\n",
    "@author: Birdman\n",
    "\"\"\" \n",
    "\n",
    "from sklearn import tree\n",
    "import numpy as np\n",
    "from sklearn.model_selection import train_test_split\n",
    "from sklearn.preprocessing import StandardScaler\n",
    "from sklearn.externals import joblib\n",
    "from sklearn.metrics import precision_score, recall_score\n",
    "import csv"
   ]
  },
  {
   "cell_type": "code",
   "execution_count": 2,
   "outputs": [],
   "source": [
    "def get_features(temp,xss):\n",
    "    temp.append(xss.lower().count(\"script\"))\n",
    "    temp.append(xss.lower().count(\"java\"))\n",
    "    temp.append(xss.lower().count(\"iframe\"))\n",
    "    temp.append(xss.lower().count(\"<\"))\n",
    "    temp.append(xss.lower().count(\">\"))\n",
    "    temp.append(xss.lower().count(\"\\\"\"))\n",
    "    temp.append(xss.lower().count(\"\\'\"))\n",
    "    temp.append(xss.lower().count(\"%\"))\n",
    "    temp.append(xss.lower().count(\"(\"))\n",
    "    temp.append(xss.lower().count(\")\"))\n",
    "    return temp"
   ],
   "metadata": {
    "collapsed": false,
    "pycharm": {
     "name": "#%%\n",
     "is_executing": false
    }
   }
  },
  {
   "cell_type": "code",
   "execution_count": 3,
   "outputs": [
    {
     "name": "stdout",
     "text": [
      "***************start****************\n**************saveing***************\nTraining score:0.982615\nTesting score:0.981542\nTraining precision score:0.997094\nTraining recall score:0.966690\ntest result:  BAD\n"
     ],
     "output_type": "stream"
    }
   ],
   "source": [
    "if __name__ == '__main__':\n",
    "    xss=[]\n",
    "    label = []\n",
    "    temp = []\n",
    "    data = []\n",
    "    LaBel = []\n",
    "    \n",
    "    with open(r'xssed.csv','r',encoding=\"utf-8\") as csvfile:\n",
    "        csv_reader = csv.reader(csvfile)\n",
    "        for row in csv_reader:\n",
    "            xss.append(row[0])\n",
    "            label.append(1)\n",
    "        csvfile.close()\n",
    "    with open(r'dmzo_nomal.csv','r',encoding=\"utf-8\") as csvfile:\n",
    "        csv_reader = csv.reader(csvfile)\n",
    "        for row in csv_reader:\n",
    "            xss.append(row[0])\n",
    "            label.append(0)\n",
    "        csvfile.close()\n",
    "\n",
    "    \n",
    "    for i in range(0,len(xss)):\n",
    "        temp = get_features(temp,xss[i])\n",
    "        data.append(temp)\n",
    "        LaBel.append(label[i])\n",
    "        temp = []\n",
    "    \n",
    "    data=np.array(data)\n",
    "    LaBel=np.array(LaBel)\n",
    "    \n",
    "    #print(data[:10])\n",
    "    #print(LaBel[:10])\n",
    "    \n",
    "    X_train,X_test,y_train,y_test=train_test_split(data,LaBel,test_size=0.3,random_state=0)\n",
    "    sc = StandardScaler()\n",
    "\n",
    "    sc.fit(X_train)\n",
    "    #对数据集进行处理\n",
    "    xss_tree = tree.DecisionTreeClassifier(criterion='gini', splitter='best', max_depth=None, min_samples_split=2, \n",
    "    min_samples_leaf=1, min_weight_fraction_leaf=0.0, max_features=10, random_state=None, max_leaf_nodes=None,\n",
    "    min_impurity_decrease=0.0, min_impurity_split=None, presort=False)\n",
    "        \n",
    "\n",
    "    print(\"***************start****************\")\n",
    "    xss_tree_save=xss_tree.fit(X_train,y_train)\n",
    "    print(\"**************saveing***************\")\n",
    "    # joblib.dump(xss_tree_save,'url_tree.model')\n",
    "    print(\"Training score:%f\" % (xss_tree.score(X_train, y_train)))\n",
    "    print(\"Testing score:%f\" % (xss_tree.score(X_test, y_test)))\n",
    "    \n",
    "    y_pred = xss_tree.predict(X_test)\n",
    "    print(\"Training precision score:%f\" % (precision_score(y_test, y_pred)))\n",
    "    print(\"Training recall score:%f\" % (recall_score(y_test, y_pred)))\n",
    "    #test\n",
    "\n",
    "    xss=\"<script>alert('1')</script>\"\n",
    "    test=[]\n",
    "    test = np.array(get_features(test,xss))\n",
    "    if xss_tree.predict([test]) == 1:\n",
    "        print(\"test result:  BAD\")\n",
    "    else:\n",
    "        print(\"test result:  GOOD\")\n"
   ],
   "metadata": {
    "collapsed": false,
    "pycharm": {
     "name": "#%%\n",
     "is_executing": false
    }
   }
  }
 ],
 "metadata": {
  "kernelspec": {
   "display_name": "Python 3",
   "language": "python",
   "name": "python3"
  },
  "language_info": {
   "codemirror_mode": {
    "name": "ipython",
    "version": 2
   },
   "file_extension": ".py",
   "mimetype": "text/x-python",
   "name": "python",
   "nbconvert_exporter": "python",
   "pygments_lexer": "ipython2",
   "version": "2.7.6"
  },
  "pycharm": {
   "stem_cell": {
    "cell_type": "raw",
    "source": [],
    "metadata": {
     "collapsed": false
    }
   }
  }
 },
 "nbformat": 4,
 "nbformat_minor": 0
}
