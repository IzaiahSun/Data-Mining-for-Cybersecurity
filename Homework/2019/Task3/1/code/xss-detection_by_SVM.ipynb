{
 "cells": [
  {
   "cell_type": "code",
   "execution_count": 1,
   "metadata": {},
   "outputs": [],
   "source": [
    "import numpy as np\n",
    "import csv\n",
    "from sklearn.model_selection import train_test_split\n",
    "from sklearn.svm import SVC\n",
    "from sklearn.metrics import accuracy_score\n",
    "import joblib\n",
    "from sklearn.preprocessing import StandardScaler\n",
    "import re"
   ]
  },
  {
   "cell_type": "code",
   "execution_count": 3,
   "metadata": {},
   "outputs": [],
   "source": [
    "badlist = []\n",
    "goodlist = []\n",
    "with open(\"xssed.csv\") as f:\n",
    "    f_csv = csv.reader(f)\n",
    "    for row in f_csv:\n",
    "        bad = row[0]\n",
    "        badlist.append([count_xss(bad)[i] for i in range(10)] + [ifkeyword(bad)[i] for i in range(8)] + [length(bad)] + [encoding_detect(bad)])\n",
    "with open(\"dmzo_nomal.csv\") as f:\n",
    "    f_csv = csv.reader(f)\n",
    "    for row in f_csv:\n",
    "        good = row[0]\n",
    "        goodlist.append([count_xss(good)[i] for i in range(10)] + [ifkeyword(good)[i] for i in range(8)] + [length(good)] + [encoding_detect(good)])"
   ]
  },
  {
   "cell_type": "code",
   "execution_count": 17,
   "metadata": {},
   "outputs": [],
   "source": [
    "def count_xss(script):\n",
    "    # 10维向量\n",
    "    xss_strlist = [\"java\", \"script\", \"iframe\", \"<\", \">\", \"\\\"\", \"\\'\", \"%\", \"(\", \")\"]\n",
    "    return [script.lower().count(i) for i in xss_strlist]\n",
    "\n",
    "\n",
    "def ifkeyword(script):\n",
    "    # 8维向量\n",
    "    keyword_list = [\"info=\", \"userinfo=\", \"id=\", \"password=\", \"passwd=\", \"pid=\", \"email=\", \"cid=\"]\n",
    "    tmp_result = [keyword in script for keyword in keyword_list]\n",
    "    result = []\n",
    "    for tf in tmp_result:\n",
    "        if tf:\n",
    "            result.append(1)\n",
    "        else:\n",
    "            result.append(0)\n",
    "    return result\n",
    "\n",
    "\n",
    "def length(script):\n",
    "    # 值\n",
    "    return len(script)\n",
    "\n",
    "\n",
    "def encoding_detect(script):\n",
    "    # 值\n",
    "    result = 0\n",
    "    re_para_list = [\"&[0-9A-F]{2}[^0-9A-F]\", \"#[0-9A-F]{2}[^0-9A-F]\", \"%[0-9A-F]{2}[^0-9A-F]\", \"\\\\\\\\x[0-9A-F]{2}[^0-9A-F]\"]\n",
    "    for item in re_para_list:\n",
    "        if re.search(item, script):\n",
    "            result += 1\n",
    "        else:\n",
    "            result += 0\n",
    "    return result\n",
    "\n",
    "\n",
    "def result(script): \n",
    "    return [count_xss(script)[i] for i in range(10)] + [ifkeyword(script)[i] for i in range(8)] + [length(script)] + [encoding_detect(script)]\n",
    "\n"
   ]
  },
  {
   "cell_type": "code",
   "execution_count": 5,
   "metadata": {},
   "outputs": [
    {
     "name": "stdout",
     "output_type": "stream",
     "text": [
      "0.9848858729179519\n"
     ]
    }
   ],
   "source": [
    "if __name__ == '__main__':\n",
    "\n",
    "    list = badlist + goodlist\n",
    "    matrix = np.array(list)\n",
    "    # bad = 0, good = 1\n",
    "    label = []\n",
    "    for i in range(len(badlist)):\n",
    "        label.append(0)\n",
    "    for i in range(len(goodlist)):\n",
    "        label.append(1)\n",
    "\n",
    "    sc = StandardScaler()\n",
    "\n",
    "    X_train, X_test, y_train, y_test = train_test_split(matrix, label, test_size=0.1)\n",
    "\n",
    "    sc.fit(X_train)\n",
    "\n",
    "    X_train_std = sc.transform(X_train)\n",
    "    X_test_std = sc.transform(X_test)\n",
    "\n",
    "    svm = SVC(kernel=\"rbf\", random_state=1, C=0.9,gamma=1, max_iter=100000)\n",
    "    svm.fit(X_train_std, y_train)\n",
    "\n",
    "    joblib.dump(svm, \"svm_model\")\n",
    "\n",
    "    y_pred = svm.predict(X_test_std)\n",
    "    print(accuracy_score(y_test, y_pred))"
   ]
  },
  {
   "cell_type": "code",
   "execution_count": 6,
   "metadata": {},
   "outputs": [],
   "source": [
    "# 0.98396 gamma=0.2\n",
    "# 0.98489 gamma=1\n",
    "# 0.98396 gamma=10\n",
    "# 0.98226 gamma=100\n",
    "# 0.98118 gamma=“auto”\n",
    "# 0.98273 gamma=“scale”"
   ]
  }
 ],
 "metadata": {
  "kernelspec": {
   "display_name": "Python 3",
   "language": "python",
   "name": "python3"
  },
  "language_info": {
   "codemirror_mode": {
    "name": "ipython",
    "version": 3
   },
   "file_extension": ".py",
   "mimetype": "text/x-python",
   "name": "python",
   "nbconvert_exporter": "python",
   "pygments_lexer": "ipython3",
   "version": "3.7.3"
  }
 },
 "nbformat": 4,
 "nbformat_minor": 2
}
