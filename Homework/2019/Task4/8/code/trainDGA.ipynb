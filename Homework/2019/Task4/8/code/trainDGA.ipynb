{
 "cells": [
  {
   "cell_type": "code",
   "execution_count": 1,
   "metadata": {
    "collapsed": true,
    "pycharm": {
     "is_executing": false
    }
   },
   "outputs": [
    {
     "name": "stderr",
     "text": [
      "/Users/greglamex/anaconda3/envs/scikit-learn/lib/python3.7/site-packages/sklearn/externals/joblib/__init__.py:15: DeprecationWarning: sklearn.externals.joblib is deprecated in 0.21 and will be removed in 0.23. Please import this functionality directly from joblib, which can be installed with: pip install joblib. If this warning is raised when loading pickled models, you may need to re-serialize those models with scikit-learn 0.21+.\n  warnings.warn(msg, category=DeprecationWarning)\n"
     ],
     "output_type": "stream"
    }
   ],
   "source": [
    "# -*- coding: utf-8 -*-\n",
    "\"\"\"\n",
    "Created on Mon Oct 28 20:52:23 2019\n",
    "\n",
    "@author: Birdman\n",
    "\"\"\"\n",
    "\n",
    "# -*- coding: utf-8 -*-\n",
    "\"\"\"\n",
    "Created on Wed Sep 25 15:50:06 2019\n",
    "\n",
    "@author: Birdman\n",
    "\"\"\"\n",
    "\n",
    "from nltk.collocations import BigramCollocationFinder\n",
    "from nltk.collocations import TrigramCollocationFinder\n",
    "import nltk\n",
    "from sklearn import tree\n",
    "import numpy as np\n",
    "from sklearn.model_selection import train_test_split\n",
    "from sklearn.model_selection import cross_val_score\n",
    "from sklearn.preprocessing import StandardScaler\n",
    "from sklearn.externals import joblib\n",
    "from sklearn.metrics import precision_score, recall_score,accuracy_score\n",
    "import csv\n",
    "import pandas as pd\n",
    "\n",
    "con_alpha = ['b','c','d','f','g','h','j','k','l','m','n','p','q','r','s','t','v','w','x','y','z']#辅音字母\n",
    "Uni_alpha = ['a','e','i','o','u']#元音字母"
   ]
  },
  {
   "cell_type": "code",
   "execution_count": 2,
   "outputs": [],
   "source": [
    "def get_bigram(url):\n",
    "    \n",
    "    bigram_finder = BigramCollocationFinder.from_words(url)\n",
    "    bigram_BAM = nltk.collocations.BigramAssocMeasures()\n",
    "    bi_scored = bigram_finder.score_ngrams(bigram_BAM.pmi)\n",
    "    #print(scored)\n",
    "    result = 0\n",
    "    for i in bi_scored:\n",
    "        result = result + i[1]\n",
    "    return int(result)\n",
    "    "
   ],
   "metadata": {
    "collapsed": false,
    "pycharm": {
     "name": "#%%\n",
     "is_executing": false
    }
   }
  },
  {
   "cell_type": "code",
   "execution_count": 3,
   "outputs": [],
   "source": [
    "def get_trigram(url):\n",
    "    \n",
    "    trigram_finder = TrigramCollocationFinder.from_words(url)\n",
    "    trigram_TAM = nltk.collocations.TrigramAssocMeasures()\n",
    "    scored = trigram_finder.score_ngrams(trigram_TAM.poisson_stirling)\n",
    "    result = 0\n",
    "    for i in scored:\n",
    "        result = result + i[1]\n",
    "    return int(result)"
   ],
   "metadata": {
    "collapsed": false,
    "pycharm": {
     "name": "#%%\n",
     "is_executing": false
    }
   }
  },
  {
   "cell_type": "code",
   "execution_count": 4,
   "outputs": [],
   "source": [
    "def if_or_not_in_con_alpha(index):\n",
    "    if index in con_alpha:\n",
    "        return 1\n",
    "    else:\n",
    "        return 0\n",
    "    "
   ],
   "metadata": {
    "collapsed": false,
    "pycharm": {
     "name": "#%%\n",
     "is_executing": false
    }
   }
  },
  {
   "cell_type": "code",
   "execution_count": 5,
   "outputs": [],
   "source": [
    "#计算元音字母出现频率\n",
    "def count_uni_alpha(url):\n",
    "    i = 0\n",
    "    for index in Uni_alpha:\n",
    "        i = i + url.count(index)\n",
    "    return(i/(len(url)))\n",
    "    "
   ],
   "metadata": {
    "collapsed": false,
    "pycharm": {
     "name": "#%%\n",
     "is_executing": false
    }
   }
  },
  {
   "cell_type": "code",
   "execution_count": 6,
   "outputs": [],
   "source": [
    "#计算元音字母出现频率\n",
    "def count_con_alpha(url):\n",
    "    total = 0\n",
    "    for index in range(0,len(url)):\n",
    "        while if_or_not_in_con_alpha(url[index]) == 1 and index <len(url)-1:\n",
    "            index = index + 1\n",
    "            if if_or_not_in_con_alpha(url[index]) == 0 or index == len(url)-1:\n",
    "                total = total + 1\n",
    "                break\n",
    "    return(total)"
   ],
   "metadata": {
    "collapsed": false,
    "pycharm": {
     "name": "#%%\n",
     "is_executing": false
    }
   }
  },
  {
   "cell_type": "code",
   "execution_count": 7,
   "outputs": [],
   "source": [
    "#统计url中数字出现的次数\n",
    "def count_number(url):\n",
    "    total = 0\n",
    "    for i in url:\n",
    "        if ord(i)>=48 and ord(i)<=57:\n",
    "            total = total + 1\n",
    "    return(total)"
   ],
   "metadata": {
    "collapsed": false,
    "pycharm": {
     "name": "#%%\n",
     "is_executing": false
    }
   }
  },
  {
   "cell_type": "code",
   "execution_count": 8,
   "outputs": [],
   "source": [
    "#信息熵\n",
    "def calc_ent(url):\n",
    "    data = []\n",
    "    for i in url:\n",
    "        data.append(i)\n",
    "    x = np.array(data)\n",
    "    x_value_list = set([x[i] for i in range(x.shape[0])])#得到数组x的元素（不包含重复元素），即x_value_list={'c', 'b', 'a'}\n",
    "    ent = 0.0\n",
    "    for x_value in x_value_list:\n",
    "        p = float(x[x == x_value].shape[0]) / x.shape[0]#计算每个元素出现的概率\n",
    "        logp = np.log2(p)\n",
    "        ent -= p * logp\n",
    "    return(ent)"
   ],
   "metadata": {
    "collapsed": false,
    "pycharm": {
     "name": "#%%\n",
     "is_executing": false
    }
   }
  },
  {
   "cell_type": "code",
   "execution_count": 9,
   "outputs": [],
   "source": [
    "def url_length(url):\n",
    "    return(len(url))"
   ],
   "metadata": {
    "collapsed": false,
    "pycharm": {
     "name": "#%%\n",
     "is_executing": false
    }
   }
  },
  {
   "cell_type": "code",
   "execution_count": 10,
   "outputs": [],
   "source": [
    "def get_features(temp,url):\n",
    "    temp.append(calc_ent(url))\n",
    "    temp.append(count_uni_alpha(url))\n",
    "    temp.append(count_con_alpha((url)))\n",
    "    temp.append(count_number(url))\n",
    "    temp.append(url_length(url))\n",
    "    temp.append(get_bigram(url))\n",
    "    temp.append(get_trigram(url))\n",
    "    return temp"
   ],
   "metadata": {
    "collapsed": false,
    "pycharm": {
     "name": "#%%\n",
     "is_executing": false
    }
   }
  },
  {
   "cell_type": "code",
   "execution_count": 11,
   "outputs": [
    {
     "name": "stdout",
     "text": [
      "[[  3.45943162   0.27272727   6.           0.          11.\n   34.          53.        ]\n [  3.879664     0.31818182  11.           0.          22.\n   69.         123.        ]\n [  3.75         0.25         9.           0.          16.\n   52.          87.        ]\n [  3.97541802   0.23809524  12.           0.          21.\n   71.         124.        ]\n [  2.64643934   0.4          4.           0.          10.\n   17.          30.        ]\n [  3.02698683   0.30769231   7.           0.          13.\n   28.          49.        ]\n [  3.61634857   0.36842105   9.           0.          19.\n   53.          94.        ]\n [  2.84237099   0.28571429   7.           0.          14.\n   24.          45.        ]\n [  3.37355726   0.2          9.           0.          15.\n   39.          67.        ]\n [  3.68418372   0.2         12.           0.          20.\n   56.         100.        ]\n [  3.68385619   0.16        16.           0.          25.\n   64.         122.        ]\n [  3.73452166   0.35294118   9.           0.          17.\n   54.          92.        ]\n [  3.81008102   0.37037037  14.           0.          27.\n   74.         142.        ]\n [  3.79508859   0.26086957  14.           0.          23.\n   67.         122.        ]\n [  3.35020903   0.33333333   9.           0.          18.\n   42.          77.        ]\n [  3.5068906    0.33333333   8.           0.          15.\n   42.          71.        ]\n [  3.61687461   0.29411765   9.           0.          17.\n   49.          85.        ]\n [  3.02205521   0.41666667   5.           0.          12.\n   25.          43.        ]\n [  3.           0.375        3.           0.           8.\n   21.          30.        ]\n [  3.68354236   0.33333333   9.           0.          18.\n   53.          92.        ]\n [  4.10390991   0.23076923  14.           2.          26.\n   87.         158.        ]\n [  2.94770278   0.33333333   4.           0.           9.\n   21.          32.        ]\n [  3.47135449   0.31578947   9.           1.          19.\n   47.          87.        ]\n [  3.82453341   0.29032258  17.           0.          31.\n   79.         160.        ]\n [  3.72620463   0.33333333  14.           0.          27.\n   69.         135.        ]]\n[0 0 0 0 0 0 0 0 0 0 0 0 0 0 0 0 0 0 0 0 0 0 0 0 0]\n"
     ],
     "output_type": "stream"
    }
   ],
   "source": [
    "url = []\n",
    "label = []\n",
    "temp = []\n",
    "data = []\n",
    "LaBel = []\n",
    "\n",
    "with open(r'top-1m.csv', 'r', encoding=\"utf-8\") as csvfile:\n",
    "    reader = csv.DictReader(csvfile)\n",
    "    for row in reader:\n",
    "        url.append(row['url'])\n",
    "        label.append(0)  # 健康域名\n",
    "    csvfile.close()\n",
    "with open(r'dga.csv', 'r', encoding=\"utf-8\") as csvfile:\n",
    "    reader = csv.DictReader(csvfile)\n",
    "    for row in reader:\n",
    "        url.append(row['url'])\n",
    "        label.append(1)  # dga域名\n",
    "    csvfile.close()\n",
    "\n",
    "# print(url[:10])\n",
    "# print(label[:10])\n",
    "\n",
    "for i in range(0, len(url)):\n",
    "    # for i in range(0,10):\n",
    "    temp = get_features(temp, url[i])\n",
    "    data.append(temp)\n",
    "    LaBel.append(label[i])\n",
    "    temp = []\n",
    "\n",
    "data = np.array(data)\n",
    "LaBel = np.array(LaBel)\n",
    "# 保存特征数据\n",
    "\n",
    "print(data[:25])\n",
    "print(LaBel[:25])\n"
   ],
   "metadata": {
    "collapsed": false,
    "pycharm": {
     "name": "#%%\n",
     "is_executing": false
    }
   }
  },
  {
   "cell_type": "code",
   "execution_count": 12,
   "outputs": [
    {
     "name": "stdout",
     "text": [
      "***************start****************\n",
      "[0.89989996 0.95031416 0.6137503  0.63379148 0.68794202]\n"
     ],
     "output_type": "stream"
    }
   ],
   "source": [
    "# test\n",
    "X_train, X_test, y_train, y_test = train_test_split(data, LaBel, test_size=0.3, random_state=0)\n",
    "sc = StandardScaler()\n",
    "sc.fit(X_train)\n",
    "# 对数据集进行处理\n",
    "dga_tree = tree.DecisionTreeClassifier(criterion='gini', splitter='best', max_depth=None, min_samples_split=2,\n",
    "                                       min_samples_leaf=1, min_weight_fraction_leaf=0.0, max_features=7,\n",
    "                                       random_state=None, max_leaf_nodes=None,\n",
    "                                       min_impurity_decrease=0.0, min_impurity_split=None, presort=False)\n",
    "\n",
    "print(\"***************start****************\")\n",
    "\n",
    "dga_tree_save = dga_tree.fit(X_train, y_train)\n",
    "score = cross_val_score(dga_tree, data, LaBel, cv=5)\n",
    "print(score)\n",
    "\n",
    "\n",
    "\n"
   ],
   "metadata": {
    "collapsed": false,
    "pycharm": {
     "name": "#%%\n",
     "is_executing": false
    }
   }
  },
  {
   "cell_type": "code",
   "execution_count": 13,
   "outputs": [
    {
     "name": "stdout",
     "text": [
      "**************saveing***************\n",
      "Training score:0.959589\n",
      "Testing score:0.948114\n",
      "Testing precision score:0.948114\n",
      "Testing precision score:0.953263\n",
      "Testing recall score:0.952393\n"
     ],
     "output_type": "stream"
    }
   ],
   "source": [
    "print(\"**************saveing***************\")\n",
    "# joblib.dump(dga_tree_save,'C:/Users/Birdman/Desktop/data/dga/dga.model')\n",
    "print(\"Training score:%f\" % (dga_tree.score(X_train, y_train)))\n",
    "print(\"Testing score:%f\" % (dga_tree.score(X_test, y_test)))\n",
    "y_pred = dga_tree.predict(X_test)\n",
    "print(\"Testing precision score:%f\" % (accuracy_score(y_test, y_pred)))\n",
    "print(\"Testing precision score:%f\" % (precision_score(y_test, y_pred)))\n",
    "print(\"Testing recall score:%f\" % (recall_score(y_test, y_pred)))\n"
   ],
   "metadata": {
    "collapsed": false,
    "pycharm": {
     "name": "#%%\n",
     "is_executing": false
    }
   }
  }
 ],
 "metadata": {
  "kernelspec": {
   "display_name": "Python 3",
   "language": "python",
   "name": "python3"
  },
  "language_info": {
   "codemirror_mode": {
    "name": "ipython",
    "version": 2
   },
   "file_extension": ".py",
   "mimetype": "text/x-python",
   "name": "python",
   "nbconvert_exporter": "python",
   "pygments_lexer": "ipython2",
   "version": "2.7.6"
  },
  "pycharm": {
   "stem_cell": {
    "cell_type": "raw",
    "source": [],
    "metadata": {
     "collapsed": false
    }
   }
  }
 },
 "nbformat": 4,
 "nbformat_minor": 0
}
