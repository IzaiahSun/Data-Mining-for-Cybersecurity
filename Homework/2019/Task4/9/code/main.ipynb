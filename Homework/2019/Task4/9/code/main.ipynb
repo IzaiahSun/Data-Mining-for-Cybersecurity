{
 "cells": [
  {
   "cell_type": "code",
   "execution_count": 1,
   "metadata": {
    "scrolled": true
   },
   "outputs": [],
   "source": [
    "from sklearn import datasets\n",
    "import numpy as np\n",
    "import pandas as pd\n",
    "import string\n",
    "import math\n",
    "import pickle\n",
    "import re\n",
    "import os"
   ]
  },
  {
   "cell_type": "markdown",
   "metadata": {},
   "source": [
    "# 数据处理"
   ]
  },
  {
   "cell_type": "markdown",
   "metadata": {},
   "source": [
    "### 马尔科夫链"
   ]
  },
  {
   "cell_type": "code",
   "execution_count": 2,
   "metadata": {},
   "outputs": [],
   "source": [
    "accepted_chars = 'abcdefghijklmnopqrstuvwxyz '\n",
    "\n",
    "pos = dict([(char, idx) for idx, char in enumerate(accepted_chars)])\n",
    "\n",
    "def normalize(line):\n",
    "    return [c.lower() for c in line if c.lower() in accepted_chars]\n",
    "\n",
    "def ngram(n, l):\n",
    "    filtered = normalize(l)\n",
    "    for start in range(0, len(filtered) - n + 1):\n",
    "        yield ''.join(filtered[start:start + n])\n",
    "\n",
    "def train():\n",
    "    k = len(accepted_chars)\n",
    "    counts = [[10 for i in range(k)] for i in range(k)]\n",
    "    for line in open('big.txt'):\n",
    "        for a, b in ngram(2, line):\n",
    "            counts[pos[a]][pos[b]] += 1\n",
    "    for i, row in enumerate(counts):\n",
    "        s = float(sum(row))\n",
    "        for j in range(len(row)):\n",
    "            row[j] = math.log(row[j] / s)\n",
    "    good_probs = [avg_transition_prob(l, counts) for l in open('good.txt')]\n",
    "    bad_probs = [avg_transition_prob(l, counts) for l in open('bad.txt')]\n",
    "    assert min(good_probs) > max(bad_probs)\n",
    "    thresh = (min(good_probs) + max(bad_probs)) / 2\n",
    "    pickle.dump({'mat': counts, 'thresh': thresh}, open('gib_model.pki', 'wb'))\n",
    "\n",
    "def avg_transition_prob(l, log_prob_mat):\n",
    "    log_prob = 0.0\n",
    "    transition_ct = 0\n",
    "    for a, b in ngram(2, l):\n",
    "        log_prob += log_prob_mat[pos[a]][pos[b]]\n",
    "        transition_ct += 1\n",
    "    return math.exp(log_prob / (transition_ct or 1))\n",
    "\n",
    "if __name__ == '__main__':\n",
    "    if not os.path.exists(\"gib_model.pki\"):\n",
    "        train()"
   ]
  },
  {
   "cell_type": "markdown",
   "metadata": {},
   "source": [
    "### 特征提取函数"
   ]
  },
  {
   "cell_type": "code",
   "execution_count": 3,
   "metadata": {},
   "outputs": [],
   "source": [
    "# 计算信息熵\n",
    "def calc_ent(domain):\n",
    "    dataset = []\n",
    "    for each in domain:\n",
    "        dataset.append(each)\n",
    "    data1 = np.array(dataset)\n",
    "    x_value_list = set([data1[i] for i in range(data1.shape[0])])\n",
    "    ent = 0.0\n",
    "    for x_value in x_value_list:\n",
    "        p = float(data1[data1 == x_value].shape[0]) / data1.shape[0]\n",
    "        logp = np.log2(p)\n",
    "        ent -= p * logp\n",
    "    return ent\n",
    "\n",
    "#计算域名长度\n",
    "def domain_len(domain):\n",
    "    return len(domain)\n",
    "\n",
    "#数字出现概率\n",
    "def digit_probability(domain):\n",
    "    digit_num = 0\n",
    "    for each_char in domain:\n",
    "        if each_char.isdigit():\n",
    "            digit_num = digit_num + 1\n",
    "    return digit_num / len(domain)\n",
    "\n",
    "# 元音出现概率\n",
    "def vowel_probability(domain):\n",
    "    vowel = ['a', 'e', 'i', 'o', 'u']\n",
    "    vowel_num = 0\n",
    "    for each in domain:\n",
    "        if each in vowel:\n",
    "            vowel_num = vowel_num + 1\n",
    "    return vowel_num / len(domain)\n",
    "\n",
    "# 辅音组合与长度比值\n",
    "def consonant_rate(domain):\n",
    "    perg = re.compile(\"[bcdfghjklmnpqrstvwxyz]{2,%d}\" % len(domain))\n",
    "    result = perg.findall(domain)\n",
    "    return float(len(result) / len(domain))\n",
    "\n",
    "def avg_calc_ent(arr):\n",
    "    sum = 0\n",
    "    for each in arr:\n",
    "        sum = sum + calc_ent(each)\n",
    "    return sum / len(arr)\n",
    "\n",
    "def avg_domain_len(arr):\n",
    "    sum = 0\n",
    "    for each in arr:\n",
    "        sum = sum + domain_len(each)\n",
    "    return sum / len(arr)\n",
    "\n",
    "def avg_digit_probability(arr):\n",
    "    sum = 0 \n",
    "    for each in arr:\n",
    "        sum = sum + digit_probability(each)\n",
    "    return sum / len(arr)\n",
    "\n",
    "def avg_vowel_probability(arr):\n",
    "    sum = 0 \n",
    "    for each in arr:\n",
    "        sum = sum + vowel_probability(each)\n",
    "    return sum / len(arr)\n",
    "\n",
    "def avg_consonant_rate(arr):\n",
    "    sum = 0 \n",
    "    for each in arr:\n",
    "        sum = sum + consonant_rate(each)\n",
    "    return sum / len(arr)\n",
    "\n",
    "def clean_data(arr):\n",
    "    for each in arr:\n",
    "        if \".\" not in each:\n",
    "            arr.remove(each)\n",
    "    for each in arr:\n",
    "        if len(each) < 4:\n",
    "            arr.remove(each)\n",
    "    return arr"
   ]
  },
  {
   "cell_type": "markdown",
   "metadata": {},
   "source": [
    "### 特征数值计算"
   ]
  },
  {
   "cell_type": "code",
   "execution_count": 4,
   "metadata": {
    "scrolled": true
   },
   "outputs": [
    {
     "name": "stdout",
     "output_type": "stream",
     "text": [
      "进入第一个循环\n",
      "进入第二个循环\n"
     ]
    }
   ],
   "source": [
    "DGA_data = pd.read_table(\"./DGA.txt\")\n",
    "normal_data = pd.read_csv(\"./normal.csv\")\n",
    "\n",
    "raw_data_DGA = clean_data(DGA_data.iloc[:,1].values.tolist())\n",
    "raw_data_normal = clean_data(normal_data.iloc[:,1].values.tolist())\n",
    "\n",
    "DGA_calc_ent = []\n",
    "normal_calc_ent = []\n",
    "DGA_domain_len = []\n",
    "normal_domain_len = []\n",
    "DGA_digit_probability = []\n",
    "normal_digit_probability = []\n",
    "DGA_vowel_probability = []\n",
    "normal_vowel_probability = []\n",
    "DGA_consonant_rate = []\n",
    "normal_consonant_rate = []\n",
    "print(\"进入第一个循环\")\n",
    "for each in raw_data_DGA:\n",
    "    DGA_calc_ent.append(calc_ent(each))\n",
    "    DGA_domain_len.append(domain_len(each))\n",
    "    DGA_digit_probability.append(digit_probability(each))\n",
    "    DGA_vowel_probability.append(vowel_probability(each))\n",
    "    DGA_consonant_rate.append(consonant_rate(each))\n",
    "print(\"进入第二个循环\")\n",
    "for each in raw_data_normal:\n",
    "    normal_calc_ent.append(calc_ent(each))\n",
    "    normal_domain_len.append(domain_len(each))\n",
    "    normal_digit_probability.append(digit_probability(each))\n",
    "    normal_vowel_probability.append(vowel_probability(each))\n",
    "    normal_consonant_rate.append(consonant_rate(each))"
   ]
  },
  {
   "cell_type": "markdown",
   "metadata": {},
   "source": [
    "### 数据集平均值"
   ]
  },
  {
   "cell_type": "code",
   "execution_count": 5,
   "metadata": {},
   "outputs": [],
   "source": [
    "DGA_ent_avg = avg_calc_ent(raw_data_DGA)\n",
    "normal_ent_avg = avg_calc_ent(raw_data_normal)\n",
    "DGA_len = avg_domain_len(raw_data_DGA)\n",
    "normal_len = avg_domain_len(raw_data_normal)\n",
    "DGA_digit = avg_digit_probability(raw_data_DGA)\n",
    "normal_digit = avg_digit_probability(raw_data_normal)\n",
    "DGA_vowel = avg_vowel_probability(raw_data_DGA)\n",
    "normal_vowel = avg_vowel_probability(raw_data_normal)\n",
    "DGA_consonant = avg_consonant_rate(raw_data_DGA)\n",
    "normal_consonant = avg_consonant_rate(raw_data_normal)"
   ]
  },
  {
   "cell_type": "markdown",
   "metadata": {},
   "source": [
    "### 计算结果"
   ]
  },
  {
   "cell_type": "code",
   "execution_count": 6,
   "metadata": {
    "scrolled": false
   },
   "outputs": [
    {
     "name": "stdout",
     "output_type": "stream",
     "text": [
      "信息熵最大最小值平均值：\n",
      "DGA: 4.868507898969238 1.9056390622295665 3.7075958136654292\n",
      "Normal: 4.881142681145251 0.5435644431995964 3.259898914769188\n",
      "长度最大最小值平均值：\n",
      "DGA: 50 8 19.982632270262283\n",
      "Normal: 73 4 14.311734311734313\n",
      "数字概率最大最小值平均值：\n",
      "DGA: 0.7692307692307693 0.0 0.033869343374289394\n",
      "Normal: 0.8709677419354839 0.0 0.01285617549978626\n",
      "元音概率最大最小值平均值：\n",
      "DGA: 0.7368421052631579 0.0 0.2646734219039188\n",
      "Normal: 0.875 0.0 0.32633724598410374\n",
      "辅音比值最大最小值平均值：\n",
      "DGA: 0.375 0.0 0.1321342106694171\n",
      "Normal: 0.4 0.0 0.12928901089169562\n"
     ]
    }
   ],
   "source": [
    "print(\"信息熵最大最小值平均值：\")\n",
    "print(\"DGA:\",max(DGA_calc_ent),min(DGA_calc_ent),DGA_ent_avg)\n",
    "print(\"Normal:\",max(normal_calc_ent),min(normal_calc_ent),normal_ent_avg)\n",
    "print(\"长度最大最小值平均值：\")\n",
    "print(\"DGA:\",max(DGA_domain_len),min(DGA_domain_len),DGA_len)\n",
    "print(\"Normal:\",max(normal_domain_len),min(normal_domain_len),normal_len)\n",
    "print(\"数字概率最大最小值平均值：\")\n",
    "print(\"DGA:\",max(DGA_digit_probability),min(DGA_digit_probability),DGA_digit)\n",
    "print(\"Normal:\",max(normal_digit_probability),min(normal_digit_probability),normal_digit)\n",
    "print(\"元音概率最大最小值平均值：\")\n",
    "print(\"DGA:\",max(DGA_vowel_probability),min(DGA_vowel_probability),DGA_vowel)\n",
    "print(\"Normal:\",max(normal_vowel_probability),min(normal_vowel_probability),normal_vowel)\n",
    "print(\"辅音比值最大最小值平均值：\")\n",
    "print(\"DGA:\",max(DGA_consonant_rate),min(DGA_consonant_rate),DGA_consonant)\n",
    "print(\"Normal:\",max(normal_consonant_rate),min(normal_consonant_rate),normal_consonant)"
   ]
  },
  {
   "cell_type": "markdown",
   "metadata": {},
   "source": [
    "### 标签转换"
   ]
  },
  {
   "cell_type": "code",
   "execution_count": 7,
   "metadata": {},
   "outputs": [],
   "source": [
    "def information(domain):\n",
    "    if abs(calc_ent(domain)- DGA_ent_avg) < abs(calc_ent(domain)- normal_ent_avg):\n",
    "        return 1\n",
    "    else:\n",
    "        return 0\n",
    "def lens(domain):\n",
    "    if abs(domain_len(domain)- DGA_len) < abs(domain_len(domain)- normal_len):\n",
    "        return 1\n",
    "    else:\n",
    "        return 0\n",
    "def dight(domain):\n",
    "    if abs(digit_probability(domain)- DGA_digit) < abs(digit_probability(domain)- normal_digit):\n",
    "        return 1\n",
    "    else:\n",
    "        return 0 \n",
    "def vowel(domain):\n",
    "    if abs(vowel_probability(domain)- DGA_vowel) < abs(vowel_probability(domain)- normal_vowel):\n",
    "        return 1\n",
    "    else:\n",
    "        return 0 \n",
    "def consonant(domain):\n",
    "    if abs(consonant_rate(domain)- DGA_consonant) < abs(consonant_rate(domain)- normal_consonant):\n",
    "        return 1\n",
    "    else:\n",
    "        return 0 \n",
    "import pickle\n",
    "model_data = pickle.load(open('gib_model.pki', 'rb'))\n",
    "model_mat = model_data['mat']\n",
    "threshold = model_data['thresh']\n",
    "def gid(domain):\n",
    "    if((avg_transition_prob(domain, model_mat) > threshold) == False):\n",
    "        return 1\n",
    "    else:\n",
    "        return 0"
   ]
  },
  {
   "cell_type": "markdown",
   "metadata": {},
   "source": [
    "### 标签提取"
   ]
  },
  {
   "cell_type": "code",
   "execution_count": 8,
   "metadata": {},
   "outputs": [],
   "source": [
    "def characterize(domain):\n",
    "    features = [information(domain),lens(domain),dight(domain),vowel(domain),consonant(domain),gid(domain)]\n",
    "    return features\n",
    "features = []\n",
    "labels = []\n",
    "\n",
    "for each in raw_data_DGA:\n",
    "    features.append(characterize(each))\n",
    "    labels.append(1)\n",
    "for each in raw_data_normal:\n",
    "    features.append(characterize(each))\n",
    "    labels.append(0)"
   ]
  },
  {
   "cell_type": "markdown",
   "metadata": {},
   "source": [
    "# 训练"
   ]
  },
  {
   "cell_type": "markdown",
   "metadata": {},
   "source": [
    "### 随机森林训练"
   ]
  },
  {
   "cell_type": "code",
   "execution_count": 9,
   "metadata": {
    "scrolled": true
   },
   "outputs": [
    {
     "name": "stderr",
     "output_type": "stream",
     "text": [
      "d:\\anaconda\\envs\\python3.6\\lib\\site-packages\\sklearn\\ensemble\\forest.py:245: FutureWarning: The default value of n_estimators will change from 10 in version 0.20 to 100 in 0.22.\n",
      "  \"10 in version 0.20 to 100 in 0.22.\", FutureWarning)\n"
     ]
    },
    {
     "name": "stdout",
     "output_type": "stream",
     "text": [
      "precision_score: 0.8595657057281917\n",
      "recall_score: 0.8753574404810536\n"
     ]
    }
   ],
   "source": [
    "from sklearn.ensemble import RandomForestClassifier\n",
    "from sklearn.model_selection import train_test_split\n",
    "from sklearn.metrics import precision_score, recall_score\n",
    "\n",
    "train_X, test_X, train_y, test_y = train_test_split(features, labels, test_size=0.3, random_state=0)\n",
    "clf = RandomForestClassifier()\n",
    "clf.fit(train_X, train_y)\n",
    "pred_y = clf.predict(test_X)\n",
    "print(\"precision_score:\", precision_score(y_true=test_y, y_pred=pred_y))\n",
    "print(\"recall_score:\", recall_score(y_true=test_y, y_pred=pred_y))"
   ]
  },
  {
   "cell_type": "markdown",
   "metadata": {},
   "source": [
    "### 随机森林测验函数"
   ]
  },
  {
   "cell_type": "code",
   "execution_count": 10,
   "metadata": {},
   "outputs": [],
   "source": [
    "def test_domain_RandomForest(domain):\n",
    "    test_features = []\n",
    "    test_features.append(characterize(domain))\n",
    "    pre = clf.predict(test_features)\n",
    "    print(\"DGA\") if pre == 1 else print(\"Normal\")"
   ]
  },
  {
   "cell_type": "markdown",
   "metadata": {},
   "source": [
    "### 决策树训练"
   ]
  },
  {
   "cell_type": "code",
   "execution_count": 11,
   "metadata": {},
   "outputs": [
    {
     "name": "stdout",
     "output_type": "stream",
     "text": [
      "precision_score: 0.8595657057281917\n",
      "recall_score: 0.8753574404810536\n"
     ]
    }
   ],
   "source": [
    "from sklearn.tree import DecisionTreeClassifier\n",
    "from sklearn.metrics import accuracy_score, recall_score\n",
    "decision_tree = DecisionTreeClassifier(criterion='entropy')\n",
    "decision_tree.fit(train_X, train_y)\n",
    "Y_pred = decision_tree.predict(test_X)\n",
    "print(\"precision_score:\", precision_score(y_true=test_y, y_pred=pred_y))\n",
    "print(\"recall_score:\", recall_score(y_true=test_y, y_pred=pred_y))"
   ]
  },
  {
   "cell_type": "markdown",
   "metadata": {},
   "source": [
    "### 决策树测验函数"
   ]
  },
  {
   "cell_type": "code",
   "execution_count": 12,
   "metadata": {},
   "outputs": [],
   "source": [
    "def test_domain_DecisionTree(domain):\n",
    "    test_features = []\n",
    "    test_features.append(characterize(domain))\n",
    "    pre = decision_tree.predict(test_features)\n",
    "    print(\"DGA\") if pre == 1 else print(\"Normal\")"
   ]
  },
  {
   "cell_type": "markdown",
   "metadata": {},
   "source": [
    "### 逻辑斯蒂回归训练"
   ]
  },
  {
   "cell_type": "code",
   "execution_count": 13,
   "metadata": {},
   "outputs": [
    {
     "name": "stdout",
     "output_type": "stream",
     "text": [
      "precision_score: 0.8595657057281917\n",
      "recall_score: 0.8753574404810536\n"
     ]
    }
   ],
   "source": [
    "from sklearn.linear_model import LogisticRegression\n",
    "from sklearn.metrics import accuracy_score, recall_score\n",
    "log_reg = LogisticRegression(solver='liblinear', max_iter = 10000)\n",
    "log_reg.fit(train_X, train_y)\n",
    "Y_pred = log_reg.predict(test_X)\n",
    "print(\"precision_score:\", precision_score(y_true=test_y, y_pred=pred_y))\n",
    "print(\"recall_score:\", recall_score(y_true=test_y, y_pred=pred_y))"
   ]
  },
  {
   "cell_type": "markdown",
   "metadata": {},
   "source": [
    "### 逻辑斯蒂回归测验函数"
   ]
  },
  {
   "cell_type": "code",
   "execution_count": 14,
   "metadata": {},
   "outputs": [],
   "source": [
    "def test_domain_Logistic(domain):\n",
    "    test_features = []\n",
    "    test_features.append(characterize(domain))\n",
    "    pre = log_reg.predict(test_features)\n",
    "    print(\"DGA\") if pre == 1 else print(\"Normal\")"
   ]
  },
  {
   "cell_type": "markdown",
   "metadata": {},
   "source": [
    "# 验证"
   ]
  },
  {
   "cell_type": "code",
   "execution_count": null,
   "metadata": {},
   "outputs": [
    {
     "name": "stdout",
     "output_type": "stream",
     "text": [
      "随机森林测试：youtube.com\n",
      "Normal\n",
      "决策树测试：youtube.com\n",
      "Normal\n",
      "逻辑斯蒂回归测试：youtube.com\n",
      "Normal\n",
      "随机森林测试：fdhsauihedruoisag.cc\n",
      "DGA\n",
      "决策树测试：fdhsauihedruoisag.cc\n",
      "DGA\n",
      "逻辑斯蒂回归测试：fdhsauihedruoisag.cc\n",
      "DGA\n",
      "随机森林测试：1vynq17gk6yo14ndoft2xc.com\n",
      "DGA\n",
      "决策树测试：1vynq17gk6yo14ndoft2xc.com\n",
      "DGA\n",
      "逻辑斯蒂回归测试：1vynq17gk6yo14ndoft2xc.com\n",
      "DGA\n",
      "随机森林测试：pppppp.com.cn.net\n",
      "Normal\n",
      "决策树测试：pppppp.com.cn.net\n",
      "Normal\n",
      "逻辑斯蒂回归测试：pppppp.com.cn.net\n",
      "Normal\n",
      "随机森林测试：ncixjaieuwveskmnb.com\n",
      "DGA\n",
      "决策树测试：ncixjaieuwveskmnb.com\n",
      "DGA\n",
      "逻辑斯蒂回归测试：ncixjaieuwveskmnb.com\n",
      "DGA\n"
     ]
    }
   ],
   "source": [
    "while True:\n",
    "    test_domain_RandomForest(input(\"随机森林测试：\"))\n",
    "    test_domain_DecisionTree(input(\"决策树测试：\"))\n",
    "    test_domain_Logistic(input(\"逻辑斯蒂回归测试：\"))"
   ]
  }
 ],
 "metadata": {
  "kernelspec": {
   "display_name": "Python 3",
   "language": "python",
   "name": "python3"
  },
  "language_info": {
   "codemirror_mode": {
    "name": "ipython",
    "version": 3
   },
   "file_extension": ".py",
   "mimetype": "text/x-python",
   "name": "python",
   "nbconvert_exporter": "python",
   "pygments_lexer": "ipython3",
   "version": "3.6.9"
  }
 },
 "nbformat": 4,
 "nbformat_minor": 2
}
