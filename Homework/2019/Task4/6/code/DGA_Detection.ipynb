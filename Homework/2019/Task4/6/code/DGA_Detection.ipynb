{
 "cells": [
  {
   "cell_type": "code",
   "execution_count": 1,
   "metadata": {},
   "outputs": [
    {
     "name": "stderr",
     "output_type": "stream",
     "text": [
      "E:\\Anaconda3\\lib\\site-packages\\sklearn\\ensemble\\weight_boosting.py:29: DeprecationWarning: numpy.core.umath_tests is an internal NumPy module and should not be imported. It will be removed in a future NumPy release.\n",
      "  from numpy.core.umath_tests import inner1d\n"
     ]
    }
   ],
   "source": [
    "import pandas as  pd\n",
    "import numpy as np\n",
    "from hmmlearn import hmm\n",
    "import os\n",
    "from sklearn import tree\n",
    "from sklearn.tree import DecisionTreeClassifier\n",
    "import sklearn.ensemble as ek\n",
    "from sklearn.utils import shuffle\n",
    "from sklearn.svm import LinearSVC\n",
    "from sklearn.model_selection import train_test_split,cross_val_score,cross_validate\n",
    "from sklearn.metrics import accuracy_score, recall_score\n",
    "import math\n",
    "import joblib\n",
    "import nltk\n",
    "from nltk.collocations import *\n",
    "from sklearn import preprocessing"
   ]
  },
  {
   "cell_type": "code",
   "execution_count": 2,
   "metadata": {},
   "outputs": [],
   "source": [
    "#获取域名的信息熵\n",
    "def getEntropy(domain):\n",
    "    lableCount = {}\n",
    "    length = len(domain)\n",
    "    for i in range(0,length):\n",
    "        if domain[i] in lableCount.keys():\n",
    "            lableCount[domain[i]] = lableCount[domain[i]] + 1\n",
    "        else:\n",
    "            lableCount[domain[i]] = 1\n",
    "    \n",
    "    shangnon = 0\n",
    "    for i in lableCount.keys():\n",
    "        prob = float(lableCount[i]) / length\n",
    "        shangnon = shangnon - prob * math.log(prob, 2)\n",
    "    return shangnon"
   ]
  },
  {
   "cell_type": "code",
   "execution_count": 3,
   "metadata": {},
   "outputs": [],
   "source": [
    "#获取域名中元音出现的概率\n",
    "def getVowel(domain):\n",
    "    vowelList = ['a','e','i','o','u']\n",
    "    domain = domain.lower()\n",
    "    length = len(domain)\n",
    "    #letterNum = 0\n",
    "    vowelNum = 0\n",
    "    vowelRatio = 0\n",
    "    for i in range(0,length):\n",
    "        # if ord(domain[i]) >= ord('a') and ord(domain[i]) <= ord('z'):\n",
    "        #     letterNum = letterNum + 1\n",
    "        if domain[i] in vowelList:\n",
    "            vowelNum = vowelNum + 1\n",
    "    \n",
    "    if vowelNum == 0:\n",
    "        return 0\n",
    "    else:\n",
    "        vowelRatio = float(vowelNum) / length\n",
    "        return vowelRatio"
   ]
  },
  {
   "cell_type": "code",
   "execution_count": 4,
   "metadata": {},
   "outputs": [],
   "source": [
    "#判断是否是顶级域名\n",
    "def getIsTLD(domain):\n",
    "    root = domain.split('.')[-1]   \n",
    "    TLDlist = ['cn','com','cc','net','org','gov','info']\n",
    "    if root in TLDlist:\n",
    "        return 1\n",
    "    else:\n",
    "        return 0"
   ]
  },
  {
   "cell_type": "code",
   "execution_count": 5,
   "metadata": {},
   "outputs": [],
   "source": [
    "#获取域名的长度\n",
    "def getLength(domain):\n",
    "    return len(domain)"
   ]
  },
  {
   "cell_type": "code",
   "execution_count": 6,
   "metadata": {},
   "outputs": [],
   "source": [
    "#获取域名的数字特征\n",
    "def getNum(domain):\n",
    "    length = len(domain)\n",
    "    num = 0\n",
    "    for i in range(0,length):\n",
    "        if ord(domain[i]) >= ord('0') and ord(domain[i]) <= ord('9'):\n",
    "            num = num + 1\n",
    "    \n",
    "    return num"
   ]
  },
  {
   "cell_type": "code",
   "execution_count": 7,
   "metadata": {},
   "outputs": [],
   "source": [
    "#获取域名中辅音出现的概率\n",
    "def getConsonant(domain):\n",
    "    length = len(domain)\n",
    "    domain = domain.lower()\n",
    "    string = ''\n",
    "    numList = 0\n",
    "    vowelList = ['a', 'e', 'i', 'o', 'u']\n",
    "\n",
    "    for i in range(0, length):\n",
    "        if ord(domain[i]) >= ord('a') and ord(domain[i]) <= ord('z'):\n",
    "            if domain[i] not in vowelList:\n",
    "                string = string + domain[i]\n",
    "                #print(\"string:\",string)\n",
    "            else:\n",
    "                if len(string) >= 2:\n",
    "                    numList = numList + 1\n",
    "                string = ''\n",
    "        else:\n",
    "            if len(string) >= 2:\n",
    "                numList = numList + 1\n",
    "            string = ''\n",
    "    #print(\"numList:\",numList,\"length:\",length)\n",
    "    return float(numList / length)"
   ]
  },
  {
   "cell_type": "code",
   "execution_count": 8,
   "metadata": {},
   "outputs": [],
   "source": [
    "#统计bigram值\n",
    "def getBigram(domain):\n",
    "    bigram_finder = BigramCollocationFinder.from_words(domain)\n",
    "    bigram_measures = nltk.collocations.BigramAssocMeasures()\n",
    "    scored = bigram_finder.score_ngrams(bigram_measures.pmi)\n",
    "    number = 0\n",
    "    for i in scored:\n",
    "        number = number + i[1]\n",
    "    return int(number)\n"
   ]
  },
  {
   "cell_type": "code",
   "execution_count": 9,
   "metadata": {},
   "outputs": [],
   "source": [
    "#统计trigram值\n",
    "def getTrigram(domain):\n",
    "    trigram_finder = TrigramCollocationFinder.from_words(domain)\n",
    "    trigram_measures = nltk.collocations.TrigramAssocMeasures()\n",
    "    scored = trigram_finder.score_ngrams(trigram_measures.poisson_stirling)\n",
    "    number = 0\n",
    "    for i in scored:\n",
    "        number = number + i[1]\n",
    "    return int(number)\n",
    "    "
   ]
  },
  {
   "cell_type": "code",
   "execution_count": 10,
   "metadata": {},
   "outputs": [
    {
     "name": "stdout",
     "output_type": "stream",
     "text": [
      "dga: (801667, 1)\n",
      "                domain  Label\n",
      "0  ofdhiydrrttpblp.com      1\n",
      "1  puciftnfkplcbhp.net      1\n",
      "2  bowjjxxnhkyvygk.biz      1\n",
      "3   osvwkptpwqyiqen.ru      1\n",
      "4  cpmjpnwdgbxyyql.org      1\n"
     ]
    }
   ],
   "source": [
    "name = ['domain']\n",
    "dga = pd.read_csv('all_dga.csv', encoding='utf-8', names=name)\n",
    "print(\"dga:\", dga.shape)\n",
    "dga['Label'] = 1\n",
    "print(dga.head())"
   ]
  },
  {
   "cell_type": "code",
   "execution_count": 11,
   "metadata": {},
   "outputs": [
    {
     "name": "stdout",
     "output_type": "stream",
     "text": [
      "normal: (1000000, 1)\n",
      "                   domain  Label\n",
      "0             netflix.com      0\n",
      "1  api-global.netflix.com      0\n",
      "2        prod.netflix.com      0\n",
      "3   push.prod.netflix.com      0\n",
      "4              google.com      0\n"
     ]
    }
   ],
   "source": [
    "name = ['domain']\n",
    "normal = pd.read_csv('all_normal.csv', encoding='utf-8', names=name)\n",
    "print(\"normal:\", normal.shape)\n",
    "normal['Label'] = 0\n",
    "print(normal.head())"
   ]
  },
  {
   "cell_type": "code",
   "execution_count": 12,
   "metadata": {},
   "outputs": [
    {
     "name": "stdout",
     "output_type": "stream",
     "text": [
      "(1801667, 2)\n"
     ]
    }
   ],
   "source": [
    "data = pd.concat([dga, normal], axis=0, ignore_index=True)\n",
    "print(data.shape)"
   ]
  },
  {
   "cell_type": "code",
   "execution_count": 13,
   "metadata": {},
   "outputs": [
    {
     "name": "stdout",
     "output_type": "stream",
     "text": [
      "                                           domain  Label  len     Vowel  \\\n",
      "1379298                                 asmdc.org      0    9  0.222222   \n",
      "1679488       edge-036.hkhkg-4.icloud-content.com      0   35  0.228571   \n",
      "1300065                     metaphor-platform.com      0   21  0.285714   \n",
      "1785933  hanjwpc308t4jw.int.marrcorp.marriott.com      0   40  0.200000   \n",
      "1701958                       media.good-loop.com      0   19  0.421053   \n",
      "\n",
      "          entropy  Num  IsTLD  Consonant  bigram  trigram  \n",
      "1379298  3.169925    0      1   0.111111      25       37  \n",
      "1679488  4.107156    4      1   0.142857      99      203  \n",
      "1300065  3.558519    0      1   0.190476      55      103  \n",
      "1785933  3.906198    4      1   0.175000      90      208  \n",
      "1701958  3.321104    0      1   0.000000      44       80  \n"
     ]
    }
   ],
   "source": [
    "data['len'] = data['domain'].map(lambda x: getLength(x))\n",
    "data['Vowel'] = data['domain'].map(lambda x: getVowel(x))\n",
    "data['entropy'] =  data['domain'].map(lambda x: getEntropy(x))\n",
    "data['Num'] = data['domain'].map(lambda x: getNum(x))\n",
    "data['IsTLD'] = data['domain'].map(lambda x: getIsTLD(x))\n",
    "data['Consonant'] = data['domain'].map(lambda x:getConsonant(x))\n",
    "data['bigram'] = data['domain'].map(lambda x:getBigram(x))\n",
    "data['trigram'] = data['domain'].map(lambda x:getTrigram(x))\n",
    "data = shuffle(data)\n",
    "print(data.head())"
   ]
  },
  {
   "cell_type": "code",
   "execution_count": 14,
   "metadata": {},
   "outputs": [
    {
     "name": "stderr",
     "output_type": "stream",
     "text": [
      "E:\\Anaconda3\\lib\\site-packages\\sklearn\\utils\\validation.py:475: DataConversionWarning: Data with input dtype int64 was converted to float64 by StandardScaler.\n",
      "  warnings.warn(msg, DataConversionWarning)\n"
     ]
    },
    {
     "name": "stdout",
     "output_type": "stream",
     "text": [
      "                                           domain  Label       len     Vowel  \\\n",
      "1379298                                 asmdc.org      0 -1.313150  0.222222   \n",
      "1679488       edge-036.hkhkg-4.icloud-content.com      0  1.565741  0.228571   \n",
      "1300065                     metaphor-platform.com      0  0.015569  0.285714   \n",
      "1785933  hanjwpc308t4jw.int.marrcorp.marriott.com      0  2.119374  0.200000   \n",
      "1701958                       media.good-loop.com      0 -0.205884  0.421053   \n",
      "\n",
      "          entropy  Num  IsTLD  Consonant  bigram  trigram  \n",
      "1379298 -0.919221    0      1   0.111111      25       37  \n",
      "1679488  1.462641    4      1   0.142857      99      203  \n",
      "1300065  0.068343    0      1   0.190476      55      103  \n",
      "1785933  0.951930    4      1   0.175000      90      208  \n",
      "1701958 -0.535017    0      1   0.000000      44       80  \n",
      "  \n"
     ]
    }
   ],
   "source": [
    "#数据进行归一化\n",
    "scaler = preprocessing.StandardScaler()\n",
    "len_scale_param = scaler.fit(data['len'].values.reshape(-1,1))\n",
    "data['len'] = scaler.fit_transform(data['len'].values.reshape(-1,1),len_scale_param)\n",
    "shan_scale_param = scaler.fit(data['entropy'].values.reshape(-1,1))\n",
    "data['entropy'] = scaler.fit_transform(data['entropy'].values.reshape(-1,1),shan_scale_param)\n",
    "print(data.head())\n",
    "print(\"  \")"
   ]
  },
  {
   "cell_type": "code",
   "execution_count": 15,
   "metadata": {},
   "outputs": [],
   "source": [
    "#划分数据集\n",
    "X = data.drop(['domain', 'Label'], axis=1).values\n",
    "y = data['Label'].values\n",
    "X_train, X_test, y_train, y_test = train_test_split(X, y, test_size=0.2)\n"
   ]
  },
  {
   "cell_type": "code",
   "execution_count": 16,
   "metadata": {},
   "outputs": [
    {
     "name": "stdout",
     "output_type": "stream",
     "text": [
      "决策树:\n",
      "Training accuracy： 92.6\n",
      "Test accuracy： 0.8761676666648165\n",
      "Test recall score: 0.8479784668872316\n"
     ]
    }
   ],
   "source": [
    "#决策树算法\n",
    "decision_tree = DecisionTreeClassifier()\n",
    "decision_tree.fit(X_train, y_train)\n",
    "acc_decision_tree = round(decision_tree.score(X_train, y_train) * 100, 2)\n",
    "print(\"决策树:\")\n",
    "print(\"Training accuracy：\", acc_decision_tree)\n",
    "\n",
    "y_pred = decision_tree.predict(X_test)\n",
    "print(\"Test accuracy：\", accuracy_score(y_test, y_pred))\n",
    "print(\"Test recall score:\", recall_score(y_test, y_pred))"
   ]
  },
  {
   "cell_type": "code",
   "execution_count": 17,
   "metadata": {},
   "outputs": [
    {
     "name": "stdout",
     "output_type": "stream",
     "text": [
      "随机森林:\n",
      "Training accuracy： 92.59\n",
      "Test accuracy： 0.8851038203444582\n",
      "Test recall score: 0.8708013233892222\n"
     ]
    }
   ],
   "source": [
    "#随机森林算法\n",
    "random_forest = ek.RandomForestClassifier(n_estimators=50)\n",
    "random_forest.fit(X_train, y_train)\n",
    "acc_random_forest = round(random_forest.score(X_train, y_train) * 100, 2)\n",
    "print(\"随机森林:\")\n",
    "print(\"Training accuracy：\", acc_random_forest)\n",
    "\n",
    "y_pred = random_forest.predict(X_test)\n",
    "print(\"Test accuracy：\", accuracy_score(y_test, y_pred))\n",
    "print(\"Test recall score:\", recall_score(y_test, y_pred))"
   ]
  },
  {
   "cell_type": "code",
   "execution_count": 18,
   "metadata": {},
   "outputs": [],
   "source": [
    "#DAG域名特征提取\n",
    "def get_feature(DGA, label):\n",
    "    result = []\n",
    "    result.append(DGA)\n",
    "    result.append(label)\n",
    "    result.append(getLength(DGA))\n",
    "    result.append(getVowel(DGA))\n",
    "    result.append(getEntropy(DGA))\n",
    "    result.append(getNum(DGA))\n",
    "    result.append(getIsTLD(DGA))\n",
    "    result.append(getConsonant(DGA))\n",
    "    result.append(getBigram(DGA))\n",
    "    result.append(getTrigram(DGA))\n",
    "    return result"
   ]
  },
  {
   "cell_type": "code",
   "execution_count": 19,
   "metadata": {},
   "outputs": [
    {
     "name": "stdout",
     "output_type": "stream",
     "text": [
      "[0]\n"
     ]
    }
   ],
   "source": [
    "#输入单个域名判断是否为DGA域名\n",
    "test = 'github.com'\n",
    "result = pd.DataFrame(columns=('domain', 'Label', 'len', 'Vowel', 'entropy', 'Num', 'IsTLD', 'Consonant', 'bigram', 'trigram'))\n",
    "results = get_feature(test, 1)\n",
    "result.loc[0] = results\n",
    "result = result.drop(['domain', 'Label'], axis = 1).values\n",
    "print(decision_tree.predict(result))"
   ]
  }
 ],
 "metadata": {
  "kernelspec": {
   "display_name": "Python 3",
   "language": "python",
   "name": "python3"
  },
  "language_info": {
   "codemirror_mode": {
    "name": "ipython",
    "version": 3
   },
   "file_extension": ".py",
   "mimetype": "text/x-python",
   "name": "python",
   "nbconvert_exporter": "python",
   "pygments_lexer": "ipython3",
   "version": "3.6.5"
  }
 },
 "nbformat": 4,
 "nbformat_minor": 2
}
