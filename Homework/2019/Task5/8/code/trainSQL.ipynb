{
 "cells": [
  {
   "cell_type": "code",
   "execution_count": 1,
   "metadata": {
    "collapsed": true,
    "pycharm": {
     "is_executing": false
    }
   },
   "outputs": [],
   "source": [
    "from sklearn import tree\n",
    "import numpy as np\n",
    "import re\n",
    "from sklearn.model_selection import train_test_split\n",
    "from sklearn.model_selection import cross_val_score\n",
    "from sklearn.preprocessing import StandardScaler\n",
    "from sklearn.externals import joblib\n",
    "from sklearn.metrics import precision_score, recall_score, accuracy_score"
   ]
  },
  {
   "cell_type": "code",
   "execution_count": 2,
   "outputs": [],
   "source": [
    "key_word = ['and', 'or', 'xor', 'sysobjects', 'version', 'substr', 'len', 'substring', 'exists', 'mid', 'asc',\n",
    "            'inner join', 'xp_cmdshell', 'version', 'exec', 'having', 'union', 'order', 'information schema',\n",
    "            'load_file', 'load data infile', 'into outfile', 'into dumpfile']\n",
    "special_word = ['%20', '%28', '--', ' ', '#', '%23']\n"
   ],
   "metadata": {
    "collapsed": false,
    "pycharm": {
     "name": "#%%\n",
     "is_executing": false
    }
   }
  },
  {
   "cell_type": "code",
   "execution_count": 3,
   "outputs": [],
   "source": [
    "def keyword_count(value):\n",
    "    num = 0\n",
    "    for index in key_word:\n",
    "        num = num + value.count(index)\n",
    "    return num"
   ],
   "metadata": {
    "collapsed": false,
    "pycharm": {
     "name": "#%%\n",
     "is_executing": false
    }
   }
  },
  {
   "cell_type": "code",
   "execution_count": 4,
   "outputs": [],
   "source": [
    "def bigE_count(value):\n",
    "    capital_len = len(re.compile(r'[A-Z]').findall(value))\n",
    "    return (capital_len / len(value))  # 大写字母频率\n"
   ],
   "metadata": {
    "collapsed": false,
    "pycharm": {
     "name": "#%%\n",
     "is_executing": false
    }
   }
  },
  {
   "cell_type": "code",
   "execution_count": 5,
   "outputs": [],
   "source": [
    "def num_count(value):\n",
    "    num_len = len(re.compile(r'\\d').findall(value))\n",
    "    return (num_len / len(value))"
   ],
   "metadata": {
    "collapsed": false,
    "pycharm": {
     "name": "#%%\n",
     "is_executing": false
    }
   }
  },
  {
   "cell_type": "code",
   "execution_count": 6,
   "outputs": [],
   "source": [
    "def calc_ent(value):\n",
    "    data = []\n",
    "    for i in value:\n",
    "        data.append(i)\n",
    "    x = np.array(data)\n",
    "    x_value_list = set([x[i] for i in range(x.shape[0])])  # 得到数组x的元素（不包含重复元素），即x_value_list={'c', 'b', 'a'}\n",
    "    ent = 0.0\n",
    "    for x_value in x_value_list:\n",
    "        p = float(x[x == x_value].shape[0]) / x.shape[0]  # 计算每个元素出现的概率\n",
    "        logp = np.log2(p)\n",
    "        ent -= p * logp\n",
    "    return (ent)\n"
   ],
   "metadata": {
    "collapsed": false,
    "pycharm": {
     "name": "#%%\n",
     "is_executing": false
    }
   }
  },
  {
   "cell_type": "code",
   "execution_count": 7,
   "outputs": [],
   "source": [
    "def url_length(value):\n",
    "    return (len(value))\n"
   ],
   "metadata": {
    "collapsed": false,
    "pycharm": {
     "name": "#%%\n",
     "is_executing": false
    }
   }
  },
  {
   "cell_type": "code",
   "execution_count": 8,
   "outputs": [],
   "source": [
    "def special_count(value):\n",
    "    num = 0\n",
    "    for index in special_word:\n",
    "        num = num + value.count(index)\n",
    "    return num / len(value)"
   ],
   "metadata": {
    "collapsed": false,
    "pycharm": {
     "name": "#%%\n",
     "is_executing": false
    }
   }
  },
  {
   "cell_type": "code",
   "execution_count": 9,
   "outputs": [],
   "source": [
    "def get_features(temp, value):\n",
    "    temp.append(url_length(value))\n",
    "    temp.append(calc_ent(value))\n",
    "    temp.append(num_count(value))\n",
    "    temp.append(bigE_count(value))\n",
    "    temp.append(keyword_count(value))\n",
    "    temp.append(special_count(value))\n",
    "    return temp"
   ],
   "metadata": {
    "collapsed": false,
    "pycharm": {
     "name": "#%%\n",
     "is_executing": false
    }
   }
  },
  {
   "cell_type": "code",
   "execution_count": 10,
   "outputs": [
    {
     "name": "stdout",
     "text": [
      "['_%3D1498591621808', 'code%3Dzs_000001%2Czs_399001%2Czs_399006%26cb%3Dfortune_hq_cn%26_%3D1498591852632', '_%3D1498591951848%26list%3Dml_sh600030', '6053%26ri%3Dzb6-00f%7E-04gUry-01h-0RC%26tn%3D1%26en%3D4L9RATiSWJ84cSXYcX1d2pqRNDaJDyf4dP2hUCLUFiZhTaWU7eK5dl5slq5E7SVvDi63oAKGfcJUNiy27jClo3XeVPICvXbMtyQIUjoFYYlnKQp0XlF0M2zO7d7ub-vumAdasuEscaZLfT5w2tfIKsHlHIn49b0u1Af1JUmZeCeIVpuTgEmDmxYz9GkgA-CCk-qVMZ-V2AfzTEe7HCLcljdw1NcVt-H26P2-dz8IEEj3n9DdQGwpErgkGR6SSbaJpPQu0IgaWmPZEZu-umlvd0urhn88rdu9-Dmn4hYWD2T-menxBL9BSplyy74mnP_4DZXvZ4Ggf4n-k6WXtWPDQYekUxo6XItLiBIOTt5znJ4l9AfspnGY604PtLC0WKwyjqwq27Z4zR9JZsSXxngF9UJFi9JrCW_yldU07E3r3q9LuHrEoy8%3E%3E', 'b1498592370545%3D1', 'v%3D13111002', 'COLLCC%3D3442798258%26', 't%3Dcheck%26rec%3Dstratus%26etyp%3Dconnect%26zone%3Dzibo5_cnc%26url%3D119.188.143.32%26errCnt%3D327%26uid%3Dd0a47beafc75e1549c7fdc23530fd959%26uif%3DCNC%7CBeiJing-114.251.186.13%26tvid%3D7706069409%26defi%3D2%26dlod%3D1%26darea%3D1%26ppapi%3Dfalse%26trkip%3D119.188.143.32%26trkon%3D0%26ver%3D3.1.0.15%26dur%3D36431783', 'cn_600022%2Ccn_600516%2Ccn_000002%2Ccn_600519%2Ccn_000651%2Ccn_600887%2Ccn_002415%2Ccn_601288%2Ccn_000333%2C', '_%3D1498179095094%26list%3Dsh600030']\n",
      "[[  1.70000000e+01   3.41041725e+00   8.23529412e-01   5.88235294e-02\n    0.00000000e+00   0.00000000e+00]\n [  8.10000000e+01   4.39862211e+00   4.93827160e-01   6.17283951e-02\n    1.00000000e+00   0.00000000e+00]\n [  3.80000000e+01   4.04333705e+00   6.05263158e-01   5.26315789e-02\n    0.00000000e+00   0.00000000e+00]\n [  4.95000000e+02   5.91000531e+00   2.02020202e-01   3.67676768e-01\n    0.00000000e+00   0.00000000e+00]\n [  1.80000000e+01   3.46132014e+00   8.33333333e-01   5.55555556e-02\n    0.00000000e+00   0.00000000e+00]\n [  1.20000000e+01   2.58496250e+00   7.50000000e-01   8.33333333e-02\n    0.00000000e+00   0.00000000e+00]\n [  2.20000000e+01   3.57262366e+00   5.90909091e-01   3.18181818e-01\n    0.00000000e+00   0.00000000e+00]\n [  3.18000000e+02   4.75168002e+00   4.15094340e-01   7.54716981e-02\n    0.00000000e+00   0.00000000e+00]\n [  1.08000000e+02   3.49555851e+00   5.83333333e-01   8.33333333e-02\n    0.00000000e+00   0.00000000e+00]\n [  3.50000000e+01   3.90015302e+00   6.57142857e-01   5.71428571e-02\n    0.00000000e+00   0.00000000e+00]\n [  4.80000000e+01   4.54591452e+00   3.75000000e-01   8.33333333e-02\n    0.00000000e+00   0.00000000e+00]\n [  9.40000000e+01   3.91793393e+00   5.63829787e-01   2.65957447e-01\n    0.00000000e+00   0.00000000e+00]\n [  3.90000000e+01   4.18912305e+00   2.30769231e-01   2.56410256e-02\n    0.00000000e+00   0.00000000e+00]\n [  3.30000000e+01   4.33197669e+00   5.15151515e-01   1.51515152e-01\n    0.00000000e+00   0.00000000e+00]\n [  5.91000000e+02   5.05604842e+00   4.07783418e-01   1.15059222e-01\n    0.00000000e+00   0.00000000e+00]\n [  2.73000000e+02   4.64742687e+00   4.79853480e-01   7.32600733e-02\n    1.00000000e+00   0.00000000e+00]\n [  9.64000000e+02   4.91482638e+00   4.09751037e-01   6.01659751e-02\n    0.00000000e+00   1.03734440e-03]\n [  3.58000000e+02   4.54380130e+00   5.50279330e-01   8.37988827e-02\n    0.00000000e+00   2.79329609e-03]\n [  5.24000000e+02   4.89849219e+00   3.56870229e-01   1.88931298e-01\n    0.00000000e+00   0.00000000e+00]\n [  1.19000000e+02   4.52449113e+00   2.18487395e-01   2.94117647e-01\n    0.00000000e+00   0.00000000e+00]\n [  9.40000000e+01   4.17912920e+00   5.21276596e-01   6.38297872e-02\n    0.00000000e+00   0.00000000e+00]\n [  5.98000000e+02   4.90393233e+00   4.43143813e-01   1.77257525e-01\n    0.00000000e+00   0.00000000e+00]\n [  1.40000000e+01   3.18200581e+00   7.85714286e-01   7.14285714e-02\n    0.00000000e+00   0.00000000e+00]\n [  1.40000000e+01   3.32486296e+00   7.85714286e-01   7.14285714e-02\n    0.00000000e+00   0.00000000e+00]\n [  5.16000000e+02   5.02568907e+00   4.24418605e-01   1.02713178e-01\n    0.00000000e+00   0.00000000e+00]]\n[0 0 0 0 0 0 0 0 0 0 0 0 0 0 0 0 0 0 0 0 0 0 0 0 0]\n***************start****************\n[ 0.95889724  0.98345865  0.99448622  0.98496241  0.99398195]\n**************saveing***************\nTraining score:1.000000\nTesting score:0.992315\nTesting precision score:0.992315\nTesting precision score:0.991952\nTesting recall score:0.992617\n"
     ],
     "output_type": "stream"
    }
   ],
   "source": [
    "value = []\n",
    "label = []\n",
    "temp = []\n",
    "data = []\n",
    "LaBel = []\n",
    "\n",
    "with open('normal_less.csv', 'rb') as f:\n",
    "    data_value = [x.decode('utf-8').strip() for x in f.readlines()]\n",
    "    for i in data_value:\n",
    "        value.append(i)\n",
    "        label.append(0)  # 正常用户输入内容\n",
    "    f.close()\n",
    "\n",
    "with open('sqlnew.csv', 'rb') as f:\n",
    "    data_value = [x.decode('utf-8').strip() for x in f.readlines()]\n",
    "    for i in data_value:\n",
    "        value.append(i)\n",
    "        label.append(1)  # 有sql注入嫌疑的输入内容\n",
    "    f.close()\n",
    "\n",
    "print(value[:10])\n",
    "\n",
    "for i in range(0, len(value)):\n",
    "    # for i in range(0,10):\n",
    "    if len(value[i]) != 0:\n",
    "        temp = get_features(temp, value[i])\n",
    "        data.append(temp)\n",
    "        LaBel.append(label[i])\n",
    "        temp = []\n",
    "\n",
    "data = np.array(data)\n",
    "LaBel = np.array(LaBel)\n",
    "# 保存特征数据\n",
    "\n",
    "print(data[:25])\n",
    "print(LaBel[:25])\n",
    "# test\n",
    "X_train, X_test, y_train, y_test = train_test_split(data, LaBel, test_size=0.3, random_state=1)\n",
    "sc = StandardScaler()\n",
    "sc.fit(X_train)\n",
    "# 对数据集进行处理\n",
    "sql_tree = tree.DecisionTreeClassifier(criterion='gini', splitter='best', max_depth=None, min_samples_split=2,\n",
    "                                       min_samples_leaf=1, min_weight_fraction_leaf=0.0, max_features=6,\n",
    "                                       random_state=None, max_leaf_nodes=None,\n",
    "                                       min_impurity_decrease=0.0, min_impurity_split=None, presort=False)\n",
    "\n",
    "print(\"***************start****************\")\n",
    "\n",
    "sql_tree_save = sql_tree.fit(X_train, y_train)\n",
    "score = cross_val_score(sql_tree, data, LaBel, cv=5)\n",
    "print(score)\n",
    "\n",
    "print(\"**************saveing***************\")\n",
    "# joblib.dump(sql_tree_save, 'C:/Users/Birdman/Desktop/data/sql/sql.model')\n",
    "print(\"Training score:%f\" % (sql_tree.score(X_train, y_train)))\n",
    "print(\"Testing score:%f\" % (sql_tree.score(X_test, y_test)))\n",
    "y_pred = sql_tree.predict(X_test)\n",
    "print(\"Testing precision score:%f\" % (accuracy_score(y_test, y_pred)))\n",
    "print(\"Testing precision score:%f\" % (precision_score(y_test, y_pred)))\n",
    "print(\"Testing recall score:%f\" % (recall_score(y_test, y_pred)))\n"
   ],
   "metadata": {
    "collapsed": false,
    "pycharm": {
     "name": "#%%\n",
     "is_executing": false
    }
   }
  }
 ],
 "metadata": {
  "kernelspec": {
   "display_name": "Python 3",
   "language": "python",
   "name": "python3"
  },
  "language_info": {
   "codemirror_mode": {
    "name": "ipython",
    "version": 2
   },
   "file_extension": ".py",
   "mimetype": "text/x-python",
   "name": "python",
   "nbconvert_exporter": "python",
   "pygments_lexer": "ipython2",
   "version": "2.7.6"
  },
  "pycharm": {
   "stem_cell": {
    "cell_type": "raw",
    "source": [],
    "metadata": {
     "collapsed": false
    }
   }
  }
 },
 "nbformat": 4,
 "nbformat_minor": 0
}
