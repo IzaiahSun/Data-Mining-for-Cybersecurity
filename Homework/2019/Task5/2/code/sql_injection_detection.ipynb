{
 "cells": [
  {
   "cell_type": "code",
   "execution_count": 1,
   "metadata": {},
   "outputs": [],
   "source": [
    "#加载辅助函数、表\n",
    "sql_dbname_words = [\n",
    "    'schema', 'user', 'usr', 'pass', 'pwd', \n",
    "    'pswd', 'table', 'column', 'chr', 'char', \n",
    "    'dbms', 'type'\n",
    "]\n",
    "\n",
    "sql_query_words = [\n",
    "    'select', 'from', 'where', 'all', 'exists',\n",
    "    'and', 'or', 'not', 'join', 'using', 'asc', 'order',\n",
    "    'null', 'between',  'except', 'delay', 'all'\n",
    "    'union', 'create', 'insert', 'delete', 'update', 'alter', \n",
    "    'truncate', 'set', 'add', 'waitfor', 'then', 'else',\n",
    "    'derp', 'herp'\n",
    "]\n",
    "\n",
    "sql_function_words = [\n",
    "    'avg', 'min', 'max', 'sum', 'count', 'distinct', 'version',\n",
    "    'group', 'having', 'sleep'\n",
    "    'binary', 'raw', 'hex', 'quote'\n",
    "]\n",
    "\n",
    "\n",
    "# 特征提取函数\n",
    "import numpy as np\n",
    "\n",
    "def length_of(payload):\n",
    "    return len(payload)\n",
    "\n",
    "\n",
    "def sql_dbname_score(payload):\n",
    "    payload = payload.lower()\n",
    "    score = 0\n",
    "    step = 0\n",
    "    \n",
    "    for word in sql_dbname_words:\n",
    "        if word in payload:\n",
    "            score += np.exp2(step)\n",
    "            step += 1\n",
    "    return score\n",
    "\n",
    "\n",
    "def sql_query_score(payload):\n",
    "    payload = payload.lower()\n",
    "    score = 0\n",
    "    step = 0\n",
    "    \n",
    "    for word in sql_query_words:\n",
    "        if word in payload:\n",
    "            score += np.exp2(step)\n",
    "#             score += 1\n",
    "            step += 1\n",
    "    return score\n",
    "    \n",
    "\n",
    "def sql_function_score(payload):\n",
    "    payload = payload.lower()\n",
    "    score = 0\n",
    "    step = 0\n",
    "    \n",
    "    for word in sql_function_words:\n",
    "        if word in payload:\n",
    "            score += np.exp2(step)\n",
    "            step += 1\n",
    "    return score\n",
    "\n",
    "\n",
    "# 是否被注释符截断\n",
    "def is_truncated(payload):\n",
    "    from urllib import parse\n",
    "    end = payload.lower()[-10:] # 切末尾十个字符检查切片\n",
    "    for char in end:\n",
    "        if parse.quote(char) in ('%00', '%23', parse.quote('--+'), parse.quote('--')):\n",
    "            return 1\n",
    "    return 0\n",
    "\n",
    "def count_capital_case(payload):\n",
    "    count = 0\n",
    "    for char in payload:\n",
    "        if char >= 'A' and char <= 'Z':\n",
    "            count += 1\n",
    "    return count\n",
    "    \n",
    "    \n",
    "    \n",
    "def get_feature_vec(payload):\n",
    "    feature_vec = []\n",
    "    feature_vec.append(length_of(payload))\n",
    "    feature_vec.append(sql_dbname_score(payload))\n",
    "    feature_vec.append(sql_query_score(payload))\n",
    "    feature_vec.append(sql_function_score(payload))\n",
    "    feature_vec.append(is_truncated(payload))\n",
    "    feature_vec.append(count_capital_case(payload))\n",
    "    return feature_vec"
   ]
  },
  {
   "cell_type": "code",
   "execution_count": 2,
   "metadata": {},
   "outputs": [],
   "source": [
    "# 数据载入及清洗\n",
    "import pandas as pd\n",
    "from sklearn.utils import shuffle\n",
    "from sklearn.preprocessing import StandardScaler\n",
    "from sklearn.model_selection import train_test_split\n",
    "from urllib import parse\n",
    "\n",
    "normal_df = pd.read_csv('normal.csv', header=None, names=['payload'], dtype=str)\n",
    "normal_df['label'] = np.zeros(len(normal_df['payload']), dtype=int)\n",
    "\n",
    "sqli_df = pd.read_csv('sqli.csv', header=None, names=['payload'], dtype=str)\n",
    "sqli_df['label'] = np.ones(len(sqli_df['payload']), dtype=int)\n",
    "\n",
    "payloads_df = shuffle(pd.concat([normal_df, sqli_df]))\n",
    "payloads_df = payloads_df.dropna(axis=0)\n",
    "# payloads_df.drop(payloads_df[np.isnan(payloads_df['payload'])].index, inplace=True)\n",
    "# print(payloads_df)\n",
    "\n",
    "payloads = np.array(payloads_df['payload'].values)\n",
    "labels = np.array(payloads_df['label'].values)\n",
    "# print(payloads)\n",
    "# print(labels)\n",
    "\n",
    "features = []\n",
    "for payload in payloads:\n",
    "    if type(payload) is not str:\n",
    "        continue\n",
    "#     print(parse.unquote(payload))\n",
    "    features.append(get_feature_vec(parse.unquote(payload)))\n",
    "\n",
    "features = np.array(features)\n",
    "# print(features[:10])\n",
    "# print(labels[:10])\n"
   ]
  },
  {
   "cell_type": "code",
   "execution_count": 3,
   "metadata": {},
   "outputs": [
    {
     "name": "stdout",
     "output_type": "stream",
     "text": [
      "[[-0.40922527 -0.47184717 -0.24133629 -0.28233137 -0.09552562 -0.43146416]\n",
      " [ 0.30832515 -0.47184717 -0.24133629 -0.28233137 -0.09552562 -0.65270789]\n",
      " [-0.96369604 -0.47184717 -0.49476121 -0.28233137 -0.09552562 -0.70801882]\n",
      " [-0.83323233 -0.47184717 -0.41028624 -0.28233137 -0.09552562 -0.45911963]\n",
      " [-0.72723056 -0.47184717 -0.49476121 -0.28233137 -0.09552562 -0.68036335]]\n"
     ]
    }
   ],
   "source": [
    "# 训测数据集划分及数据预处理\n",
    "X_train, X_test, y_train, y_test = train_test_split(\n",
    "    features, labels, random_state=None, test_size = 0.3, stratify=labels)\n",
    "scaler = StandardScaler()\n",
    "X_train_std = scaler.fit_transform(X_train)\n",
    "X_test_std = scaler.transform(X_test)\n",
    "print(X_test_std[:5])"
   ]
  },
  {
   "cell_type": "code",
   "execution_count": 18,
   "metadata": {},
   "outputs": [
    {
     "name": "stdout",
     "output_type": "stream",
     "text": [
      "训练完成\n"
     ]
    }
   ],
   "source": [
    "# 模型训练\n",
    "from sklearn.tree import DecisionTreeClassifier\n",
    "from sklearn import svm\n",
    "\n",
    "dtree = DecisionTreeClassifier(random_state=None).fit(X_train_std, y_train)\n",
    "print('训练完成')"
   ]
  },
  {
   "cell_type": "code",
   "execution_count": 19,
   "metadata": {},
   "outputs": [
    {
     "name": "stdout",
     "output_type": "stream",
     "text": [
      "                precision    recall  f1-score   support\n",
      "\n",
      "Normal payload       0.96      0.98      0.97      1500\n",
      "  SQLi payload       0.98      0.96      0.97      1487\n",
      "\n",
      "      accuracy                           0.97      2987\n",
      "     macro avg       0.97      0.97      0.97      2987\n",
      "  weighted avg       0.97      0.97      0.97      2987\n",
      "\n"
     ]
    }
   ],
   "source": [
    "# 模型评估报告\n",
    "from sklearn import metrics\n",
    "predict_target = dtree.predict(X_test_std)\n",
    "print(metrics.classification_report(y_test, predict_target, \n",
    "                                    target_names=['Normal payload', 'SQLi payload']))\n"
   ]
  },
  {
   "cell_type": "markdown",
   "metadata": {},
   "source": [
    "## 下面采用管道的形式对模型进行训练以及评估，使用了K折交叉验证"
   ]
  },
  {
   "cell_type": "code",
   "execution_count": 20,
   "metadata": {},
   "outputs": [
    {
     "name": "stdout",
     "output_type": "stream",
     "text": [
      "Accuracy: 0.98\n",
      "Accuracy: 0.97\n",
      "Accuracy: 0.97\n",
      "Accuracy: 0.96\n",
      "Accuracy: 0.97\n",
      "Accuracy: 0.97\n",
      "Accuracy: 0.97\n",
      "Accuracy: 0.97\n",
      "Accuracy: 0.96\n",
      "Accuracy: 0.98\n",
      "Mean Accuracy: 0.97 (+/- 0.01)\n"
     ]
    }
   ],
   "source": [
    "from sklearn import preprocessing\n",
    "from sklearn.model_selection import cross_val_score\n",
    "from sklearn.pipeline import make_pipeline\n",
    "from sklearn.tree import DecisionTreeClassifier\n",
    "from sklearn import metrics\n",
    "\n",
    "clf_pipline = make_pipeline(preprocessing.StandardScaler(),\n",
    "                           DecisionTreeClassifier(random_state=None))\n",
    "scores_pipeline_cv = cross_val_score(clf_pipline,X_train_std, y_train, \n",
    "                                     cv=10)\n",
    "for ACC in scores_pipeline_cv:\n",
    "    print('Accuracy: %.2f' % ACC)\n",
    "print(\"Mean Accuracy: %0.2f (+/- %0.2f)\" % (scores_pipeline_cv.mean(), \n",
    "                                       scores_pipeline_cv.std() * 2))\n"
   ]
  },
  {
   "cell_type": "code",
   "execution_count": 27,
   "metadata": {},
   "outputs": [
    {
     "name": "stdout",
     "output_type": "stream",
     "text": [
      "Normal payload\n"
     ]
    }
   ],
   "source": [
    "# 测试用例\n",
    "payload1 = 'id=196112 union select TABLE_NAME from INFORMATION_SCHEMA.TABLES where TABLE_SCHEMA like \"security\" '\n",
    "payload2 = 'name=admin&&pass=p@sSw0RD'\n",
    "feature_vec = [get_feature_vec(payload2)]\n",
    "conclusion = dtree.predict(feature_vec)[0]\n",
    "print('SQLi payload') if conclusion == 1 else print('Normal payload')"
   ]
  },
  {
   "cell_type": "code",
   "execution_count": null,
   "metadata": {},
   "outputs": [],
   "source": []
  }
 ],
 "metadata": {
  "kernelspec": {
   "display_name": "Python 3",
   "language": "python",
   "name": "python3"
  },
  "language_info": {
   "codemirror_mode": {
    "name": "ipython",
    "version": 3
   },
   "file_extension": ".py",
   "mimetype": "text/x-python",
   "name": "python",
   "nbconvert_exporter": "python",
   "pygments_lexer": "ipython3",
   "version": "3.7.5"
  }
 },
 "nbformat": 4,
 "nbformat_minor": 4
}
