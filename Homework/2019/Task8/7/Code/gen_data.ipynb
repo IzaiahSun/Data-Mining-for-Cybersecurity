{
 "cells": [
  {
   "cell_type": "code",
   "execution_count": 12,
   "metadata": {},
   "outputs": [
    {
     "name": "stdout",
     "output_type": "stream",
     "text": [
      "0\n",
      "10000\n"
     ]
    }
   ],
   "source": [
    "from captcha.image import ImageCaptcha\n",
    "import matplotlib.pyplot as plt\n",
    "import random\n",
    "import string\n",
    "\n",
    "def createpic():\n",
    "    characters = string.digits + string.ascii_uppercase + string.ascii_lowercase\n",
    "    height, width, n_len, n_class = 60, 160, 4, len(characters)\n",
    "    generator = ImageCaptcha(width=width, height=height)\n",
    "    random_str = ''.join([random.choice(characters) for e in range(4)])\n",
    "    img = generator.generate_image(random_str)\n",
    "    img0 = img.convert('L')\n",
    "    str_path = './test/' + random_str +'.png'\n",
    "    img0.save(str_path)\n",
    "\t\n",
    "\t\n",
    "for i in range(12000):\n",
    "    if i % 10000 == 0:\n",
    "        print(i)\n",
    "    createpic()\n",
    "\t"
   ]
  },
  {
   "cell_type": "code",
   "execution_count": null,
   "metadata": {},
   "outputs": [],
   "source": []
  }
 ],
 "metadata": {
  "kernelspec": {
   "display_name": "Python 3",
   "language": "python",
   "name": "python3"
  },
  "language_info": {
   "codemirror_mode": {
    "name": "ipython",
    "version": 3
   },
   "file_extension": ".py",
   "mimetype": "text/x-python",
   "name": "python",
   "nbconvert_exporter": "python",
   "pygments_lexer": "ipython3",
   "version": "3.6.8"
  }
 },
 "nbformat": 4,
 "nbformat_minor": 2
}
