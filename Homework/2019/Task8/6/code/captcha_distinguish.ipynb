{
 "cells": [
  {
   "cell_type": "code",
   "execution_count": 1,
   "metadata": {},
   "outputs": [],
   "source": [
    "import random\n",
    "import numpy as np\n",
    "from PIL import Image\n",
    "from captcha.image import ImageCaptcha\n",
    "import tensorflow as tf"
   ]
  },
  {
   "cell_type": "code",
   "execution_count": 2,
   "metadata": {},
   "outputs": [],
   "source": [
    "STRING = ['a', 'b', 'c', 'd', 'e', 'f', 'g', 'h', \n",
    "        'i', 'j', 'k', 'l', 'm', 'n', 'o', 'p', 'q', 'r', 's', 't', 'u','J', 'K', 'L', 'M',\n",
    "        'v', 'w', 'x', 'y', 'z','A', 'B', 'C', 'D', 'E', 'F', 'G', 'H', 'I', \n",
    "        'N', 'O', 'P', 'Q', 'R', 'S', 'T', 'U',\n",
    "        'V', 'W', 'X', 'Y', 'Z']\n",
    "CAPTCHA_LIST = STRING\n",
    "CAPTCHA_LEN = 4            # 验证码长度\n",
    "CAPTCHA_HEIGHT = 60        # 验证码高度\n",
    "CAPTCHA_WIDTH = 160        # 验证码宽度"
   ]
  },
  {
   "cell_type": "code",
   "execution_count": 3,
   "metadata": {},
   "outputs": [],
   "source": [
    "#随机生成长度为4的验证码字符串\n",
    "def randomText(charSet=STRING, captcha_size=4):\n",
    "    captchaText = [random.choice(charSet) for _ in range(captcha_size)]\n",
    "    return ''.join(captchaText)\n",
    "\n",
    "#生成验证码图片\n",
    "def generateCaptchaImage(width=CAPTCHA_WIDTH, height=CAPTCHA_HEIGHT, save=None):\n",
    "    image = ImageCaptcha(width=width, height=height)\n",
    "    # 验证码文本\n",
    "    captcha_text = randomText()\n",
    "    captcha = image.generate(captcha_text)\n",
    "    # 转化为np数组\n",
    "    captcha_image = Image.open(captcha)\n",
    "    captcha_image = np.array(captcha_image)\n",
    "    return captcha_text, captcha_image"
   ]
  },
  {
   "cell_type": "markdown",
   "metadata": {},
   "source": [
    "### 对图片进行预处理"
   ]
  },
  {
   "cell_type": "code",
   "execution_count": 4,
   "metadata": {},
   "outputs": [],
   "source": [
    "#将图片转为黑白的\n",
    "def convertToGray(img):\n",
    "    if len(img.shape) > 2:\n",
    "        img = np.mean(img, -1)\n",
    "    return img\n",
    "\n",
    "#将验证码的文本转为对应的向量\n",
    "def textToVector(text, captcha_len=CAPTCHA_LEN, captcha_list=CAPTCHA_LIST):\n",
    "    text_len = len(text)    # 欲生成验证码的字符长度\n",
    "    if text_len > captcha_len:\n",
    "        raise ValueError('验证码最长4个字符')\n",
    "    vector = np.zeros(captcha_len * len(captcha_list))    \n",
    "    for i in range(text_len):\n",
    "        vector[captcha_list.index(text[i])+i*len(captcha_list)] = 1     \n",
    "    return vector\n",
    "\n",
    "#将验证码向量转为对应的字符串;\n",
    "def vectorToText(vec, captcha_list=CAPTCHA_LIST, captcha_len=CAPTCHA_LEN):\n",
    "    vec_idx = vec\n",
    "    text_list = [captcha_list[int(v)] for v in vec_idx]\n",
    "    return ''.join(text_list)\n",
    "\n",
    "#返回图片的shape();\n",
    "def wrapImageShape(shape=(60, 160, 3)):\n",
    "    while True:\n",
    "        t, im = generateCaptchaImage()\n",
    "        if im.shape == shape:\n",
    "            return t, im\n",
    "\n",
    "#获取图片组\n",
    "def getImageBatch(batch_count=60, width=CAPTCHA_WIDTH, height=CAPTCHA_HEIGHT):\n",
    "    \n",
    "    batch_x = np.zeros([batch_count, width * height])\n",
    "    batch_y = np.zeros([batch_count, CAPTCHA_LEN * len(CAPTCHA_LIST)])\n",
    "    for i in range(batch_count):    # 生成对应的训练集\n",
    "        text, image = wrapImageShape()\n",
    "        image = convertToGray(image)     # 转灰度numpy\n",
    "        # 将图片数组一维化 同时将文本也对应在两个二维组的同一行\n",
    "        batch_x[i, :] = image.flatten() / 255\n",
    "        batch_y[i, :] = textToVector(text)  # 验证码文本的向量形式\n",
    "    # 返回该训练批次\n",
    "    return batch_x, batch_y"
   ]
  },
  {
   "cell_type": "markdown",
   "metadata": {},
   "source": [
    "### CNN算法实现"
   ]
  },
  {
   "cell_type": "code",
   "execution_count": 5,
   "metadata": {},
   "outputs": [],
   "source": [
    "#初始化权值\n",
    "def weight(shape, w_alpha=0.01):\n",
    "    initial = w_alpha * tf.random.normal(shape)\n",
    "    return tf.Variable(initial)\n",
    "\n",
    "#初始化偏置项\n",
    "def bias(shape, b_alpha=0.1):\n",
    "    initial = b_alpha * tf.random.normal(shape)\n",
    "    return tf.Variable(initial)\n",
    "\n",
    "#卷积层\n",
    "def ConvLayer(x, w):\n",
    "    return tf.nn.conv2d(x, w, strides=[1, 1, 1, 1], padding='SAME')\n",
    "\n",
    "\n",
    "#池化层（最大池化）\n",
    "def MaxPool(x):\n",
    "    return tf.nn.max_pool2d(x, ksize=[1, 2, 2, 1], strides=[1, 2, 2, 1], padding='SAME')\n",
    "\n",
    "#实现卷积神经网络；\n",
    "def CNN(x, keep_prob, size, captcha_list=CAPTCHA_LIST, captcha_len=CAPTCHA_LEN):\n",
    " \n",
    "    # 需要将图片reshape为4维向量\n",
    "    image_height, image_width = size\n",
    "    x_image = tf.reshape(x, shape=[-1, image_height, image_width, 1])\n",
    "\n",
    "    # 第一层\n",
    "    w_conv1 = weight([3, 3, 1, 32])   \n",
    "    b_conv1 = bias([32])\n",
    "    h_conv1 = tf.nn.relu(ConvLayer(x_image, w_conv1) + b_conv1)    #卷积\n",
    "    h_pool1 = MaxPool(h_conv1)     # 池化\n",
    "    h_drop1 = tf.nn.dropout(h_pool1, rate = 1-keep_prob)     \n",
    "\n",
    "    # 第二层\n",
    "    w_conv2 = weight([3, 3, 32, 64])\n",
    "    b_conv2 = bias([64])\n",
    "    h_conv2 = tf.nn.relu(ConvLayer(h_drop1, w_conv2) + b_conv2)\n",
    "    h_pool2 = MaxPool(h_conv2)\n",
    "    h_drop2 = tf.nn.dropout(h_pool2,rate= 1 - keep_prob)\n",
    "\n",
    "    # 第三层\n",
    "    w_conv3 = weight([3, 3, 64, 64])\n",
    "    b_conv3 = bias([64])\n",
    "    h_conv3 = tf.nn.relu(ConvLayer(h_drop2, w_conv3) + b_conv3)\n",
    "    h_pool3 = MaxPool(h_conv3)\n",
    "    h_drop3 = tf.nn.dropout(h_pool3, rate = 1 - keep_prob)\n",
    "\n",
    "    # 全连接层\n",
    "    image_height = int(h_drop3.shape[1])\n",
    "    image_width = int(h_drop3.shape[2])\n",
    "    w_fc = weight([image_height*image_width*64, 1024])    \n",
    "    b_fc = bias([1024])\n",
    "    h_drop3_re = tf.reshape(h_drop3, [-1, image_height*image_width*64])\n",
    "    h_fc = tf.nn.relu(tf.matmul(h_drop3_re, w_fc) + b_fc)\n",
    "    h_drop_fc = tf.nn.dropout(h_fc, keep_prob)\n",
    "\n",
    "    # 输出层\n",
    "    w_out = weight([1024, len(captcha_list)*captcha_len])\n",
    "    b_out = bias([len(captcha_list)*captcha_len])\n",
    "    y_conv = tf.matmul(h_drop_fc, w_out) + b_out\n",
    "    return y_conv\n"
   ]
  },
  {
   "cell_type": "markdown",
   "metadata": {},
   "source": [
    "### 模型训练"
   ]
  },
  {
   "cell_type": "code",
   "execution_count": 7,
   "metadata": {},
   "outputs": [
    {
     "name": "stdout",
     "output_type": "stream",
     "text": [
      "step: 15500    accuracy:0.85\n",
      "train end!\n"
     ]
    }
   ],
   "source": [
    "acc_rate = 0.85   #期望达到的准确率     \n",
    "# 按照图片大小申请占位符\n",
    "x = tf.compat.v1.placeholder(tf.float32, [None, 60 * 160])\n",
    "y = tf.compat.v1.placeholder(tf.float32, [None, (4 * len(STRING))])\n",
    "\n",
    "keep_prob = tf.compat.v1.placeholder(tf.float32)\n",
    "# cnn模型\n",
    "y_conv = CNN(x, keep_prob, (60, 160))\n",
    "\n",
    "# 优化\n",
    "loss = tf.reduce_mean(tf.nn.sigmoid_cross_entropy_with_logits(labels=y, logits=y_conv)) \n",
    "optimizer = tf.compat.v1.train.AdamOptimizer(1e-3).minimize(loss)\n",
    "\n",
    "\n",
    "width=len(STRING)\n",
    "height=4\n",
    "predict = tf.reshape(y_conv,[-1, height, width])   \n",
    "max_predict_idx = tf.argmax(predict, 2)\n",
    "label = tf.reshape(y, [-1, height, width])\n",
    "max_label_idx = tf.argmax(label, 2)\n",
    "correct_p = tf.equal(max_predict_idx, max_label_idx)   \n",
    "accuracy = tf.reduce_mean(tf.cast(correct_p, tf.float32))\n",
    "\n",
    "# 启动会话.开始训练\n",
    "saver = tf.compat.v1.train.Saver()\n",
    "sess = tf.compat.v1.Session()\n",
    "sess.run(tf.compat.v1.global_variables_initializer())     # 初始化\n",
    "step = 0    # 步数\n",
    "while(1):\n",
    "    batch_x, batch_y = getImageBatch(64)\n",
    "    sess.run(optimizer, feed_dict={x: batch_x, y: batch_y, keep_prob: 0.75})\n",
    "    if step % 100 == 0:\n",
    "        batch_x_test, batch_y_test = getImageBatch(100)\n",
    "        acc = sess.run(accuracy, feed_dict={x: batch_x_test, y: batch_y_test, keep_prob: 1.0})\n",
    "        # 准确率满足要求，保存模型\n",
    "        if acc > acc_rate:\n",
    "            model_path = \"./model/captcha.model\"\n",
    "            saver.save(sess, model_path, global_step=step)\n",
    "            break\n",
    "    step += 1\n",
    "    \n",
    "batch_x_test, batch_y_test = getImageBatch(100)\n",
    "acc = sess.run(accuracy, feed_dict={x: batch_x_test, y: batch_y_test, keep_prob: 1.0}) \n",
    "print(\"step: %d    accuracy:%.2f\" % (step, acc))\n",
    "sess.close()\n",
    "print(\"train end!\")"
   ]
  },
  {
   "cell_type": "code",
   "execution_count": 8,
   "metadata": {},
   "outputs": [
    {
     "name": "stdout",
     "output_type": "stream",
     "text": [
      "WARNING:tensorflow:From F:\\Compiler\\Anaconda3\\envs\\tensorflow-EDU\\lib\\site-packages\\tensorflow\\python\\training\\saver.py:1276: checkpoint_exists (from tensorflow.python.training.checkpoint_management) is deprecated and will be removed in a future version.\n",
      "Instructions for updating:\n",
      "Use standard file APIs to check for files with this prefix.\n",
      "INFO:tensorflow:Restoring parameters from model/captcha.model-15500\n",
      "生成的验证码: dvUM  模型预测值: ['dvUv']\n"
     ]
    }
   ],
   "source": [
    "#传入单个图片文件自动判定其验证码内容\n",
    "text, image = generateCaptchaImage()\n",
    "img = Image.fromarray(image)\n",
    "image = convertToGray(image)\n",
    "image = image.flatten() / 255\n",
    "image_list = [image]     \n",
    "with tf.Session() as sess:\n",
    "    saver.restore(sess, tf.train.latest_checkpoint('model/'))\n",
    "    predict = tf.argmax(tf.reshape(y_conv, [-1,4, len(STRING)]), 2)\n",
    "    vector_list = sess.run(predict, feed_dict={x: image_list, keep_prob: 1})\n",
    "    vector_list = vector_list.tolist()\n",
    "    pre_text = [vectorToText(vector) for vector in vector_list]\n",
    "\n",
    "print(\"生成的验证码:\", text, ' 模型预测值:', pre_text )"
   ]
  }
 ],
 "metadata": {
  "kernelspec": {
   "display_name": "Python 3",
   "language": "python",
   "name": "python3"
  },
  "language_info": {
   "codemirror_mode": {
    "name": "ipython",
    "version": 3
   },
   "file_extension": ".py",
   "mimetype": "text/x-python",
   "name": "python",
   "nbconvert_exporter": "python",
   "pygments_lexer": "ipython3",
   "version": "3.7.5"
  }
 },
 "nbformat": 4,
 "nbformat_minor": 2
}
