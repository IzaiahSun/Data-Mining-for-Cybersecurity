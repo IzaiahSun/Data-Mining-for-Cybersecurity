{
 "cells": [
  {
   "cell_type": "code",
   "execution_count": 1,
   "metadata": {
    "collapsed": true,
    "pycharm": {
     "is_executing": false
    }
   },
   "outputs": [],
   "source": [
    "import numpy as np\n",
    "import re\n",
    "import os\n",
    "import csv\n",
    "import math\n",
    "from xgboost import XGBClassifier\n",
    "from sklearn.model_selection import train_test_split\n",
    "from sklearn.preprocessing import StandardScaler\n",
    "from sklearn.externals import joblib\n",
    "from sklearn.metrics import precision_score, recall_score, accuracy_score\n",
    "from sklearn.model_selection import cross_val_score"
   ]
  },
  {
   "cell_type": "code",
   "execution_count": 2,
   "outputs": [],
   "source": [
    "def get_file_len(filename):\n",
    "    length = 0\n",
    "    with open(filename, 'r', encoding='ISO-8859-1') as f:\n",
    "        content = f.readlines()\n",
    "        for i in content:\n",
    "            length = length + len(i)\n",
    "        f.close()\n",
    "    return length"
   ],
   "metadata": {
    "collapsed": false,
    "pycharm": {
     "name": "#%%\n",
     "is_executing": false
    }
   }
  },
  {
   "cell_type": "code",
   "execution_count": 3,
   "outputs": [],
   "source": [
    "def get_file_len(filename):\n",
    "    length = 0\n",
    "    with open(filename, 'r', encoding='ISO-8859-1') as f:\n",
    "        content = f.readlines()\n",
    "        for i in content:\n",
    "            length = length + len(i)\n",
    "        f.close()\n",
    "    return length"
   ],
   "metadata": {
    "collapsed": false,
    "pycharm": {
     "name": "#%%\n",
     "is_executing": false
    }
   }
  },
  {
   "cell_type": "code",
   "execution_count": 4,
   "outputs": [],
   "source": [
    "def calc_ent(filename):\n",
    "    file = \"\"\n",
    "\n",
    "    with open(filename, 'r', encoding='ISO-8859-1') as f:\n",
    "        lines = f.readlines()\n",
    "        for i in lines:\n",
    "            file = file + i\n",
    "\n",
    "    num_entries = len(file)\n",
    "    # 计算分类标签label出现的次数\n",
    "    label_counts = {}\n",
    "    # the number of unique elements and their occurance\n",
    "    for featVec in file:\n",
    "        # 将当前实例的标签存储，即每一行数据的最后一个数据代表的是标签\n",
    "        current_label = featVec[-1]\n",
    "        # 为所有可能的分类创建字典，如果当前的健值不存在，则扩展字典并将当前健值加入\n",
    "        if current_label not in label_counts.keys():\n",
    "            label_counts[current_label] = 0\n",
    "            label_counts[current_label] += 1\n",
    "    # 对于label标签的占比，求出label标签的香农墒\n",
    "    shannon_ent = 0.0\n",
    "    for key in label_counts:\n",
    "        # 使所有类标签的发生频率计算类别出现的概率\n",
    "        prob = float(label_counts[key]) / num_entries\n",
    "        shannon_ent -= prob * math.log(prob, 2)\n",
    "    return shannon_ent"
   ],
   "metadata": {
    "collapsed": false,
    "pycharm": {
     "name": "#%%\n",
     "is_executing": false
    }
   }
  },
  {
   "cell_type": "code",
   "execution_count": 5,
   "outputs": [],
   "source": [
    "def max_word(filename):\n",
    "    content = \"\"\n",
    "    with open(filename, 'r', encoding='ISO-8859-1') as f:\n",
    "        c = f.readlines()\n",
    "        for i in c:\n",
    "            content = content + i\n",
    "\n",
    "    f.close()\n",
    "    text = content.split()\n",
    "    maxone = 0\n",
    "    for i in text:\n",
    "        if len(i) > maxone:\n",
    "            maxone = len(i)\n",
    "\n",
    "    return (maxone)\n"
   ],
   "metadata": {
    "collapsed": false,
    "pycharm": {
     "name": "#%%\n",
     "is_executing": false
    }
   }
  },
  {
   "cell_type": "code",
   "execution_count": 6,
   "outputs": [],
   "source": [
    "def get_file_func(filename):\n",
    "    content = ''\n",
    "    content_list = []\n",
    "    with open(filename, 'r', encoding='ISO-8859-1') as f:\n",
    "        c = f.readlines()\n",
    "        for i in c:\n",
    "            content = content + i.strip('\\n')\n",
    "        f.close()\n",
    "    content_list = re.split(r'\\(|\\)|\\[|\\]|\\{|\\}|\\s|\\.', content)\n",
    "    max_length = 0\n",
    "    for i in content_list:\n",
    "        if len(i) > max_length:\n",
    "            max_length = len(i)\n",
    "        else:\n",
    "            pass\n",
    "    # print(content_list)\n",
    "    count_exec = 0\n",
    "    count_file = 0\n",
    "    count_zip = 0\n",
    "    count_code = 0\n",
    "    count_chr = 0\n",
    "    count_re = 0\n",
    "    count_other = 0\n",
    "    for i in content_list:\n",
    "        if 'assert' in i or 'system' in i or 'eval' in i or 'cmd_shell' in i or 'shell_exec' in i:\n",
    "            count_exec = count_exec + 1\n",
    "        if 'file_get_contents' in i or 'fopen' in i or 'fwrite' in i or 'readdir' in i or 'scandir' in i or 'opendir' in i or 'curl' in i:\n",
    "            count_file = count_file + 1\n",
    "        if 'base64_encode' in i or 'base64_decode' in i:\n",
    "            count_code = count_code + 1\n",
    "        if 'gzcompress' in i or 'gzuncompress' in i or 'gzinflate' in i or 'gzdecode' in i:\n",
    "            count_zip = count_zip + 1\n",
    "        if 'chr' in i or 'ord' in i:\n",
    "            count_chr + count_chr + 1\n",
    "        if 'str_replace' in i or 'preg_replace' in i or 'substr' in i:\n",
    "            count_re = count_re + 1\n",
    "        if 'create_function' in i or 'pack' in i:\n",
    "            count_other = count_other + 1\n",
    "    # print(x)\n",
    "    return (max_length, count_exec, count_file, count_zip, count_code, count_chr, count_re, count_other)\n",
    "\n"
   ],
   "metadata": {
    "collapsed": false,
    "pycharm": {
     "name": "#%%\n",
     "is_executing": false
    }
   }
  },
  {
   "cell_type": "code",
   "execution_count": 7,
   "outputs": [],
   "source": [
    "def get_files(dir, suffix):  # 查找根目录，文件后缀\n",
    "    res = []\n",
    "    for root, directory, files in os.walk(dir):  # =>当前根,根下目录,目录下的文件\n",
    "        for filename in files:\n",
    "            name, suf = os.path.splitext(filename)  # =>文件名,文件后缀\n",
    "            if suf == suffix:\n",
    "                res.append(os.path.join(root, filename))  # =>吧一串字符串组合成路径\n",
    "    return res"
   ],
   "metadata": {
    "collapsed": false,
    "pycharm": {
     "name": "#%%\n",
     "is_executing": false
    }
   }
  },
  {
   "cell_type": "code",
   "execution_count": 8,
   "outputs": [],
   "source": [
    "def get_features(temp, value):\n",
    "    temp.append(calc_ent(value))\n",
    "    temp.append(get_file_len(value))\n",
    "    temp.append(max_word(value))\n",
    "    file_func = get_file_func(value)\n",
    "    for index in file_func:\n",
    "        temp.append(index)\n",
    "    return temp"
   ],
   "metadata": {
    "collapsed": false,
    "pycharm": {
     "name": "#%%\n",
     "is_executing": false
    }
   }
  },
  {
   "cell_type": "code",
   "execution_count": 9,
   "outputs": [
    {
     "name": "stdout",
     "text": [
      "读取名字完成\n",
      "***************start****************\n",
      "**************saveing***************\n",
      "[ 0.97769517  0.96468401  0.97951583  0.93283582  0.84701493]\nTraining score:0.988824\nTesting score:0.960298\nTesting accuracy score:0.960298\nTesting precision score:0.961694\nTesting recall score:0.973469\n"
     ],
     "output_type": "stream"
    }
   ],
   "source": [
    "white_file_name = []\n",
    "black_file_name = []\n",
    "white_file = []\n",
    "black_file = []\n",
    "white_label = []\n",
    "black_label = []\n",
    "\n",
    "for file in get_files(\"./white\", '.php'):  # =>查找以.php结尾的文件\n",
    "    white_file_name.append(file)\n",
    "    white_label.append(0)\n",
    "\n",
    "for file in get_files(\"./black\", '.php'):  # =>查找以.php结尾的文件\n",
    "    black_file_name.append(file)\n",
    "    black_label.append(1)\n",
    "\n",
    "csvFile = open(\"csvData.csv\", \"w\", newline='')  # 创建csv文件\n",
    "writer = csv.writer(csvFile, delimiter=\",\")\n",
    "header = [\"data\", \"label\"]  # 写入列的名称\n",
    "# 写入多行用writerows                                #写入多行\n",
    "writer.writerow(header)\n",
    "writer.writerows(zip(white_file_name, white_label))\n",
    "writer.writerows(zip(black_file_name, black_label))\n",
    "csvFile.close()\n",
    "\n",
    "print(\"读取名字完成\")\n",
    "\n",
    "name = []\n",
    "label = []\n",
    "temp = []\n",
    "data = []\n",
    "LaBel = []\n",
    "\n",
    "with open('csvData.csv', 'rb') as f:\n",
    "    data_value = [x.decode('utf-8').strip() for x in f.readlines()]\n",
    "    for i in data_value:\n",
    "        if i[-1:] == '0' or i[-1:] == '1':\n",
    "            name.append(i[:-2])\n",
    "            label.append(int(i[-1:]))\n",
    "    f.close()\n",
    "\n",
    "for i in range(0, len(name)):\n",
    "    # for i in range(0,250):\n",
    "    if len(name[i]) != 0:\n",
    "        temp = get_features(temp, name[i])\n",
    "        data.append(temp)\n",
    "        LaBel.append(label[i])\n",
    "        temp = []\n",
    "\n",
    "# test\n",
    "\n",
    "data = np.array(data)\n",
    "LaBel = np.array(LaBel)\n",
    "\n",
    "X_train, X_test, y_train, y_test = train_test_split(data, LaBel, test_size=0.3, random_state=1)\n",
    "sc = StandardScaler()\n",
    "sc.fit(X_train)\n",
    "# 对数据集进行处理\n",
    "\n",
    "print(\"***************start****************\")\n",
    "\n",
    "clf = XGBClassifier()\n",
    "clf_save = clf.fit(X_train, y_train)\n",
    "test_score = clf.score(X_test, y_test)\n",
    "\n",
    "print(\"**************saveing***************\")\n",
    "\n",
    "score = cross_val_score(clf, data, LaBel, cv=5)\n",
    "print(score)\n",
    "\n",
    "print(\"Training score:%f\" % (clf.score(X_train, y_train)))\n",
    "print(\"Testing score:%f\" % (clf.score(X_test, y_test)))\n",
    "\n",
    "y_pred = clf.predict(X_test)\n",
    "\n",
    "print(\"Testing accuracy score:%f\" % (accuracy_score(y_test, y_pred)))\n",
    "print(\"Testing precision score:%f\" % (precision_score(y_test, y_pred)))\n",
    "print(\"Testing recall score:%f\" % (recall_score(y_test, y_pred)))\n",
    "\n",
    "\n"
   ],
   "metadata": {
    "collapsed": false,
    "pycharm": {
     "name": "#%%\n",
     "is_executing": false
    }
   }
  }
 ],
 "metadata": {
  "kernelspec": {
   "display_name": "Python 3",
   "language": "python",
   "name": "python3"
  },
  "language_info": {
   "codemirror_mode": {
    "name": "ipython",
    "version": 2
   },
   "file_extension": ".py",
   "mimetype": "text/x-python",
   "name": "python",
   "nbconvert_exporter": "python",
   "pygments_lexer": "ipython2",
   "version": "2.7.6"
  },
  "pycharm": {
   "stem_cell": {
    "cell_type": "raw",
    "source": [],
    "metadata": {
     "collapsed": false
    }
   }
  }
 },
 "nbformat": 4,
 "nbformat_minor": 0
}
