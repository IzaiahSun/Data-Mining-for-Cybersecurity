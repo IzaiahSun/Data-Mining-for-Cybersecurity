{
 "cells": [
  {
   "cell_type": "code",
   "execution_count": 1,
   "metadata": {
    "collapsed": true
   },
   "outputs": [],
   "source": [
    "import numpy as np\n",
    "import pandas as pd\n",
    "import matplotlib.pyplot as plt\n",
    "import sklearn\n",
    "import os\n",
    "%matplotlib inline\n",
    "import warnings\n",
    "\n",
    "warnings.filterwarnings('ignore')"
   ]
  },
  {
   "cell_type": "code",
   "execution_count": 2,
   "metadata": {
    "collapsed": true
   },
   "outputs": [],
   "source": [
    "files_webshell = os.listdir(\"data/black_list/\")\n",
    "files_common = os.listdir(\"data/white_list/\")\n",
    "\n",
    "labels_webshell = []\n",
    "labels_common = []\n",
    "for i in range(0,len(files_webshell)):\n",
    "    labels_webshell.append(1)\n",
    "for i in range(0,len(files_common)):\n",
    "    labels_common.append(0)"
   ]
  },
  {
   "cell_type": "code",
   "execution_count": 3,
   "metadata": {
    "collapsed": true
   },
   "outputs": [],
   "source": [
    "for i in range(0,len(files_webshell)):\n",
    "    files_webshell[i] = \"data/black_list/\" + files_webshell[i]\n",
    "   # files_webshell[i] = files_webshell[i]\n",
    "for i in range(0,len(files_common)):\n",
    "    files_common[i] = \"data/white_list/\" + files_common[i]\n",
    "\n",
    "files = files_webshell + files_common\n",
    "labels = labels_webshell + labels_common\n",
    "datadict = {'label':labels,'file':files}\n",
    "df = pd.DataFrame(datadict,columns=['label','file'])"
   ]
  },
  {
   "cell_type": "code",
   "execution_count": 4,
   "metadata": {},
   "outputs": [
    {
     "data": {
      "text/html": [
       "<div>\n",
       "<style>\n",
       "    .dataframe thead tr:only-child th {\n",
       "        text-align: right;\n",
       "    }\n",
       "\n",
       "    .dataframe thead th {\n",
       "        text-align: left;\n",
       "    }\n",
       "\n",
       "    .dataframe tbody tr th {\n",
       "        vertical-align: top;\n",
       "    }\n",
       "</style>\n",
       "<table border=\"1\" class=\"dataframe\">\n",
       "  <thead>\n",
       "    <tr style=\"text-align: right;\">\n",
       "      <th></th>\n",
       "      <th>label</th>\n",
       "      <th>file</th>\n",
       "    </tr>\n",
       "  </thead>\n",
       "  <tbody>\n",
       "    <tr>\n",
       "      <th>6244</th>\n",
       "      <td>0</td>\n",
       "      <td>white_list/WebUISharingContext.php</td>\n",
       "    </tr>\n",
       "    <tr>\n",
       "      <th>6245</th>\n",
       "      <td>0</td>\n",
       "      <td>white_list/WebUIUserContext.php</td>\n",
       "    </tr>\n",
       "    <tr>\n",
       "      <th>6246</th>\n",
       "      <td>0</td>\n",
       "      <td>white_list/welcome.html.php</td>\n",
       "    </tr>\n",
       "    <tr>\n",
       "      <th>6247</th>\n",
       "      <td>0</td>\n",
       "      <td>white_list/WelcomeShell.php</td>\n",
       "    </tr>\n",
       "    <tr>\n",
       "      <th>6248</th>\n",
       "      <td>0</td>\n",
       "      <td>white_list/zu_za.php</td>\n",
       "    </tr>\n",
       "  </tbody>\n",
       "</table>\n",
       "</div>"
      ],
      "text/plain": [
       "      label                                file\n",
       "6244      0  white_list/WebUISharingContext.php\n",
       "6245      0     white_list/WebUIUserContext.php\n",
       "6246      0         white_list/welcome.html.php\n",
       "6247      0         white_list/WelcomeShell.php\n",
       "6248      0                white_list/zu_za.php"
      ]
     },
     "execution_count": 4,
     "metadata": {},
     "output_type": "execute_result"
    }
   ],
   "source": [
    "df.tail()"
   ]
  },
  {
   "cell_type": "code",
   "execution_count": 5,
   "metadata": {},
   "outputs": [
    {
     "name": "stdout",
     "output_type": "stream",
     "text": [
      "<class 'pandas.core.frame.DataFrame'>\n",
      "RangeIndex: 6249 entries, 0 to 6248\n",
      "Data columns (total 2 columns):\n",
      "label    6249 non-null int64\n",
      "file     6249 non-null object\n",
      "dtypes: int64(1), object(1)\n",
      "memory usage: 97.7+ KB\n"
     ]
    }
   ],
   "source": [
    "df.info()"
   ]
  },
  {
   "cell_type": "code",
   "execution_count": 6,
   "metadata": {
    "collapsed": true
   },
   "outputs": [],
   "source": [
    "#文件长度特征\n",
    "def getfilelen(x):\n",
    "    length = 0\n",
    "    with open(x,'r',encoding='ISO-8859-1') as f:\n",
    "        content = f.readlines()\n",
    "        for i in content:\n",
    "            length = length + len(i)\n",
    "        f.close()\n",
    "    return length\n",
    "\n",
    "df['len'] = df['file'].map(lambda x:getfilelen(x)).astype(int)"
   ]
  },
  {
   "cell_type": "code",
   "execution_count": 7,
   "metadata": {},
   "outputs": [
    {
     "data": {
      "text/plain": [
       "<matplotlib.axes._subplots.AxesSubplot at 0x26eff5a2a20>"
      ]
     },
     "execution_count": 7,
     "metadata": {},
     "output_type": "execute_result"
    },
    {
     "data": {
      "image/png": "[encoded data removed]",
      "text/plain": [
       "<matplotlib.figure.Figure at 0x26efed574a8>"
      ]
     },
     "metadata": {},
     "output_type": "display_data"
    }
   ],
   "source": [
    "import seaborn as sns\n",
    "plt.style.use('seaborn')\n",
    "sns.set(font_scale=2)\n",
    "pd.set_option('display.max_columns', 500)\n",
    "\n",
    "sns.kdeplot(df.len[df.label == 1].values, color=\"b\", shade=True)\n",
    "#黑样本\n",
    "sns.kdeplot(df.len[df.label == 0].values, color=\"r\", shade=True)\n",
    "#白样本"
   ]
  },
  {
   "cell_type": "code",
   "execution_count": 8,
   "metadata": {
    "collapsed": true
   },
   "outputs": [],
   "source": [
    "import math\n",
    "#信息熵\n",
    "def getfileshan(x):\n",
    "    length = 0\n",
    "    word = {}\n",
    "    p = 0\n",
    "    sum = 0\n",
    "    with open(x,'r',encoding='ISO-8859-1') as f:\n",
    "        content = f.readlines()\n",
    "        for i in content:\n",
    "            for j in i:\n",
    "                if j != '\\n' and j != ' ':\n",
    "                    if j not in word.keys():\n",
    "                        word[j] = 1\n",
    "                    else:\n",
    "                        word[j] = word[j] + 1\n",
    "                else:\n",
    "                    pass\n",
    "        f.close()\n",
    "    for i in word.keys():\n",
    "        sum = sum + word[i]\n",
    "    for i in word.keys():\n",
    "        p = p - float(word[i])/sum * math.log(float(word[i])/sum,2)\n",
    "    return p\n",
    "\n",
    "df['shang'] = df['file'].map(lambda x:getfileshan(x)).astype(float)"
   ]
  },
  {
   "cell_type": "code",
   "execution_count": 9,
   "metadata": {},
   "outputs": [
    {
     "data": {
      "text/plain": [
       "<matplotlib.axes._subplots.AxesSubplot at 0x26efedf1160>"
      ]
     },
     "execution_count": 9,
     "metadata": {},
     "output_type": "execute_result"
    },
    {
     "data": {
      "image/png": "[encoded data removed]",
      "text/plain": [
       "<matplotlib.figure.Figure at 0x26eff5eaf28>"
      ]
     },
     "metadata": {},
     "output_type": "display_data"
    }
   ],
   "source": [
    "import seaborn as sns\n",
    "plt.style.use('seaborn')\n",
    "sns.set(font_scale=2)\n",
    "pd.set_option('display.max_columns', 500)\n",
    "\n",
    "sns.kdeplot(df.shang[df.label == 1].values, color=\"b\", shade=True)\n",
    "#黑样本\n",
    "sns.kdeplot(df.shang[df.label == 0].values, color=\"r\", shade=True)\n",
    "#白样本"
   ]
  },
  {
   "cell_type": "code",
   "execution_count": 12,
   "metadata": {},
   "outputs": [],
   "source": [
    "#包含的特殊函数\n",
    "import re\n",
    "def getfilefunc(x):\n",
    "    content = ''\n",
    "    content_list = []\n",
    "    with open(x,'r',encoding='ISO-8859-1') as f:\n",
    "        c = f.readlines()\n",
    "        for i in c:\n",
    "            content = content + i.strip('\\n')\n",
    "        f.close()\n",
    "    content_list = re.split(r'\\(|\\)|\\[|\\]|\\{|\\}|\\s|\\.',content)\n",
    "    max_length = 0\n",
    "    for i in content_list:\n",
    "        if len(i) > max_length:\n",
    "            max_length = len(i)\n",
    "        else:\n",
    "            pass\n",
    "    #文件操作函数\n",
    "    count_exec = 0\n",
    "    count_file = 0\n",
    "    count_zip = 0\n",
    "    count_code = 0\n",
    "    count_chr = 0\n",
    "    count_re = 0\n",
    "    count_other = 0\n",
    "    for i in content_list:\n",
    "        if 'assert' in i or 'system' in i or 'eval' in i or 'cmd_shell' in i or 'shell_exec' in i:\n",
    "            count_exec = count_exec + 1\n",
    "        if 'file_get_contents' in i or 'fopen' in i or 'fwrite' in i or 'readdir' in i or 'scandir' in i or 'opendir' in i or 'curl' in i:\n",
    "            count_file = count_file + 1\n",
    "        if 'base64_encode' in i or 'base64_decode' in i:\n",
    "            count_code = count_code + 1\n",
    "        if 'gzcompress' in i or 'gzuncompress' in i or 'gzinflate' in i or 'gzdecode' in i:\n",
    "            count_zip = count_zip + 1\n",
    "        if 'chr' in i or 'ord' in i:\n",
    "            count_chr + count_chr + 1\n",
    "        if 'str_replace' in i or 'preg_replace' in i or 'substr' in i:\n",
    "            count_re = count_re + 1\n",
    "        if 'create_function' in i or 'pack' in i:\n",
    "            count_other = count_other + 1\n",
    "    #print(x)\n",
    "    return (max_length,count_exec,count_file,count_zip,count_code,count_chr,count_re,count_other)\n",
    "df['func'] = df['file'].map(lambda x:getfilefunc(x)).astype(list)"
   ]
  },
  {
   "cell_type": "code",
   "execution_count": 13,
   "metadata": {
    "collapsed": true
   },
   "outputs": [],
   "source": [
    "df['maxlen'] = df['func'].map(lambda x:x[0])\n",
    "df['exec'] = df['func'].map(lambda x:x[1])\n",
    "df['file'] = df['func'].map(lambda x:x[2])\n",
    "df['zip'] = df['func'].map(lambda x:x[3])\n",
    "df['code'] = df['func'].map(lambda x:x[4])\n",
    "df['chr'] = df['func'].map(lambda x:x[5])\n",
    "df['re'] = df['func'].map(lambda x:x[6])\n",
    "df['other'] = df['func'].map(lambda x:x[7])"
   ]
  },
  {
   "cell_type": "code",
   "execution_count": 14,
   "metadata": {
    "collapsed": true
   },
   "outputs": [],
   "source": [
    "from sklearn import preprocessing\n",
    "from sklearn.utils import shuffle\n",
    "from sklearn.svm import SVC\n",
    "from sklearn.linear_model.logistic import LogisticRegression"
   ]
  },
  {
   "cell_type": "code",
   "execution_count": 15,
   "metadata": {
    "collapsed": true
   },
   "outputs": [],
   "source": [
    "scaler = preprocessing.StandardScaler()\n",
    "\n",
    "len_scale_param = scaler.fit(df['len'].values.reshape(-1,1))\n",
    "df['len_scaled'] = scaler.fit_transform(df['len'].values.reshape(-1,1),len_scale_param)"
   ]
  },
  {
   "cell_type": "code",
   "execution_count": 16,
   "metadata": {
    "collapsed": true
   },
   "outputs": [],
   "source": [
    "train_pre = df.filter(regex = 'label|len_scaled|shan_sclaed|maxlen_sclaed|exec_sclaed|zip_sclaed|code_sclaed')\n",
    "train_pre = shuffle(train_pre)#随机排列"
   ]
  },
  {
   "cell_type": "code",
   "execution_count": 17,
   "metadata": {
    "collapsed": true
   },
   "outputs": [],
   "source": [
    "train_pre =train_pre.as_matrix()"
   ]
  },
  {
   "cell_type": "code",
   "execution_count": 18,
   "metadata": {
    "collapsed": true
   },
   "outputs": [],
   "source": [
    "train_target = train_pre[0:5000,0]\n",
    "train_data = train_pre[0:5000,1:]\n",
    "test_target = train_pre[5000:,0]\n",
    "test_data = train_pre[5000:,1:]"
   ]
  },
  {
   "cell_type": "code",
   "execution_count": 39,
   "metadata": {},
   "outputs": [
    {
     "name": "stdout",
     "output_type": "stream",
     "text": [
      "now training\n",
      "training finished\n"
     ]
    },
    {
     "data": {
      "text/plain": [
       "0.6821457165732586"
      ]
     },
     "execution_count": 39,
     "metadata": {},
     "output_type": "execute_result"
    }
   ],
   "source": [
    "lr = LogisticRegression().fit(x_train,y_train)\n",
    "print ('training finished')\n",
    "model = lr.predict(x_test)\n",
    "\n",
    "from sklearn import metrics\n",
    "from sklearn.metrics import accuracy_score\n",
    "accuracy_score(model,y_test)"
   ]
  },
  {
   "cell_type": "code",
   "execution_count": 19,
   "metadata": {
    "collapsed": true
   },
   "outputs": [],
   "source": [
    "from sklearn import tree\n",
    "import sklearn.ensemble as ek\n",
    "from sklearn.naive_bayes import GaussianNB\n",
    "from sklearn.linear_model import LogisticRegression\n",
    "from sklearn.metrics import confusion_matrix\n",
    "from sklearn.model_selection import train_test_split"
   ]
  },
  {
   "cell_type": "code",
   "execution_count": 20,
   "metadata": {
    "collapsed": true
   },
   "outputs": [],
   "source": [
    "model = { \"DecisionTree    \":tree.DecisionTreeClassifier(max_depth=10),\n",
    "         \"RandomForest     \":ek.RandomForestClassifier(n_estimators=10,max_depth=2),\n",
    "         \"Adaboost         \":ek.AdaBoostClassifier(n_estimators=50),\n",
    "         \"GradientBoosting \":ek.GradientBoostingClassifier(n_estimators=50),\n",
    "         \"GNB              \":GaussianNB(),\n",
    "         \"LogisticRegression\":LogisticRegression()   \n",
    "}"
   ]
  },
  {
   "cell_type": "code",
   "execution_count": 26,
   "metadata": {},
   "outputs": [
    {
     "name": "stdout",
     "output_type": "stream",
     "text": [
      "算法        \t score_test    \t score_train    \t 精确率  \t  召回率 \n",
      "DecisionTree     \t 0.7838 \t 0.825 \t 0.8056 \t 0.6439  \n",
      "RandomForest      \t 0.7566 \t 0.7516 \t 0.8612 \t 0.5056  \n",
      "Adaboost          \t 0.7646 \t 0.7606 \t 0.8145 \t 0.5738  \n",
      "GradientBoosting  \t 0.7830 \t 0.7846 \t 0.8269 \t 0.6155  \n",
      "GNB               \t 0.7021 \t 0.6958 \t 0.9642 \t 0.3068  \n",
      "LogisticRegression \t 0.6885 \t 0.6772 \t 0.7473 \t 0.3977  \n"
     ]
    }
   ],
   "source": [
    "from sklearn import metrics\n",
    "from sklearn.metrics import accuracy_score\n",
    "from sklearn.externals import joblib\n",
    "print(\"算法        \\t score_test    \\t score_train    \\t 精确率  \\t  召回率 \")\n",
    "#print(\"算法        \\t score_test    \\t score_train    \\t 精确率  \\t  召回率 \")\n",
    "for algo in model:\n",
    "    clf = model[algo]\n",
    "    clf.fit(train_data,train_target)\n",
    "    score_test = clf.score(test_data,test_target)\n",
    "    score_train = clf.score(train_data,train_target)\n",
    "   \n",
    "    y_pred=clf.predict(test_data)#预测\n",
    "    precision=metrics.precision_score(y_true=test_target,y_pred=y_pred)\n",
    "    recall=metrics.recall_score(y_true=test_target,y_pred=y_pred)\n",
    "    confusion=metrics.confusion_matrix(y_true=test_target,y_pred=y_pred)\n",
    "    #joblib.dump(clf, './data/'+algo+'.model')\n",
    "    #print((\"%s \\t %.6s \\t %.6s \\t %.6s  %s \\n\")%(algo,score_test,score_train,precision,confusion))\n",
    "    print((\"%s \\t %.6s \\t %.6s \\t %.6s \\t %.6s  \")%(algo,score_test,score_train,precision,recall))"
   ]
  },
  {
   "cell_type": "code",
   "execution_count": null,
   "metadata": {
    "collapsed": true
   },
   "outputs": [],
   "source": []
  }
 ],
 "metadata": {
  "kernelspec": {
   "display_name": "Python 3",
   "language": "python",
   "name": "python3"
  },
  "language_info": {
   "codemirror_mode": {
    "name": "ipython",
    "version": 3
   },
   "file_extension": ".py",
   "mimetype": "text/x-python",
   "name": "python",
   "nbconvert_exporter": "python",
   "pygments_lexer": "ipython3",
   "version": "3.6.5"
  }
 },
 "nbformat": 4,
 "nbformat_minor": 2
}
