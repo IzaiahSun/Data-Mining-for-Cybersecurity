{
 "cells": [
  {
   "cell_type": "code",
   "execution_count": 1,
   "metadata": {
    "jupyter": {
     "outputs_hidden": false
    }
   },
   "outputs": [],
   "source": [
    "import pandas as pd\n",
    "shellLocation=\"../data/dealdata.txt\"\n",
    "eduLocation=\"../data/edudealdata.txt\"\n",
    "\n",
    "edudf = pd.read_csv(eduLocation,sep=\"\\t\", header=None,names = [\"fsize\",\"ftagnum\",\"flinecount\",\"ftagtype\",\"fflag\"])\n",
    "shelldf=pd.read_csv(shellLocation,sep=\"\\t\", header=None,names = [\"fsize\",\"ftagnum\",\"flinecount\",\"ftagtype\",\"fflag\"])"
   ]
  },
  {
   "cell_type": "code",
   "execution_count": 2,
   "metadata": {
    "jupyter": {
     "outputs_hidden": false
    }
   },
   "outputs": [
    {
     "data": {
      "text/html": [
       "<div>\n",
       "<style scoped>\n",
       "    .dataframe tbody tr th:only-of-type {\n",
       "        vertical-align: middle;\n",
       "    }\n",
       "\n",
       "    .dataframe tbody tr th {\n",
       "        vertical-align: top;\n",
       "    }\n",
       "\n",
       "    .dataframe thead th {\n",
       "        text-align: right;\n",
       "    }\n",
       "</style>\n",
       "<table border=\"1\" class=\"dataframe\">\n",
       "  <thead>\n",
       "    <tr style=\"text-align: right;\">\n",
       "      <th></th>\n",
       "      <th>fsize</th>\n",
       "      <th>ftagnum</th>\n",
       "      <th>flinecount</th>\n",
       "      <th>ftagtype</th>\n",
       "      <th>fflag</th>\n",
       "    </tr>\n",
       "  </thead>\n",
       "  <tbody>\n",
       "    <tr>\n",
       "      <th>0</th>\n",
       "      <td>18853</td>\n",
       "      <td>234</td>\n",
       "      <td>332</td>\n",
       "      <td>22</td>\n",
       "      <td>0</td>\n",
       "    </tr>\n",
       "    <tr>\n",
       "      <th>1</th>\n",
       "      <td>43972</td>\n",
       "      <td>441</td>\n",
       "      <td>912</td>\n",
       "      <td>21</td>\n",
       "      <td>0</td>\n",
       "    </tr>\n",
       "    <tr>\n",
       "      <th>2</th>\n",
       "      <td>37773</td>\n",
       "      <td>454</td>\n",
       "      <td>641</td>\n",
       "      <td>26</td>\n",
       "      <td>0</td>\n",
       "    </tr>\n",
       "    <tr>\n",
       "      <th>3</th>\n",
       "      <td>6247</td>\n",
       "      <td>78</td>\n",
       "      <td>145</td>\n",
       "      <td>16</td>\n",
       "      <td>0</td>\n",
       "    </tr>\n",
       "    <tr>\n",
       "      <th>4</th>\n",
       "      <td>30678</td>\n",
       "      <td>487</td>\n",
       "      <td>499</td>\n",
       "      <td>27</td>\n",
       "      <td>0</td>\n",
       "    </tr>\n",
       "  </tbody>\n",
       "</table>\n",
       "</div>"
      ],
      "text/plain": [
       "   fsize  ftagnum  flinecount  ftagtype  fflag\n",
       "0  18853      234         332        22      0\n",
       "1  43972      441         912        21      0\n",
       "2  37773      454         641        26      0\n",
       "3   6247       78         145        16      0\n",
       "4  30678      487         499        27      0"
      ]
     },
     "execution_count": 2,
     "metadata": {},
     "output_type": "execute_result"
    }
   ],
   "source": [
    "edudf.head()"
   ]
  },
  {
   "cell_type": "code",
   "execution_count": null,
   "metadata": {
    "jupyter": {
     "outputs_hidden": false
    }
   },
   "outputs": [],
   "source": []
  },
  {
   "cell_type": "code",
   "execution_count": 3,
   "metadata": {
    "jupyter": {
     "outputs_hidden": false
    }
   },
   "outputs": [
    {
     "data": {
      "text/html": [
       "<div>\n",
       "<style scoped>\n",
       "    .dataframe tbody tr th:only-of-type {\n",
       "        vertical-align: middle;\n",
       "    }\n",
       "\n",
       "    .dataframe tbody tr th {\n",
       "        vertical-align: top;\n",
       "    }\n",
       "\n",
       "    .dataframe thead th {\n",
       "        text-align: right;\n",
       "    }\n",
       "</style>\n",
       "<table border=\"1\" class=\"dataframe\">\n",
       "  <thead>\n",
       "    <tr style=\"text-align: right;\">\n",
       "      <th></th>\n",
       "      <th>fsize</th>\n",
       "      <th>ftagnum</th>\n",
       "      <th>flinecount</th>\n",
       "      <th>ftagtype</th>\n",
       "    </tr>\n",
       "  </thead>\n",
       "  <tbody>\n",
       "    <tr>\n",
       "      <th>985</th>\n",
       "      <td>38641</td>\n",
       "      <td>499</td>\n",
       "      <td>778</td>\n",
       "      <td>32</td>\n",
       "    </tr>\n",
       "    <tr>\n",
       "      <th>986</th>\n",
       "      <td>83248</td>\n",
       "      <td>1326</td>\n",
       "      <td>1174</td>\n",
       "      <td>28</td>\n",
       "    </tr>\n",
       "    <tr>\n",
       "      <th>987</th>\n",
       "      <td>30644</td>\n",
       "      <td>520</td>\n",
       "      <td>705</td>\n",
       "      <td>18</td>\n",
       "    </tr>\n",
       "    <tr>\n",
       "      <th>988</th>\n",
       "      <td>34000</td>\n",
       "      <td>356</td>\n",
       "      <td>372</td>\n",
       "      <td>36</td>\n",
       "    </tr>\n",
       "    <tr>\n",
       "      <th>989</th>\n",
       "      <td>56146</td>\n",
       "      <td>552</td>\n",
       "      <td>1019</td>\n",
       "      <td>29</td>\n",
       "    </tr>\n",
       "  </tbody>\n",
       "</table>\n",
       "</div>"
      ],
      "text/plain": [
       "     fsize  ftagnum  flinecount  ftagtype\n",
       "985  38641      499         778        32\n",
       "986  83248     1326        1174        28\n",
       "987  30644      520         705        18\n",
       "988  34000      356         372        36\n",
       "989  56146      552        1019        29"
      ]
     },
     "execution_count": 3,
     "metadata": {},
     "output_type": "execute_result"
    }
   ],
   "source": [
    "eduX = edudf[[\"fsize\",\"ftagnum\",\"flinecount\",\"ftagtype\",]]\n",
    "eduX.tail()"
   ]
  },
  {
   "cell_type": "code",
   "execution_count": 4,
   "metadata": {
    "jupyter": {
     "outputs_hidden": false
    }
   },
   "outputs": [
    {
     "data": {
      "text/html": [
       "<div>\n",
       "<style scoped>\n",
       "    .dataframe tbody tr th:only-of-type {\n",
       "        vertical-align: middle;\n",
       "    }\n",
       "\n",
       "    .dataframe tbody tr th {\n",
       "        vertical-align: top;\n",
       "    }\n",
       "\n",
       "    .dataframe thead th {\n",
       "        text-align: right;\n",
       "    }\n",
       "</style>\n",
       "<table border=\"1\" class=\"dataframe\">\n",
       "  <thead>\n",
       "    <tr style=\"text-align: right;\">\n",
       "      <th></th>\n",
       "      <th>fsize</th>\n",
       "      <th>ftagnum</th>\n",
       "      <th>flinecount</th>\n",
       "      <th>ftagtype</th>\n",
       "    </tr>\n",
       "  </thead>\n",
       "  <tbody>\n",
       "    <tr>\n",
       "      <th>136</th>\n",
       "      <td>1332</td>\n",
       "      <td>26</td>\n",
       "      <td>43</td>\n",
       "      <td>16</td>\n",
       "    </tr>\n",
       "    <tr>\n",
       "      <th>137</th>\n",
       "      <td>203</td>\n",
       "      <td>0</td>\n",
       "      <td>2</td>\n",
       "      <td>0</td>\n",
       "    </tr>\n",
       "    <tr>\n",
       "      <th>138</th>\n",
       "      <td>285216</td>\n",
       "      <td>5487</td>\n",
       "      <td>109</td>\n",
       "      <td>24</td>\n",
       "    </tr>\n",
       "    <tr>\n",
       "      <th>139</th>\n",
       "      <td>7654</td>\n",
       "      <td>37</td>\n",
       "      <td>55</td>\n",
       "      <td>14</td>\n",
       "    </tr>\n",
       "    <tr>\n",
       "      <th>140</th>\n",
       "      <td>1202</td>\n",
       "      <td>21</td>\n",
       "      <td>5</td>\n",
       "      <td>16</td>\n",
       "    </tr>\n",
       "  </tbody>\n",
       "</table>\n",
       "</div>"
      ],
      "text/plain": [
       "      fsize  ftagnum  flinecount  ftagtype\n",
       "136    1332       26          43        16\n",
       "137     203        0           2         0\n",
       "138  285216     5487         109        24\n",
       "139    7654       37          55        14\n",
       "140    1202       21           5        16"
      ]
     },
     "execution_count": 4,
     "metadata": {},
     "output_type": "execute_result"
    }
   ],
   "source": [
    "shellX = shelldf[[\"fsize\",\"ftagnum\",\"flinecount\",\"ftagtype\",]]\n",
    "shellX.tail()"
   ]
  },
  {
   "cell_type": "code",
   "execution_count": 5,
   "metadata": {
    "jupyter": {
     "outputs_hidden": false
    }
   },
   "outputs": [],
   "source": [
    "eduy = edudf[['fflag']]\n",
    "shelly = shelldf[['fflag']]"
   ]
  },
  {
   "cell_type": "code",
   "execution_count": 6,
   "metadata": {
    "jupyter": {
     "outputs_hidden": false
    }
   },
   "outputs": [
    {
     "data": {
      "text/plain": [
       "<Figure size 800x600 with 1 Axes>"
      ]
     },
     "metadata": {},
     "output_type": "display_data"
    }
   ],
   "source": [
    "import pylab as pl\n",
    "\n",
    "pl.figure(figsize=(8,6),dpi=100)\n",
    "pl.plot(edudf['ftagnum'],edudf['ftagtype'],'.',color='blue', label='edu')\n",
    "pl.plot(shelldf['ftagnum'],shelldf['ftagtype'],'.',color='red', label='shell')\n",
    "pl.xlabel('ftagnum')\n",
    "pl.ylabel('ftagtype')\n",
    "\n",
    "pl.legend()\n",
    "pl.title('total num of tags and total type of tags')\n",
    "pl.show()"
   ]
  },
  {
   "cell_type": "code",
   "execution_count": 7,
   "metadata": {
    "jupyter": {
     "outputs_hidden": false
    }
   },
   "outputs": [
    {
     "data": {
      "image/png": "[encoded data removed]",
      "text/plain": [
       "<Figure size 1152x864 with 1 Axes>"
      ]
     },
     "metadata": {
      "needs_background": "light"
     },
     "output_type": "display_data"
    }
   ],
   "source": [
    "pl.figure(figsize=(16,12))\n",
    "\n",
    "pl.plot(edudf['fsize'],edudf['flinecount'],'.',color='blue', label='edu')\n",
    "pl.plot(shelldf['fsize'],shelldf['flinecount'],'.',color='red', label='shell')\n",
    "pl.xlabel('fsize')\n",
    "pl.ylabel('flinecount')\n",
    "\n",
    "pl.legend()\n",
    "pl.title('fsize and flinecount')\n",
    "pl.show()"
   ]
  },
  {
   "cell_type": "code",
   "execution_count": 8,
   "metadata": {
    "jupyter": {
     "outputs_hidden": false
    }
   },
   "outputs": [
    {
     "name": "stdout",
     "output_type": "stream",
     "text": [
      "数据集 0 ::\n",
      "准确率： 0.8957219251336899 \t\n",
      "精确率： 0.4444444444444444 \t\n",
      "召回率： 0.21621621621621623 \t\n",
      "错误率： 0.10427807486631013\n",
      "数据集 1 ::\n",
      "准确率： 0.8556149732620321 \t\n",
      "精确率： 0.391304347826087 \t\n",
      "召回率： 0.1836734693877551 \t\n",
      "错误率： 0.14438502673796794\n",
      "数据集 2 ::\n",
      "准确率： 0.9171122994652406 \t\n",
      "精确率： 0.55 \t\n",
      "召回率： 0.3333333333333333 \t\n",
      "错误率： 0.08288770053475936\n",
      "数据集 3 ::\n",
      "准确率： 0.8770053475935828 \t\n",
      "精确率： 0.6086956521739131 \t\n",
      "召回率： 0.27450980392156865 \t\n",
      "错误率： 0.12299465240641716\n",
      "数据集 4 ::\n",
      "准确率： 0.8903743315508021 \t\n",
      "精确率： 0.625 \t\n",
      "召回率： 0.2222222222222222 \t\n",
      "错误率： 0.10962566844919786\n",
      "数据集 5 ::\n",
      "准确率： 0.9090909090909091 \t\n",
      "精确率： 0.625 \t\n",
      "召回率： 0.2631578947368421 \t\n",
      "错误率： 0.09090909090909094\n",
      "数据集 6 ::\n",
      "准确率： 0.893048128342246 \t\n",
      "精确率： 0.6363636363636364 \t\n",
      "召回率： 0.16279069767441862 \t\n",
      "错误率： 0.106951871657754\n",
      "数据集 7 ::\n",
      "准确率： 0.893048128342246 \t\n",
      "精确率： 0.7272727272727273 \t\n",
      "召回率： 0.32 \t\n",
      "错误率： 0.106951871657754\n",
      "数据集 8 ::\n",
      "准确率： 0.8529411764705882 \t\n",
      "精确率： 0.5 \t\n",
      "召回率： 0.21818181818181817 \t\n",
      "错误率： 0.1470588235294118\n",
      "数据集 9 ::\n",
      "准确率： 0.8903743315508021 \t\n",
      "精确率： 0.7333333333333333 \t\n",
      "召回率： 0.22916666666666666 \t\n",
      "错误率： 0.10962566844919786\n"
     ]
    },
    {
     "name": "stderr",
     "output_type": "stream",
     "text": [
      "C:\\Users\\Sean\\Anaconda3\\lib\\site-packages\\sklearn\\utils\\validation.py:724: DataConversionWarning: A column-vector y was passed when a 1d array was expected. Please change the shape of y to (n_samples, ), for example using ravel().\n",
      "  y = column_or_1d(y, warn=True)\n",
      "C:\\Users\\Sean\\Anaconda3\\lib\\site-packages\\sklearn\\utils\\validation.py:724: DataConversionWarning: A column-vector y was passed when a 1d array was expected. Please change the shape of y to (n_samples, ), for example using ravel().\n",
      "  y = column_or_1d(y, warn=True)\n",
      "C:\\Users\\Sean\\Anaconda3\\lib\\site-packages\\sklearn\\utils\\validation.py:724: DataConversionWarning: A column-vector y was passed when a 1d array was expected. Please change the shape of y to (n_samples, ), for example using ravel().\n",
      "  y = column_or_1d(y, warn=True)\n",
      "C:\\Users\\Sean\\Anaconda3\\lib\\site-packages\\sklearn\\utils\\validation.py:724: DataConversionWarning: A column-vector y was passed when a 1d array was expected. Please change the shape of y to (n_samples, ), for example using ravel().\n",
      "  y = column_or_1d(y, warn=True)\n",
      "C:\\Users\\Sean\\Anaconda3\\lib\\site-packages\\sklearn\\utils\\validation.py:724: DataConversionWarning: A column-vector y was passed when a 1d array was expected. Please change the shape of y to (n_samples, ), for example using ravel().\n",
      "  y = column_or_1d(y, warn=True)\n",
      "C:\\Users\\Sean\\Anaconda3\\lib\\site-packages\\sklearn\\utils\\validation.py:724: DataConversionWarning: A column-vector y was passed when a 1d array was expected. Please change the shape of y to (n_samples, ), for example using ravel().\n",
      "  y = column_or_1d(y, warn=True)\n",
      "C:\\Users\\Sean\\Anaconda3\\lib\\site-packages\\sklearn\\utils\\validation.py:724: DataConversionWarning: A column-vector y was passed when a 1d array was expected. Please change the shape of y to (n_samples, ), for example using ravel().\n",
      "  y = column_or_1d(y, warn=True)\n",
      "C:\\Users\\Sean\\Anaconda3\\lib\\site-packages\\sklearn\\utils\\validation.py:724: DataConversionWarning: A column-vector y was passed when a 1d array was expected. Please change the shape of y to (n_samples, ), for example using ravel().\n",
      "  y = column_or_1d(y, warn=True)\n",
      "C:\\Users\\Sean\\Anaconda3\\lib\\site-packages\\sklearn\\utils\\validation.py:724: DataConversionWarning: A column-vector y was passed when a 1d array was expected. Please change the shape of y to (n_samples, ), for example using ravel().\n",
      "  y = column_or_1d(y, warn=True)\n",
      "C:\\Users\\Sean\\Anaconda3\\lib\\site-packages\\sklearn\\utils\\validation.py:724: DataConversionWarning: A column-vector y was passed when a 1d array was expected. Please change the shape of y to (n_samples, ), for example using ravel().\n",
      "  y = column_or_1d(y, warn=True)\n"
     ]
    }
   ],
   "source": [
    "# 数据集合划分\n",
    "import pandas as pd\n",
    "from sklearn import metrics\n",
    "from sklearn.model_selection import train_test_split\n",
    "from sklearn.naive_bayes import GaussianNB\n",
    "totalLocation=\"../data/totaldata.txt\"\n",
    "totoaldf = pd.read_csv(totalLocation,sep=\"\\t\", header=None,names = [\"fsize\",\"ftagnum\",\"flinecount\",\"ftagtype\",\"fflag\"])\n",
    "totalX = totoaldf[[\"fsize\",\"ftagnum\",\"flinecount\",\"ftagtype\",]]\n",
    "totaly = totoaldf[['fflag']]\n",
    "for randomNum in range(0,10):\n",
    "    X_train, X_test, y_train, y_test = train_test_split(totalX, totaly, test_size=0.33, random_state=randomNum)\n",
    "    clf = GaussianNB()\n",
    "    #拟合数据\n",
    "    clf.fit(X_train, y_train)\n",
    "    y_pred_class = clf.predict(X_test)\n",
    "    # calculate accuracy\n",
    "    print('数据集',randomNum,\"::\", end=\"\\n\")\n",
    "    print('准确率：',metrics.accuracy_score(y_test, y_pred_class),\"\\t\",end=\"\\n\")\n",
    "    print('精确率：',metrics.precision_score(y_test,y_pred_class),\"\\t\",end=\"\\n\")\n",
    "    print('召回率：',metrics.recall_score(y_test,y_pred_class),\"\\t\",end=\"\\n\")\n",
    "    print('错误率：',1-(metrics.accuracy_score(y_test, y_pred_class)),end=\"\\n\")"
   ]
  },
  {
   "cell_type": "code",
   "execution_count": null,
   "metadata": {
    "jupyter": {
     "outputs_hidden": false
    }
   },
   "outputs": [],
   "source": [
    "\n"
   ]
  },
  {
   "cell_type": "code",
   "execution_count": 9,
   "metadata": {
    "jupyter": {
     "outputs_hidden": false
    }
   },
   "outputs": [
    {
     "data": {
      "text/plain": [
       "0.8903743315508021"
      ]
     },
     "execution_count": 9,
     "metadata": {},
     "output_type": "execute_result"
    }
   ],
   "source": [
    "clf.score(X_test, y_test) \n"
   ]
  },
  {
   "cell_type": "code",
   "execution_count": 10,
   "metadata": {
    "jupyter": {
     "outputs_hidden": false
    }
   },
   "outputs": [],
   "source": [
    "y_pred_class = clf.predict(X_test)"
   ]
  },
  {
   "cell_type": "code",
   "execution_count": 11,
   "metadata": {
    "jupyter": {
     "outputs_hidden": false
    }
   },
   "outputs": [
    {
     "name": "stdout",
     "output_type": "stream",
     "text": [
      "0.8903743315508021\n",
      "准确率： 0.8903743315508021\n",
      "精确率： 0.7333333333333333\n",
      "召回率： 0.22916666666666666\n",
      "错误率： 0.10962566844919786\n"
     ]
    }
   ],
   "source": [
    "# calculate accuracy\n",
    "from sklearn import metrics\n",
    "print(metrics.accuracy_score(y_test, y_pred_class))\n",
    "print('准确率：',metrics.accuracy_score(y_test, y_pred_class))\n",
    "print('精确率：',metrics.precision_score(y_test,y_pred_class))\n",
    "print('召回率：',metrics.recall_score(y_test,y_pred_class))\n",
    "print('错误率：',1-(metrics.accuracy_score(y_test, y_pred_class)))"
   ]
  },
  {
   "cell_type": "code",
   "execution_count": 12,
   "metadata": {
    "jupyter": {
     "outputs_hidden": false
    }
   },
   "outputs": [
    {
     "name": "stderr",
     "output_type": "stream",
     "text": [
      "C:\\Users\\Sean\\Anaconda3\\lib\\site-packages\\sklearn\\utils\\validation.py:724: DataConversionWarning: A column-vector y was passed when a 1d array was expected. Please change the shape of y to (n_samples, ), for example using ravel().\n",
      "  y = column_or_1d(y, warn=True)\n"
     ]
    },
    {
     "data": {
      "text/plain": [
       "Perceptron(alpha=0.0001, class_weight=None, early_stopping=False, eta0=0.1,\n",
       "           fit_intercept=True, max_iter=1000, n_iter_no_change=40, n_jobs=None,\n",
       "           penalty=None, random_state=0, shuffle=True, tol=0.001,\n",
       "           validation_fraction=0.1, verbose=0, warm_start=False)"
      ]
     },
     "execution_count": 12,
     "metadata": {},
     "output_type": "execute_result"
    }
   ],
   "source": [
    "# 训练感知机模型\n",
    "from sklearn.linear_model import Perceptron\n",
    "# n_iter_no_change：可以理解成梯度下降中迭代的次数\n",
    "# eta0：可以理解成梯度下降中的学习率\n",
    "# random_state：设置随机种子的，为了每次迭代都有相同的训练集顺序\n",
    "ppn = Perceptron(n_iter_no_change=40, eta0=0.1, random_state=0)\n",
    "ppn.fit(X_train, y_train)"
   ]
  },
  {
   "cell_type": "code",
   "execution_count": 13,
   "metadata": {
    "jupyter": {
     "outputs_hidden": false
    }
   },
   "outputs": [
    {
     "data": {
      "text/plain": [
       "{'alpha': 0.0001,\n",
       " 'class_weight': None,\n",
       " 'early_stopping': False,\n",
       " 'eta0': 0.1,\n",
       " 'fit_intercept': True,\n",
       " 'max_iter': 1000,\n",
       " 'n_iter_no_change': 40,\n",
       " 'n_jobs': None,\n",
       " 'penalty': None,\n",
       " 'random_state': 0,\n",
       " 'shuffle': True,\n",
       " 'tol': 0.001,\n",
       " 'validation_fraction': 0.1,\n",
       " 'verbose': 0,\n",
       " 'warm_start': False}"
      ]
     },
     "execution_count": 13,
     "metadata": {},
     "output_type": "execute_result"
    }
   ],
   "source": [
    "ppn.get_params()"
   ]
  },
  {
   "cell_type": "code",
   "execution_count": 14,
   "metadata": {
    "jupyter": {
     "outputs_hidden": false
    }
   },
   "outputs": [
    {
     "data": {
      "text/plain": [
       "0.8716577540106952"
      ]
     },
     "execution_count": 14,
     "metadata": {},
     "output_type": "execute_result"
    }
   ],
   "source": [
    "# 分类测试集，这将返回一个测试结果的数组\n",
    "y_pred = ppn.predict(X_test)\n",
    "# 计算模型在测试集上的准确性\n",
    "metrics.accuracy_score(y_test, y_pred)"
   ]
  },
  {
   "cell_type": "code",
   "execution_count": 15,
   "metadata": {
    "jupyter": {
     "outputs_hidden": false
    }
   },
   "outputs": [
    {
     "name": "stderr",
     "output_type": "stream",
     "text": [
      "C:\\Users\\Sean\\Anaconda3\\lib\\site-packages\\sklearn\\utils\\validation.py:724: DataConversionWarning: A column-vector y was passed when a 1d array was expected. Please change the shape of y to (n_samples, ), for example using ravel().\n",
      "  y = column_or_1d(y, warn=True)\n",
      "C:\\Users\\Sean\\Anaconda3\\lib\\site-packages\\sklearn\\svm\\base.py:193: FutureWarning: The default value of gamma will change from 'auto' to 'scale' in version 0.22 to account better for unscaled features. Set gamma explicitly to 'auto' or 'scale' to avoid this warning.\n",
      "  \"avoid this warning.\", FutureWarning)\n"
     ]
    },
    {
     "data": {
      "text/plain": [
       "SVR(C=1.0, cache_size=200, coef0=0.0, degree=3, epsilon=0.1,\n",
       "    gamma='auto_deprecated', kernel='rbf', max_iter=-1, shrinking=True,\n",
       "    tol=0.001, verbose=False)"
      ]
     },
     "execution_count": 15,
     "metadata": {},
     "output_type": "execute_result"
    }
   ],
   "source": [
    "from sklearn import svm\n",
    "svr = svm.SVR()\n",
    "svr.fit(X_train, y_train) "
   ]
  },
  {
   "cell_type": "code",
   "execution_count": 16,
   "metadata": {
    "jupyter": {
     "outputs_hidden": false
    }
   },
   "outputs": [
    {
     "data": {
      "text/plain": [
       "-0.003506479684049601"
      ]
     },
     "execution_count": 16,
     "metadata": {},
     "output_type": "execute_result"
    }
   ],
   "source": [
    "y_pred = svr.predict(X_test)\n",
    "svr.score(X_test, y_test, sample_weight=None)"
   ]
  },
  {
   "cell_type": "code",
   "execution_count": null,
   "metadata": {
    "collapsed": true,
    "jupyter": {
     "outputs_hidden": true
    }
   },
   "outputs": [],
   "source": []
  }
 ],
 "metadata": {
  "kernelspec": {
   "display_name": "Python 3",
   "language": "python",
   "name": "python3"
  },
  "language_info": {
   "codemirror_mode": {
    "name": "ipython",
    "version": 3
   },
   "file_extension": ".py",
   "mimetype": "text/x-python",
   "name": "python",
   "nbconvert_exporter": "python",
   "pygments_lexer": "ipython3",
   "version": "3.5.5"
  },
  "pycharm": {
   "stem_cell": {
    "cell_type": "raw",
    "metadata": {
     "collapsed": false
    },
    "source": []
   }
  }
 },
 "nbformat": 4,
 "nbformat_minor": 4
}
