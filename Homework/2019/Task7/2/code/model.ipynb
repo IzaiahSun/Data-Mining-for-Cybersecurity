{
 "cells": [
  {
   "cell_type": "markdown",
   "metadata": {},
   "source": [
    "### 数据清洗"
   ]
  },
  {
   "cell_type": "code",
   "execution_count": 1,
   "metadata": {},
   "outputs": [],
   "source": [
    "# 预处理\n",
    "import os\n",
    "import numpy as np\n",
    "import re\n",
    "import pandas as pd\n",
    "\n",
    "# 读取每一份代码，返回代码内容\n",
    "def load_one_file(filename):\n",
    "    context = ''\n",
    "    with open(filename, 'r', encoding='utf-8', errors='ignore') as codes:\n",
    "        for line in codes:\n",
    "            line = line.strip('\\r')\n",
    "            context += line\n",
    "    return context\n",
    "\n",
    "# 读取目录下所有php文件的路径，返回一个路径的列表\n",
    "def load_all_php_path(dir):\n",
    "    filelist = []\n",
    "    \n",
    "#     root为dir目录地址\n",
    "#     dirs是一个该文件夹下所有目录名的list\n",
    "#     filelist是文件名的list\n",
    "    for root, dirs, files in os.walk(dir):\n",
    "        for file in files:\n",
    "            if file.endswith('.php'):\n",
    "                fullpath = os.path.join(root, file)\n",
    "#                 print('Loading %s' % fullpath)\n",
    "                filelist.append(fullpath)\n",
    "    return filelist"
   ]
  },
  {
   "cell_type": "code",
   "execution_count": null,
   "metadata": {
    "jupyter": {
     "source_hidden": true
    }
   },
   "outputs": [],
   "source": [
    "# 读入shell名单\n",
    "shell_list = []\n",
    "file_list = load_all_php_path('black_php/')\n",
    "print(np.array(file_list).shape)\n",
    "\n",
    "for file in file_list:\n",
    "    codes = load_one_file(file)\n",
    "#     这里清洗掉代码内无关的注释\n",
    "#     1. 以//开头的注释\n",
    "    for note1 in re.findall('//.', codes):\n",
    "        codes = codes.replace(note1, '')\n",
    "#     2. 以/* */标示的多行注释\n",
    "    for note2 in re.findall(\"/\\*{1,2}[\\s\\S]*?\\*/\", codes):\n",
    "        codes = codes.replace(note2, '')\n",
    "    shell_list.append(codes)\n",
    "shell_y = [1] * len(shell_list)\n",
    "print(len(shell_y))\n",
    "\n",
    "# 读入normal名单\n",
    "normal_list = []\n",
    "file_list = load_all_php_path('white_php/')\n",
    "print(np.array(file_list).shape)\n",
    "\n",
    "for file in file_list:\n",
    "    codes = load_one_file(file)\n",
    "#     这里清洗掉代码内无关的注释\n",
    "#     1. 以//开头的注释\n",
    "    for note1 in re.findall('//.', codes):\n",
    "        codes = codes.replace(note1, '')\n",
    "#     2. 以/* */标示的多行注释\n",
    "    for note2 in re.findall(\"/\\*{1,2}[\\s\\S]*?\\*/\", codes):\n",
    "        codes = codes.replace(note2, '')\n",
    "    normal_list.append(codes)\n",
    "normal_y = [0] * len(normal_list)\n",
    "print(len(normal_y))"
   ]
  },
  {
   "cell_type": "code",
   "execution_count": null,
   "metadata": {
    "jupyter": {
     "source_hidden": true
    }
   },
   "outputs": [],
   "source": [
    "# 保存向量到本地\n",
    "save_df = pd.DataFrame({'phpcode':X, 'label':y})\n",
    "print(save_df)\n",
    "save_df.to_csv('raw_dataset.csv', index=False, encoding='utf-8')"
   ]
  },
  {
   "cell_type": "markdown",
   "metadata": {},
   "source": [
    "### 开始提取特征"
   ]
  },
  {
   "cell_type": "code",
   "execution_count": 2,
   "metadata": {},
   "outputs": [],
   "source": [
    "def is_letter(char):\n",
    "    letter = char.lower()\n",
    "    return True if letter >= 'a' and letter <= 'z' else False\n",
    "\n",
    "\n",
    "def is_num(char):\n",
    "    if char >= '0' and char <= '9':\n",
    "        return True\n",
    "    return False\n",
    "\n",
    "\n",
    "def get_freq_dict(domain):\n",
    "    freq_dict = dict(Counter(domain))\n",
    "    return freq_dict"
   ]
  },
  {
   "cell_type": "code",
   "execution_count": 3,
   "metadata": {},
   "outputs": [],
   "source": [
    "import re\n",
    "from collections import Counter\n",
    "\n",
    "# 特征提取，基于每一份源代码phpcode\n",
    "def count_lines(phpcode):\n",
    "    return phpcode.count('\\n')\n",
    "\n",
    "\n",
    "def calc_entropy(phpcode):\n",
    "    ent = 0\n",
    "    l = len(phpcode)\n",
    "    all_letters = dict(Counter(phpcode)).keys()\n",
    "    freq_dict = get_freq_dict(phpcode)\n",
    "    for letter in all_letters:\n",
    "        frequency = freq_dict[letter]\n",
    "        ent -= (frequency/l) * np.log2(frequency/l)\n",
    "    return ent\n",
    "\n",
    "def string_function_score(phpcode):\n",
    "    str_func_list = [\n",
    "        'addcslashses', 'addslashes', 'bin2hex', 'chop', 'chr', \n",
    "        'chunk_split', 'convert_cyr_string', 'convert_uudecode', 'covert_uuencode', \n",
    "        'echo', 'str_replace', 'str_ireplace', 'htmlspecialchars', \n",
    "        'trim', 'rtrim', 'ltrim', 'strlen', 'strchr', 'strtr', 'substr', \n",
    "        'print', 'parse', 'ord'\n",
    "    ]\n",
    "    phpcode = phpcode.lower().replace('\\\\','').replace('#','').replace('%','').replace('/','')\n",
    "    phpcode = phpcode.replace('@', '').replace('&', '').replace('*', '')\n",
    "    score = 0\n",
    "    step = 0\n",
    "    for word in str_func_list:\n",
    "        if word in phpcode:\n",
    "            score += np.exp2(step)\n",
    "            step += 1\n",
    "    return score\n",
    "\n",
    "\n",
    "def system_function_score(phpcode):\n",
    "    sys_func_list = [\n",
    "        'eval', 'exec', 'system', 'popen', 'passthru'\n",
    "    ]\n",
    "    phpcode = phpcode.lower().replace('\\\\','').replace('#','').replace('%','').replace('/','')\n",
    "    phpcode = phpcode.replace('@', '').replace('&', '').replace('*', '')\n",
    "    score = 0\n",
    "    step = 0\n",
    "    for word in sys_func_list:\n",
    "        if word in phpcode:\n",
    "            score += np.exp2(step)\n",
    "            step += 1\n",
    "    return score\n",
    "\n",
    "\n",
    "def count_longest_string_length(phpcode):\n",
    "    phpcode = phpcode.lower().replace('\\n', ' ').replace('\\t', ' ')\n",
    "    longest_length = 0\n",
    "    substr_length = 0\n",
    "    flag = 0\n",
    "    for char in phpcode:\n",
    "        if char != ' ':\n",
    "            if flag == 0:  #字符串首位\n",
    "                flag = 1\n",
    "                substr_length = 0 \n",
    "            substr_length += 1\n",
    "        else:\n",
    "            flag = 0\n",
    "            if substr_length > longest_length:\n",
    "                longest_length = substr_length\n",
    "    return longest_length\n",
    "\n",
    "\n",
    "def count_words(phpcode):\n",
    "    len_word = 0\n",
    "    count = 0\n",
    "    flag = 0\n",
    "    for char in phpcode:\n",
    "        if is_letter(char):  # 是字母\n",
    "            if flag == 0:  # 是首字母\n",
    "                flag = 1  # 表示进入单词当中\n",
    "            len_word += 1\n",
    "        else:\n",
    "            if flag == 1:  # 上一个是字母\n",
    "                if len_word != 1:  # 不是单个字母\n",
    "                    count += 1\n",
    "            flag = 0\n",
    "    return count\n",
    "\n",
    "\n",
    "def length_of(phpcode):\n",
    "    return len(str(phpcode))\n",
    "\n",
    "\n",
    "def count_get_post(phpcode):\n",
    "    count = 0\n",
    "    phpcode = phpcode.lower()\n",
    "    count += phpcode.count('get')\n",
    "    count += phpcode.count('post')\n",
    "    return count"
   ]
  },
  {
   "cell_type": "code",
   "execution_count": 4,
   "metadata": {},
   "outputs": [
    {
     "name": "stdout",
     "output_type": "stream",
     "text": [
      "                                                phpcode  label\n",
      "0     <?php \\n \\n$auth_pass = \"9c80a1eaca699e2fc6b99...      1\n",
      "1     <?php\\nfunction rooting()\\n{\\necho '<b>Sw Bilg...      1\n",
      "2     <?php if (!function_exists(\"getmicrotime\")) {f...      1\n",
      "3     <?php\\n\\n$m7caaa45=\"\\142\\141\\x73\\145\\66\\x34\\x5...      1\n",
      "4     <?php\\n\\n\\n\\nif(preg_match(\"/bot/\", $_SERVER[H...      1\n",
      "...                                                 ...    ...\n",
      "8410  <?php \\n\\tdefined('IN_ADMIN') or exit('No perm...      0\n",
      "8411  <?php \\n\\tdefined('IN_ADMIN') or exit('No perm...      0\n",
      "8412  <?php \\n\\tdefined('IN_ADMIN') or exit('No perm...      0\n",
      "8413  <?php\\ndefined('IN_PHPCMS') or exit('No permis...      0\n",
      "8414  <?php\\ndefined('IN_PHPCMS') or exit('No permis...      0\n",
      "\n",
      "[8415 rows x 2 columns]\n"
     ]
    }
   ],
   "source": [
    "raw_data = pd.read_csv('raw_dataset.csv')\n",
    "print(raw_data)"
   ]
  },
  {
   "cell_type": "code",
   "execution_count": 5,
   "metadata": {},
   "outputs": [
    {
     "name": "stdout",
     "output_type": "stream",
     "text": [
      "(8415,)\n",
      "<class 'numpy.ndarray'>\n",
      "(8415,)\n",
      "<class 'numpy.ndarray'>\n"
     ]
    }
   ],
   "source": [
    "php_codes = np.array(raw_data['phpcode'].astype('str'))\n",
    "y = np.array(raw_data['label'].astype('int'))\n",
    "print(php_codes.shape)\n",
    "print(type(php_codes))\n",
    "print(y.shape)\n",
    "print(type(y))"
   ]
  },
  {
   "cell_type": "code",
   "execution_count": 6,
   "metadata": {},
   "outputs": [
    {
     "name": "stdout",
     "output_type": "stream",
     "text": [
      "(8415, 7)\n"
     ]
    }
   ],
   "source": [
    "X = []\n",
    "feature_func_list = [count_lines, calc_entropy, string_function_score, count_get_post, \n",
    "                     system_function_score, count_longest_string_length, count_words]\n",
    "for php_code in php_codes:\n",
    "    feature = []\n",
    "    for func in feature_func_list:\n",
    "        feature.append(func(php_code))\n",
    "    X.append(feature)\n",
    "X = np.array(X)\n",
    "print(X.shape)"
   ]
  },
  {
   "cell_type": "markdown",
   "metadata": {},
   "source": [
    "### 预处理"
   ]
  },
  {
   "cell_type": "code",
   "execution_count": 44,
   "metadata": {},
   "outputs": [
    {
     "name": "stdout",
     "output_type": "stream",
     "text": [
      "(7573, 7)\n",
      "[[-0.13953418  0.0964765  -0.14772157  0.33596235 -0.37071943 -0.15298484\n",
      "  -0.18514884]\n",
      " [-0.23658741 -0.87898993 -0.15198335 -0.10842046 -0.24362762 -0.15202746\n",
      "  -0.29043108]\n",
      " [-0.28899615  0.57904244 -0.15269364 -0.33533935 -0.37071943 -0.1469027\n",
      "  -0.26967295]\n",
      " [-0.23949901  0.20822278 -0.15198335 -0.28806458 -0.24362762 -0.13000789\n",
      "  -0.24008951]\n",
      " [ 1.31335272  0.59497253  2.75597172  0.76143527  3.56912694 -0.12110995\n",
      "   1.08656621]]\n"
     ]
    }
   ],
   "source": [
    "from sklearn.utils import shuffle\n",
    "from sklearn.preprocessing import StandardScaler\n",
    "from sklearn.model_selection import train_test_split\n",
    "\n",
    "X_train, X_test, y_train, y_test = train_test_split(\n",
    "    X, y, random_state=2019, test_size = 0.1, stratify=y)\n",
    "scaler = StandardScaler()\n",
    "X_train_std = scaler.fit_transform(X_train)\n",
    "X_test_std = scaler.transform(X_test)\n",
    "print(X_train_std.shape)\n",
    "print(X_test_std[:5])"
   ]
  },
  {
   "cell_type": "markdown",
   "metadata": {},
   "source": [
    "### 模型训练"
   ]
  },
  {
   "cell_type": "code",
   "execution_count": 51,
   "metadata": {},
   "outputs": [
    {
     "name": "stdout",
     "output_type": "stream",
     "text": [
      "训练完成\n"
     ]
    }
   ],
   "source": [
    "from sklearn.tree import DecisionTreeClassifier\n",
    "from sklearn import svm\n",
    "\n",
    "dtree = DecisionTreeClassifier(random_state=None).fit(X_train_std, y_train)\n",
    "print('训练完成')"
   ]
  },
  {
   "cell_type": "code",
   "execution_count": 52,
   "metadata": {},
   "outputs": [
    {
     "name": "stdout",
     "output_type": "stream",
     "text": [
      "              precision    recall  f1-score   support\n",
      "\n",
      "  Normal php       0.96      0.96      0.96       520\n",
      "    Webshell       0.93      0.93      0.93       322\n",
      "\n",
      "    accuracy                           0.95       842\n",
      "   macro avg       0.95      0.95      0.95       842\n",
      "weighted avg       0.95      0.95      0.95       842\n",
      "\n"
     ]
    }
   ],
   "source": [
    "# 模型评估报告\n",
    "from sklearn import metrics\n",
    "predict_target = dtree.predict(X_test_std)\n",
    "print(metrics.classification_report(y_test, predict_target, \n",
    "                                    target_names=['Normal php', 'Webshell']))\n"
   ]
  },
  {
   "cell_type": "code",
   "execution_count": 124,
   "metadata": {},
   "outputs": [
    {
     "name": "stdout",
     "output_type": "stream",
     "text": [
      "(6732, 8)\n",
      "[[1.08764221e-04 5.78417559e-01 0.00000000e+00 5.88832373e-05\n",
      "  0.00000000e+00 0.00000000e+00 1.18832589e-04 4.85960598e-06]\n",
      " [4.56809728e-04 6.97706938e-01 0.00000000e+00 1.82257639e-04\n",
      "  1.17050332e-03 0.00000000e+00 6.33773806e-05 1.65226603e-04]\n",
      " [2.41456570e-03 6.82517070e-01 0.00000000e+00 2.35252553e-03\n",
      "  5.46234881e-03 3.22580645e-02 2.58790971e-04 1.38984731e-03]\n",
      " [2.17528442e-05 7.14912880e-01 1.52590219e-05 4.32287081e-02\n",
      "  0.00000000e+00 0.00000000e+00 3.88186456e-04 4.34934735e-02]\n",
      " [3.04539819e-04 6.73512416e-01 0.00000000e+00 1.68938812e-04\n",
      "  0.00000000e+00 0.00000000e+00 8.45031742e-05 1.21490150e-04]]\n"
     ]
    }
   ],
   "source": [
    "from sklearn.preprocessing import MinMaxScaler\n",
    "\n",
    "# 数据归一化\n",
    "minmax = MinMaxScaler()\n",
    "X_trian_std = minmax.fit_transform(X_train_std)\n",
    "X_test_std = minmax.transform(X_test_std)\n",
    "print(X_train_std.shape)\n",
    "print(X_test_std[:5])"
   ]
  },
  {
   "cell_type": "code",
   "execution_count": 79,
   "metadata": {},
   "outputs": [
    {
     "name": "stdout",
     "output_type": "stream",
     "text": [
      "Normal php\n"
     ]
    }
   ],
   "source": [
    "# 测试用例\n",
    "input_file = 'test1.php'  # 为了测试方便，文件直接放在当前目录下就行\n",
    "\n",
    "test_code = load_one_file(input_file)\n",
    "\n",
    "for note1 in re.findall('//.', test_code):\n",
    "    test_code = test_code.replace(note1, '')\n",
    "for note2 in re.findall(\"/\\*{1,2}[\\s\\S]*?\\*/\", test_code):\n",
    "    test_code = test_code.replace(note2, '')\n",
    "    \n",
    "feature_vec = [feature_fuc(test_code) for feature_fuc in feature_func_list]\n",
    "\n",
    "conclusion = dtree.predict([feature_vec])\n",
    "print('Webshell') if conclusion == 1 else print('Normal php')"
   ]
  },
  {
   "cell_type": "code",
   "execution_count": null,
   "metadata": {},
   "outputs": [],
   "source": []
  }
 ],
 "metadata": {
  "kernelspec": {
   "display_name": "Python 3",
   "language": "python",
   "name": "python3"
  },
  "language_info": {
   "codemirror_mode": {
    "name": "ipython",
    "version": 3
   },
   "file_extension": ".py",
   "mimetype": "text/x-python",
   "name": "python",
   "nbconvert_exporter": "python",
   "pygments_lexer": "ipython3",
   "version": "3.7.4"
  }
 },
 "nbformat": 4,
 "nbformat_minor": 4
}
