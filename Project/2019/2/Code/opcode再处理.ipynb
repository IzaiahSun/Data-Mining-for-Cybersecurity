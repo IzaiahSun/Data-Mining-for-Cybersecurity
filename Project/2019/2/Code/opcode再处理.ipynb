{
 "cells": [
  {
   "cell_type": "code",
   "execution_count": 18,
   "metadata": {},
   "outputs": [
    {
     "name": "stdout",
     "output_type": "stream",
     "text": [
      "(10080, 7)\n"
     ]
    }
   ],
   "source": [
    "import pandas as pd\n",
    "dataset_df = pd.read_csv('/Users/devin/Desktop/php_xss_datasets.csv', encoding='utf-8')\n",
    "print(dataset_df.shape)"
   ]
  },
  {
   "cell_type": "code",
   "execution_count": 21,
   "metadata": {},
   "outputs": [
    {
     "name": "stdout",
     "output_type": "stream",
     "text": [
      "10080\n",
      "Finding entry points\n",
      "Branch analysis from position: 0\n",
      "Add 0\n",
      "Add 1\n",
      "Add 2\n",
      "Add 3\n",
      "Add 4\n",
      "Add 5\n",
      "Add 6\n",
      "Add 7\n",
      "Add 8\n",
      "Add 9\n",
      "Add 10\n",
      "Add 11\n",
      "Add 12\n",
      "Add 13\n",
      "2 jumps found. (Code = 43) Position 1 = 14, Position 2 = 16\n",
      "Branch analysis from position: 14\n",
      "Add 14\n",
      "Add 15\n",
      "1 jumps found. (Code = 42) Position 1 = 17\n",
      "Branch analysis from position: 17\n",
      "Add 17\n",
      "Add 18\n",
      "Add 19\n",
      "1 jumps found. (Code = 62) Position 1 = -2\n",
      "Branch analysis from position: 16\n",
      "Add 16\n",
      "Add 17\n",
      "Add 18\n",
      "Add 19\n",
      "1 jumps found. (Code = 62) Position 1 = -2\n",
      "filename:       /home/parallels/Desktop/xss-php-datasets/bad/CWE_79__POST__func_FILTER-CLEANING-email_filter__Use_untrusted_data-div.php\n",
      "function name:  (null)\n",
      "number of ops:  20\n",
      "compiled vars:  !0 = $tainted, !1 = $sanitized\n",
      "line     #* E I O op                           fetch          ext  return  operands\n",
      "-------------------------------------------------------------------------------------\n",
      "   1     0  E >   < 40> ECHO                                                      OP1[  IS_CONST (0) '%3C%21--+%0AUnsafe+sample%0Ainput+%3A+get+the+field+UserData+from+the+variable+%24_POST%0AUses+an+email_filter+via+filter_var+function%0AFile+%3A+use+of+untrusted+data+in+a+div+tag%0A--%3E%0A%0A%3C%21--Copyright+2015+Bertrand+STIVALET+%0A%0APermission+is+hereby+granted%2C+without+written+agreement+or+royalty+fee%2C+to%0A%0Ause%2C+copy%2C+modify%2C+and+distribute+this+software+and+its+documentation+for%0A%0Aany+purpose%2C+provided+that+the+above+copyright+notice+and+the+following%0A%0Athree+paragraphs+appear+in+all+copies+of+this+software.%0A%0A%0AIN+NO+EVENT+SHALL+AUTHORS+BE+LIABLE+TO+ANY+PARTY+FOR+DIRECT%2C%0A%0AINDIRECT%2C+SPECIAL%2C+INCIDENTAL%2C+OR+CONSEQUENTIAL+DAMAGES+ARISING+OUT+OF+THE+%0A%0AUSE+OF+THIS+SOFTWARE+AND+ITS+DOCUMENTATION%2C+EVEN+IF+AUTHORS+HAVE%0A%0ABEEN+ADVISED+OF+THE+POSSIBILITY+OF+SUCH+DAMAGE.%0A%0A%0AAUTHORS+SPECIFICALLY+DISCLAIM+ANY+WARRANTIES+INCLUDING%2C+BUT+NOT%0A%0ALIMITED+TO+THE+IMPLIED+WARRANTIES+OF+MERCHANTABILITY%2C+FITNESS+FOR+A%0A%0APARTICULAR+PURPOSE%2C+AND+NON-INFRINGEMENT.%0A%0A%0ATHE+SOFTWARE+IS+PROVIDED+ON+AN+%22AS-IS%22+BASIS+AND+AUTHORS+HAVE+NO%0A%0AOBLIGATION+TO+PROVIDE+MAINTENANCE%2C+SUPPORT%2C+UPDATES%2C+ENHANCEMENTS%2C+OR%0A%0AMODIFICATIONS.--%3E%0A%0A%0A%3C%21DOCTYPE+html%3E%0A%3Chtml%3E%0A%3Chead%2F%3E%0A%3Cbody%3E%0A%3Cdiv%3E%0A' ]\n",
      "  48     1        < 80> FETCH_R                      global               RES[  IS_VAR $2 ]       OP1[  IS_CONST (1) '_POST' ]\n",
      "         2        < 81> FETCH_DIM_R                                       RES[  IS_VAR $3 ]       OP1[  IS_VAR $2 ] OP2[ ,  IS_CONST (2) 'UserData' ]\n",
      "         3        < 38> ASSIGN                                                    OP1[  IS_CV !0 ] OP2[ ,  IS_VAR $3 ]\n",
      "  50     4        < 61> INIT_FCALL                                                OP1[  IS_UNUSED  ] OP2[  IS_CONST (3) 'filter_var' ]\n",
      "         5        <117> SEND_VAR                                                  OP1[  IS_CV !0 ] OP2[  IS_UNUSED  ]\n",
      "         6        < 65> SEND_VAL                                                  OP1[  IS_CONST (4) 517 ]\n",
      "         7        <129> DO_ICALL                                          RES[  IS_VAR $5 ]       OP1[  IS_UNUSED  ] OP2[  IS_UNUSED  ]\n",
      "         8        < 38> ASSIGN                                                    OP1[  IS_CV !1 ] OP2[ ,  IS_VAR $5 ]\n",
      "  51     9        < 61> INIT_FCALL                                                OP1[  IS_UNUSED  ] OP2[  IS_CONST (5) 'filter_var' ]\n",
      "        10        <117> SEND_VAR                                                  OP1[  IS_CV !1 ] OP2[  IS_UNUSED  ]\n",
      "        11        < 65> SEND_VAL                                                  OP1[  IS_CONST (6) 274 ]\n",
      "        12        <129> DO_ICALL                                          RES[  IS_VAR $7 ]       OP1[  IS_UNUSED  ] OP2[  IS_UNUSED  ]\n",
      "        13      > < 43> JMPZ                                                      OP1[  IS_VAR $7 ] OP2[ , ->16 ]\n",
      "  52    14    >   < 38> ASSIGN                                                    OP1[  IS_CV !0 ] OP2[ ,  IS_CV !1 ]\n",
      "        15      > < 42> JMP                                                       OP1[ ->17 ]\n",
      "  54    16    >   < 38> ASSIGN                                                    OP1[  IS_CV !0 ] OP2[ ,  IS_CONST (7) '' ]\n",
      "  57    17    >   < 40> ECHO                                                      OP1[  IS_CV !0 ]\n",
      "  59    18        < 40> ECHO                                                      OP1[  IS_CONST (8) '%3C%2Fdiv%3E%0A%3Ch1%3EHello+World%21%3C%2Fh1%3E%0A%3C%2Fbody%3E%0A%3C%2Fhtml%3E%0A' ]\n",
      "  63    19      > < 62> RETURN                                                    OP1[  IS_CONST (9) 1 ]\n",
      "\n",
      "branch: #  0; line:     1-   51; sop:     0; eop:    13; out0:  14; out1:  16\n",
      "branch: # 14; line:    52-   52; sop:    14; eop:    15; out0:  17\n",
      "branch: # 16; line:    54-   57; sop:    16; eop:    16; out0:  17\n",
      "branch: # 17; line:    57-   63; sop:    17; eop:    19; out0:  -2; out1:  -2\n",
      "path #1: 0, 14, 17, \n",
      "path #2: 0, 16, 17,\n"
     ]
    }
   ],
   "source": [
    "vld_list = dataset_df['vld'].to_list()\n",
    "print(len(vld_list))\n",
    "print(vld_list[0])"
   ]
  },
  {
   "cell_type": "code",
   "execution_count": 23,
   "metadata": {},
   "outputs": [
    {
     "name": "stdout",
     "output_type": "stream",
     "text": [
      "10080\n"
     ]
    }
   ],
   "source": [
    "import re\n",
    "\n",
    "opcode_list = []\n",
    "for vld in vld_list:\n",
    "    tokens=re.findall(r'>\\s(\\b[A-Z_]+\\b)\\s', vld)\n",
    "    opcode = ' '.join(tokens)\n",
    "#     print(opcode)\n",
    "    if len(opcode.split(' ')) != 0:\n",
    "        opcode_list.append(opcode)\n",
    "    else:\n",
    "        print('opcode get error')\n",
    "print(len(opcode_list))"
   ]
  },
  {
   "cell_type": "code",
   "execution_count": 25,
   "metadata": {},
   "outputs": [
    {
     "name": "stdout",
     "output_type": "stream",
     "text": [
      "                                                filename  \\\n",
      "0      CWE_79__POST__func_FILTER-CLEANING-email_filte...   \n",
      "1      CWE_79__system__func_urlencode__Use_untrusted_...   \n",
      "2      CWE_79__object-directGet__no_sanitizing__Unsaf...   \n",
      "3      CWE_79__proc_open__func_FILTER-VALIDATION-numb...   \n",
      "4      CWE_79__object-Array__ternary_white_list__Use_...   \n",
      "...                                                  ...   \n",
      "10075  CWE_79__object-indexArray__func_urlencode__Use...   \n",
      "10076  CWE_79__backticks__CAST-cast_float_sort_of__Us...   \n",
      "10077  CWE_79__POST__CAST-cast_float__Use_untrusted_d...   \n",
      "10078  CWE_79__object-classicGet__CAST-func_settype_i...   \n",
      "10079  CWE_79__popen__func_FILTER-CLEANING-full_speci...   \n",
      "\n",
      "                                              sourcecode  \\\n",
      "0      <!-- \\nUnsafe sample\\ninput : get the field Us...   \n",
      "1      <!-- \\nUnsafe sample\\ninput : execute a ls com...   \n",
      "2      <!-- \\nUnsafe sample\\ninput : get the field us...   \n",
      "3      <!-- \\nUnsafe sample\\ninput : use proc_open to...   \n",
      "4      <!-- \\nUnsafe sample\\ninput : get the field us...   \n",
      "...                                                  ...   \n",
      "10075  <!-- \\nSafe sample\\ninput : get the field user...   \n",
      "10076  <!-- \\nSafe sample\\ninput : backticks interpre...   \n",
      "10077  <!-- \\nSafe sample\\ninput : get the field User...   \n",
      "10078  <!-- \\nSafe sample\\ninput : get the field user...   \n",
      "10079  <!-- \\nSafe sample\\ninput : Uses popen to read...   \n",
      "\n",
      "                                                     vld  \\\n",
      "0      Finding entry points\\nBranch analysis from pos...   \n",
      "1      Finding entry points\\nBranch analysis from pos...   \n",
      "2      Finding entry points\\nBranch analysis from pos...   \n",
      "3      Finding entry points\\nBranch analysis from pos...   \n",
      "4      Finding entry points\\nBranch analysis from pos...   \n",
      "...                                                  ...   \n",
      "10075  Finding entry points\\nBranch analysis from pos...   \n",
      "10076  Finding entry points\\nBranch analysis from pos...   \n",
      "10077  Finding entry points\\nBranch analysis from pos...   \n",
      "10078  Finding entry points\\nBranch analysis from pos...   \n",
      "10079  Finding entry points\\nBranch analysis from pos...   \n",
      "\n",
      "                                                  opcode  label  \\\n",
      "0      ECHO FETCH_R FETCH_DIM_R ASSIGN INIT_FCALL SEN...      1   \n",
      "1      ECHO INIT_FCALL SEND_VAL SEND_REF DO_ICALL ASS...      1   \n",
      "2      ECHO NOP NEW DO_FCALL ASSIGN INIT_METHOD_CALL ...      1   \n",
      "3      ECHO ASSIGN ASSIGN INIT_FCALL SEND_VAL SEND_VA...      1   \n",
      "4      ECHO NOP NEW DO_FCALL ASSIGN INIT_METHOD_CALL ...      1   \n",
      "...                                                  ...    ...   \n",
      "10075  ECHO NOP NEW DO_FCALL ASSIGN INIT_METHOD_CALL ...      0   \n",
      "10076  ECHO INIT_FCALL SEND_VAL DO_ICALL ASSIGN ASSIG...      0   \n",
      "10077  ECHO FETCH_R FETCH_DIM_R ASSIGN CAST ASSIGN CO...      0   \n",
      "10078  ECHO NOP NEW DO_FCALL ASSIGN INIT_METHOD_CALL ...      0   \n",
      "10079  ECHO INIT_FCALL SEND_VAL SEND_VAL DO_ICALL ASS...      0   \n",
      "\n",
      "                                                sink  sink_type  \n",
      "0                                        $tainted \\n          1  \n",
      "1          \"body { color :\\\"\". $tainted .\"\\\" ; }\" \\n         16  \n",
      "2                                        $tainted \\n          1  \n",
      "3          \"<div id=\". $tainted .\">content</div>\" \\n          0  \n",
      "4                                        $tainted \\n          1  \n",
      "...                                              ...        ...  \n",
      "10075                                    $tainted \\n          1  \n",
      "10076                   \"alert('\". $tainted .\"')\" \\n          3  \n",
      "10077  \"<div onmouseover=\\\"x=\\\"\". $tainted .\"\\\"\\>\"\\n          8  \n",
      "10078        \"<\".  $tainted .\" href= \\\"/bob\\\" />\" \\n          7  \n",
      "10079  \"<div id=\\\"\". $tainted .\"\\\">content</div>\" \\n         10  \n",
      "\n",
      "[10080 rows x 7 columns]\n"
     ]
    }
   ],
   "source": [
    "dataset_df['opcode'] = opcode_list\n",
    "print(dataset_df)\n",
    "dataset_df.to_csv('/Users/devin/Desktop/php_xss_datasets.csv', encoding='utf-8', index=None)"
   ]
  },
  {
   "cell_type": "code",
   "execution_count": null,
   "metadata": {},
   "outputs": [],
   "source": []
  }
 ],
 "metadata": {
  "kernelspec": {
   "display_name": "Python 3",
   "language": "python",
   "name": "python3"
  },
  "language_info": {
   "codemirror_mode": {
    "name": "ipython",
    "version": 3
   },
   "file_extension": ".py",
   "mimetype": "text/x-python",
   "name": "python",
   "nbconvert_exporter": "python",
   "pygments_lexer": "ipython3",
   "version": "3.7.5"
  }
 },
 "nbformat": 4,
 "nbformat_minor": 4
}
