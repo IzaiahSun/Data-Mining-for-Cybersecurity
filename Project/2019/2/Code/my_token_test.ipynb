{
 "cells": [
  {
   "cell_type": "code",
   "execution_count": 1,
   "metadata": {},
   "outputs": [],
   "source": [
    "import re"
   ]
  },
  {
   "cell_type": "code",
   "execution_count": 2,
   "metadata": {},
   "outputs": [
    {
     "data": {
      "text/plain": [
       "['<!DOCTYPE html>',\n",
       " '<html>',\n",
       " '<body>',\n",
       " '<?php',\n",
       " '$array = array()',\n",
       " \"$array[] = 'safe' \",\n",
       " \"$array[] = $_GET['userData'] \",\n",
       " \"$array[] = 'safe' \",\n",
       " '$tainted = $array[1] ',\n",
       " '$tainted = (float) $tainted ',\n",
       " 'echo \"<div \". $tainted .\"= bob />\" ',\n",
       " '?>',\n",
       " '<h1>Hello World!</h1>',\n",
       " '</div>',\n",
       " '</body>',\n",
       " '</html>']"
      ]
     },
     "execution_count": 2,
     "metadata": {},
     "output_type": "execute_result"
    }
   ],
   "source": [
    "from my_tokenize import my_token_get_all, feature_vector_helper\n",
    "file_path = '/Users/devin/Desktop/test4.php'\n",
    "my_token_get_all(file_path)"
   ]
  },
  {
   "cell_type": "code",
   "execution_count": 3,
   "metadata": {},
   "outputs": [
    {
     "data": {
      "text/plain": [
       "['T_TAG_DOCTYPE_HTML',\n",
       " 'T_TAG_HTML_START',\n",
       " 'T_TAG_BODY_START',\n",
       " 'T_TAG_PHP_START',\n",
       " 'T_VAR_ASSIGN_BY_ORDINARY_FUNCTION',\n",
       " 'T_VAR_ASSIGN_COMMON',\n",
       " 'T_VAR_SOURCE_$_GET',\n",
       " 'T_VAR_ASSIGN_COMMON',\n",
       " 'T_VAR_ASSIGN_COMMON',\n",
       " 'T_VAR_CONVERT_TYPE_FLOAT',\n",
       " 'T_SINK_ATTR_NAME',\n",
       " 'T_TAG_PHP_END',\n",
       " 'T_TAG_DIV_END',\n",
       " 'T_TAG_BODY_END',\n",
       " 'T_TAG_HTML_END']"
      ]
     },
     "execution_count": 3,
     "metadata": {},
     "output_type": "execute_result"
    }
   ],
   "source": [
    "feature_vector_helper(my_token_get_all(file_path))"
   ]
  },
  {
   "cell_type": "code",
   "execution_count": 4,
   "metadata": {},
   "outputs": [
    {
     "name": "stdout",
     "output_type": "stream",
     "text": [
      "FILTER_SANITIZE_MAGIC_QUOTES\n"
     ]
    }
   ],
   "source": [
    "test = 'filter_var($tainted,FILTER_SANITIZE_MAGIC_QUOTES)'\n",
    "tag_pattern = r' *<.+> *'\n",
    "params_block = re.findall(pattern=r'\\S+\\((.*)\\)', string=test)[0].split(',')\n",
    "for param in params_block:\n",
    "    if '$' not in param:\n",
    "        print(param)"
   ]
  },
  {
   "cell_type": "code",
   "execution_count": 12,
   "metadata": {},
   "outputs": [
    {
     "name": "stdout",
     "output_type": "stream",
     "text": [
      "\"<div \". $user_input .\"= bob />\" \n",
      "None\n"
     ]
    }
   ],
   "source": [
    "token = 'echo \"<div \". $user_input .\"= bob />\" '\n",
    "sink = re.findall(pattern=r'echo\\s(.+)\\s*', string=token)[0]\n",
    "print(sink)\n",
    "print(re.match(pattern=r'', string=sink))"
   ]
  },
  {
   "cell_type": "code",
   "execution_count": 24,
   "metadata": {},
   "outputs": [
    {
     "name": "stdout",
     "output_type": "stream",
     "text": [
      "$tainted = (string) $clean\n",
      "['string']\n"
     ]
    }
   ],
   "source": [
    "test2 = '$tainted = (string) $clean'\n",
    "print(test2)\n",
    "print(re.findall(pattern=r'\\((\\w+)\\)', string=test2))"
   ]
  },
  {
   "cell_type": "code",
   "execution_count": null,
   "metadata": {},
   "outputs": [],
   "source": []
  }
 ],
 "metadata": {
  "kernelspec": {
   "display_name": "Python 3",
   "language": "python",
   "name": "python3"
  },
  "language_info": {
   "codemirror_mode": {
    "name": "ipython",
    "version": 3
   },
   "file_extension": ".py",
   "mimetype": "text/x-python",
   "name": "python",
   "nbconvert_exporter": "python",
   "pygments_lexer": "ipython3",
   "version": "3.7.5"
  }
 },
 "nbformat": 4,
 "nbformat_minor": 4
}
