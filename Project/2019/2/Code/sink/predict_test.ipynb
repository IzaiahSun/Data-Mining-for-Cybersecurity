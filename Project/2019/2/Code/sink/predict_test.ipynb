{
 "cells": [
  {
   "cell_type": "code",
   "execution_count": 1,
   "metadata": {},
   "outputs": [],
   "source": [
    "from joblib import load\n",
    "from extract_sink_features import get_sink_features\n",
    "import numpy as np"
   ]
  },
  {
   "cell_type": "code",
   "execution_count": 13,
   "metadata": {},
   "outputs": [
    {
     "name": "stdout",
     "output_type": "stream",
     "text": [
      "[ 8  2  0  4  2  0  0  0  1 -1 -1  0 -1]\n"
     ]
    }
   ],
   "source": [
    "sink = '\"<div id\\'\".  $tainted .\"\\'>content</div>\"'\n",
    "features = np.array(get_sink_features(sink))\n",
    "# features = 1.0 * (features - features.mean()) / features.std()\n",
    "print(features)"
   ]
  },
  {
   "cell_type": "code",
   "execution_count": 18,
   "metadata": {},
   "outputs": [
    {
     "name": "stdout",
     "output_type": "stream",
     "text": [
      "1\n"
     ]
    }
   ],
   "source": [
    "model = load('sink_cluster_kmeans.model')\n",
    "print(model.predict(features.reshape(1, -1))[0])"
   ]
  },
  {
   "cell_type": "code",
   "execution_count": 25,
   "metadata": {},
   "outputs": [
    {
     "name": "stdout",
     "output_type": "stream",
     "text": [
      "T_SINK_BODY_SECTION\n",
      "T_SINK_SINGLE_QUOTE_ATTR_VAL\n",
      "T_SINK_DOUBLE_QUOTE_ATTR_VAL\n",
      "T_SINK_DOUBLE_QUOTE_CSS_VAL\n",
      "T_SINK_NO_QUOTE_CSS_VAL\n",
      "T_SINK_NO_QUOTE_ATTR_VAL\n",
      "T_SINK_SINGLE_QUOTE_JS_BLOCK\n",
      "T_SINK_DOUBLE_QUOTE_EVENT_VAL\n",
      "T_SINK_SINGLE_QUOTE_CSS_VAL\n",
      "T_SINK_DOUBLE_QUOTE_JS_BLOCK\n",
      "T_SINK_HTML_TAG_NAME\n",
      "T_SINK_ATTR_NAME\n"
     ]
    }
   ],
   "source": [
    "SINK_TYPE_DICT = {\n",
    "        0: 'T_SINK_BODY_SECTION',\n",
    "        1: 'T_SINK_SINGLE_QUOTE_ATTR_VAL',\n",
    "        2: 'T_SINK_DOUBLE_QUOTE_ATTR_VAL',\n",
    "        3: 'T_SINK_DOUBLE_QUOTE_CSS_VAL',\n",
    "        4: 'T_SINK_SINGLE_QUOTE_ATTR_VAL',\n",
    "        5: 'T_SINK_SINGLE_QUOTE_ATTR_VAL',\n",
    "        6: 'T_SINK_NO_QUOTE_CSS_VAL',\n",
    "        7: 'T_SINK_NO_QUOTE_ATTR_VAL',\n",
    "        8: 'T_SINK_NO_QUOTE_CSS_VAL',\n",
    "        9: 'T_SINK_SINGLE_QUOTE_JS_BLOCK',\n",
    "        10: 'T_SINK_DOUBLE_QUOTE_ATTR_VAL',\n",
    "        11: 'T_SINK_DOUBLE_QUOTE_EVENT_VAL',\n",
    "        12: 'T_SINK_SINGLE_QUOTE_CSS_VAL',\n",
    "        13: 'T_SINK_DOUBLE_QUOTE_JS_BLOCK',\n",
    "        14: 'T_SINK_HTML_TAG_NAME',\n",
    "        15: 'T_SINK_ATTR_NAME',\n",
    "        16: 'T_SINK_SINGLE_QUOTE_JS_BLOCK'        \n",
    "    }\n",
    "\n",
    "val_list = []\n",
    "for val in SINK_TYPE_DICT.values():\n",
    "    if val not in val_list:\n",
    "        val_list.append(val)\n",
    "for val in val_list:\n",
    "    print(val)"
   ]
  },
  {
   "cell_type": "code",
   "execution_count": null,
   "metadata": {},
   "outputs": [],
   "source": []
  }
 ],
 "metadata": {
  "kernelspec": {
   "display_name": "Python 3",
   "language": "python",
   "name": "python3"
  },
  "language_info": {
   "codemirror_mode": {
    "name": "ipython",
    "version": 3
   },
   "file_extension": ".py",
   "mimetype": "text/x-python",
   "name": "python",
   "nbconvert_exporter": "python",
   "pygments_lexer": "ipython3",
   "version": "3.7.5"
  }
 },
 "nbformat": 4,
 "nbformat_minor": 4
}
