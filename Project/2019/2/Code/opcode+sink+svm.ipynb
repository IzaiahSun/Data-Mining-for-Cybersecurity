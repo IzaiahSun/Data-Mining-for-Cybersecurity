{
 "cells": [
  {
   "cell_type": "code",
   "execution_count": 2,
   "metadata": {},
   "outputs": [],
   "source": [
    "from get_sinks import get_sinks_from_content\n",
    "import pandas as pd\n",
    "import numpy as np\n",
    "from extract_sink_features import sink_predict_class"
   ]
  },
  {
   "cell_type": "code",
   "execution_count": 3,
   "metadata": {},
   "outputs": [
    {
     "name": "stdout",
     "output_type": "stream",
     "text": [
      "Index(['file', 'code', 'vld', 'opcode', 'filter', 'label'], dtype='object')\n"
     ]
    }
   ],
   "source": [
    "df = pd.read_csv('clean_datasets.csv')\n",
    "print(df.columns)"
   ]
  },
  {
   "cell_type": "code",
   "execution_count": 4,
   "metadata": {},
   "outputs": [],
   "source": [
    "SINK_TYPE_DICT = {\n",
    "        0: 'ECHO_SINK_BODY_SECTION',\n",
    "        1: 'ECHO_SINK_SINGLE_QUOTE_ATTR_VAL',\n",
    "        2: 'ECHO_SINK_DOUBLE_QUOTE_ATTR_VAL',\n",
    "        3: 'ECHO_SINK_DOUBLE_QUOTE_CSS_VAL',\n",
    "        4: 'ECHO_SINK_SINGLE_QUOTE_ATTR_VAL',\n",
    "        5: 'ECHO_SINK_SINGLE_QUOTE_ATTR_VAL',\n",
    "        6: 'ECHO_SINK_DOUBLE_QUOTE_CSS_VAL',\n",
    "        7: 'ECHO_SINK_NO_QUOTE_ATTR_VAL',\n",
    "        8: 'ECHO_SINK_NO_QUOTE_CSS_VAL',\n",
    "        9: 'ECHO_SINK_SINGLE_QUOTE_JS_BLOCK',\n",
    "        10: 'ECHO_SINK_DOUBLE_QUOTE_ATTR_VAL',\n",
    "        11: 'ECHO_SINK_DOUBLE_QUOTE_EVENT_VAL',\n",
    "        12: 'ECHO_SINK_SINGLE_QUOTE_CSS_VAL',\n",
    "        13: 'ECHO_SINK_DOUBLE_QUOTE_JS_BLOCK',\n",
    "        14: 'ECHO_SINK_HTML_TAG_NAME',\n",
    "        15: 'ECHO_SINK_ATTR_NAME',\n",
    "        16: 'ECHO_SINK_SINGLE_QUOTE_JS_BLOCK'        }"
   ]
  },
  {
   "cell_type": "code",
   "execution_count": 5,
   "metadata": {},
   "outputs": [
    {
     "name": "stdout",
     "output_type": "stream",
     "text": [
      "10080\n",
      "10080\n",
      "ECHO ASSIGN ASSIGN INIT_FCALL SEND_VAL SEND_VAR SEND_REF SEND_VAR SEND_VAL DO_ICALL ASSIGN TYPE_CHECK JMPZ INIT_FCALL FETCH_DIM_R SEND_VAL DO_ICALL INIT_FCALL FETCH_DIM_R SEND_VAL DO_ICALL ASSIGN INIT_FCALL FETCH_DIM_R SEND_VAL DO_ICALL INIT_FCALL SEND_VAR DO_ICALL ASSIGN INIT_FCALL SEND_VAR SEND_VAL DO_ICALL ASSIGN INIT_FCALL SEND_VAR SEND_VAL DO_ICALL JMPZ ASSIGN JMP ASSIGN CONCAT CONCAT ECHO ECHO RETURN\n"
     ]
    }
   ],
   "source": [
    "opcode_list = df['opcode'].tolist()\n",
    "code_list = df['code'].tolist()\n",
    "filter_list = df['filter']\n",
    "label_list = np.array(df['label'].tolist())\n",
    "sink_type_list = []\n",
    "for code in code_list:\n",
    "    sink_type_list.append(get_sinks_from_content(code)[0])\n",
    "sink_type_list = np.array(sink_type_list)\n",
    "\n",
    "print(len(code_list))\n",
    "print(len(sink_type_list))\n",
    "print(opcode_list[10])"
   ]
  },
  {
   "cell_type": "markdown",
   "metadata": {},
   "source": [
    "## 替换"
   ]
  },
  {
   "cell_type": "code",
   "execution_count": 16,
   "metadata": {},
   "outputs": [],
   "source": [
    "for i in range(len(opcode_list)):\n",
    "#     print(opcode_list[i])\n",
    "    opcode_list[i] = str(opcode_list[i]).split(' ')\n",
    "    for j in range(len(opcode_list[i])-1, -1, -1):\n",
    "#         print(j)\n",
    "        if opcode_list[i][j] == 'ECHO':\n",
    "            opcode_list[i][j] = SINK_TYPE_DICT[sink_predict_class(sink_type_list[i])]\n",
    "            break\n",
    "    opcode_list[i] = ' '.join(opcode_list[i])"
   ]
  },
  {
   "cell_type": "code",
   "execution_count": 17,
   "metadata": {},
   "outputs": [],
   "source": [
    "opcode_clean_list = []\n",
    "\n",
    "for opcode, filters in zip(opcode_list, filter_list):\n",
    "    filters = str(filters).split(' ')\n",
    "#     print(filters)\n",
    "    if 'NO_FILTER' in filter_list[i]:\n",
    "        opcode_clean_list.append(opcode)\n",
    "        continue\n",
    "    opcode = str(opcode).split(' ')\n",
    "#     print(opcode)\n",
    "    for i in range(len(opcode)):\n",
    "        count = 0\n",
    "        if 'INIT' in opcode[i]:\n",
    "#             print('found init func call')\n",
    "            opcode[i] = filters[count]\n",
    "            count += 1\n",
    "    opcode = ' '.join(opcode)\n",
    "    opcode_clean_list.append(opcode)\n",
    "\n"
   ]
  },
  {
   "cell_type": "markdown",
   "metadata": {},
   "source": [
    "## 直接append"
   ]
  },
  {
   "cell_type": "code",
   "execution_count": 6,
   "metadata": {},
   "outputs": [],
   "source": [
    "for i in range(len(opcode_list)):\n",
    "    opcode_list[i] = opcode_list[i] + ' ' + filter_list[i]\n",
    "    opcode_list[i] = opcode_list[i] + ' ' + SINK_TYPE_DICT[sink_predict_class(sink_type_list[i])]\n",
    "#     opcode_list[i] = opcode_list[i].split(' ')"
   ]
  },
  {
   "cell_type": "code",
   "execution_count": 7,
   "metadata": {},
   "outputs": [
    {
     "name": "stdout",
     "output_type": "stream",
     "text": [
      "PROC_OPEN FCLOSE STREAM_GET_CONTENTS FCLOSE PROC_CLOSE FILTER_VAR\n",
      "ECHO ASSIGN ASSIGN INIT_FCALL SEND_VAL SEND_VAR SEND_REF SEND_VAR SEND_VAL DO_ICALL ASSIGN TYPE_CHECK JMPZ INIT_FCALL FETCH_DIM_R SEND_VAL DO_ICALL INIT_FCALL FETCH_DIM_R SEND_VAL DO_ICALL ASSIGN INIT_FCALL FETCH_DIM_R SEND_VAL DO_ICALL INIT_FCALL SEND_VAR DO_ICALL ASSIGN INIT_FCALL SEND_VAR SEND_VAL DO_ICALL ASSIGN ASSIGN CONCAT CONCAT ECHO ECHO RETURN PROC_OPEN FCLOSE STREAM_GET_CONTENTS FCLOSE PROC_CLOSE FILTER_VAR ECHO_SINK_ATTR_NAME\n"
     ]
    }
   ],
   "source": [
    "index = 11\n",
    "# print(code_list[index])\n",
    "print(filter_list[index])\n",
    "# print(opcode_clean_list[index])\n",
    "print(opcode_list[index])"
   ]
  },
  {
   "cell_type": "markdown",
   "metadata": {},
   "source": [
    "# 模型部分"
   ]
  },
  {
   "cell_type": "code",
   "execution_count": 8,
   "metadata": {},
   "outputs": [
    {
     "name": "stdout",
     "output_type": "stream",
     "text": [
      "(10080, 68)\n"
     ]
    }
   ],
   "source": [
    "from sklearn.feature_extraction.text import CountVectorizer\n",
    "from sklearn.feature_extraction.text import TfidfTransformer\n",
    "from sklearn.feature_extraction.text import TfidfVectorizer\n",
    "\n",
    "# CV = CountVectorizer(ngram_range=(5,5), decode_error='ignore',\n",
    "#                     token_pattern=r'\\b\\w+\\b', min_df=1, max_df=1.0)\n",
    "# X = CV.fit_transform(opcode_list).toarray()\n",
    "# # print(X[:2])\n",
    "# Tfid = TfidfTransformer(smooth_idf=False)\n",
    "# tfidf_value = Tfid.fit_transform(X)\n",
    "# # print(tfidf_value)\n",
    "# X_tfid = np.array(tfidf_value.toarray())\n",
    "# print(X_tfid.shape)\n",
    "\n",
    "tfidf = TfidfVectorizer()\n",
    "re = tfidf.fit_transform(opcode_list)\n",
    "# print(re)\n",
    "X_tfid = np.array(re.toarray())\n",
    "print(X_tfid.shape)"
   ]
  },
  {
   "cell_type": "code",
   "execution_count": 9,
   "metadata": {},
   "outputs": [
    {
     "name": "stderr",
     "output_type": "stream",
     "text": [
      "/Users/devin/anaconda3/envs/python37/lib/python3.7/site-packages/tensorflow/python/framework/dtypes.py:516: FutureWarning: Passing (type, 1) or '1type' as a synonym of type is deprecated; in a future version of numpy, it will be understood as (type, (1,)) / '(1,)type'.\n",
      "  _np_qint8 = np.dtype([(\"qint8\", np.int8, 1)])\n",
      "/Users/devin/anaconda3/envs/python37/lib/python3.7/site-packages/tensorflow/python/framework/dtypes.py:517: FutureWarning: Passing (type, 1) or '1type' as a synonym of type is deprecated; in a future version of numpy, it will be understood as (type, (1,)) / '(1,)type'.\n",
      "  _np_quint8 = np.dtype([(\"quint8\", np.uint8, 1)])\n",
      "/Users/devin/anaconda3/envs/python37/lib/python3.7/site-packages/tensorflow/python/framework/dtypes.py:518: FutureWarning: Passing (type, 1) or '1type' as a synonym of type is deprecated; in a future version of numpy, it will be understood as (type, (1,)) / '(1,)type'.\n",
      "  _np_qint16 = np.dtype([(\"qint16\", np.int16, 1)])\n",
      "/Users/devin/anaconda3/envs/python37/lib/python3.7/site-packages/tensorflow/python/framework/dtypes.py:519: FutureWarning: Passing (type, 1) or '1type' as a synonym of type is deprecated; in a future version of numpy, it will be understood as (type, (1,)) / '(1,)type'.\n",
      "  _np_quint16 = np.dtype([(\"quint16\", np.uint16, 1)])\n",
      "/Users/devin/anaconda3/envs/python37/lib/python3.7/site-packages/tensorflow/python/framework/dtypes.py:520: FutureWarning: Passing (type, 1) or '1type' as a synonym of type is deprecated; in a future version of numpy, it will be understood as (type, (1,)) / '(1,)type'.\n",
      "  _np_qint32 = np.dtype([(\"qint32\", np.int32, 1)])\n",
      "/Users/devin/anaconda3/envs/python37/lib/python3.7/site-packages/tensorflow/python/framework/dtypes.py:525: FutureWarning: Passing (type, 1) or '1type' as a synonym of type is deprecated; in a future version of numpy, it will be understood as (type, (1,)) / '(1,)type'.\n",
      "  np_resource = np.dtype([(\"resource\", np.ubyte, 1)])\n"
     ]
    },
    {
     "name": "stdout",
     "output_type": "stream",
     "text": [
      "(7056, 68)\n",
      "(3024, 68)\n"
     ]
    },
    {
     "name": "stderr",
     "output_type": "stream",
     "text": [
      "/Users/devin/anaconda3/envs/python37/lib/python3.7/site-packages/tensorboard/compat/tensorflow_stub/dtypes.py:541: FutureWarning: Passing (type, 1) or '1type' as a synonym of type is deprecated; in a future version of numpy, it will be understood as (type, (1,)) / '(1,)type'.\n",
      "  _np_qint8 = np.dtype([(\"qint8\", np.int8, 1)])\n",
      "/Users/devin/anaconda3/envs/python37/lib/python3.7/site-packages/tensorboard/compat/tensorflow_stub/dtypes.py:542: FutureWarning: Passing (type, 1) or '1type' as a synonym of type is deprecated; in a future version of numpy, it will be understood as (type, (1,)) / '(1,)type'.\n",
      "  _np_quint8 = np.dtype([(\"quint8\", np.uint8, 1)])\n",
      "/Users/devin/anaconda3/envs/python37/lib/python3.7/site-packages/tensorboard/compat/tensorflow_stub/dtypes.py:543: FutureWarning: Passing (type, 1) or '1type' as a synonym of type is deprecated; in a future version of numpy, it will be understood as (type, (1,)) / '(1,)type'.\n",
      "  _np_qint16 = np.dtype([(\"qint16\", np.int16, 1)])\n",
      "/Users/devin/anaconda3/envs/python37/lib/python3.7/site-packages/tensorboard/compat/tensorflow_stub/dtypes.py:544: FutureWarning: Passing (type, 1) or '1type' as a synonym of type is deprecated; in a future version of numpy, it will be understood as (type, (1,)) / '(1,)type'.\n",
      "  _np_quint16 = np.dtype([(\"quint16\", np.uint16, 1)])\n",
      "/Users/devin/anaconda3/envs/python37/lib/python3.7/site-packages/tensorboard/compat/tensorflow_stub/dtypes.py:545: FutureWarning: Passing (type, 1) or '1type' as a synonym of type is deprecated; in a future version of numpy, it will be understood as (type, (1,)) / '(1,)type'.\n",
      "  _np_qint32 = np.dtype([(\"qint32\", np.int32, 1)])\n",
      "/Users/devin/anaconda3/envs/python37/lib/python3.7/site-packages/tensorboard/compat/tensorflow_stub/dtypes.py:550: FutureWarning: Passing (type, 1) or '1type' as a synonym of type is deprecated; in a future version of numpy, it will be understood as (type, (1,)) / '(1,)type'.\n",
      "  np_resource = np.dtype([(\"resource\", np.ubyte, 1)])\n"
     ]
    }
   ],
   "source": [
    "from sklearn.preprocessing import StandardScaler\n",
    "from sklearn.preprocessing import MinMaxScaler\n",
    "from sklearn.model_selection import train_test_split\n",
    "from tensorflow.keras.utils import to_categorical\n",
    "\n",
    "X_train, X_test, y_train, y_test = train_test_split(\n",
    "    X_tfid, label_list, random_state=2020, test_size = 0.3, stratify=label_list)\n",
    "\n",
    "# 标准化\n",
    "std_scaler = StandardScaler()\n",
    "X_train_std = std_scaler.fit_transform(X_train).astype('float32')\n",
    "X_test_std = std_scaler.transform(X_test).astype('float32')\n",
    "\n",
    "# # 归一化以及独热编码\n",
    "# mm_scaler = StandardScaler()\n",
    "# X_train_std = mm_scaler.fit_transform(X_train).astype('float32')\n",
    "# X_test_std = mm_scaler.transform(X_test).astype('float32')\n",
    "# y_train = to_categorical(y_train, num_classes=2)\n",
    "# # y_test = to_categorical(y_test, num_classes=2)\n",
    "\n",
    "# X_train_std, X_test_std = X_train, X_test\n",
    "\n",
    "print(X_train_std.shape)\n",
    "print(X_test_std.shape)\n",
    "# print(X_test_std[:1])\n",
    "# print(y_train[:10])\n",
    "# print(y_test[:10])"
   ]
  },
  {
   "cell_type": "code",
   "execution_count": 10,
   "metadata": {},
   "outputs": [],
   "source": [
    "from sklearn import svm\n",
    "from sklearn.ensemble import RandomForestClassifier\n",
    "\n",
    "svc = svm.SVC(kernel='linear', C=1.0, gamma='auto', probability=True, random_state=2020)  # 线性核\n",
    "# svc = svm.SVC(kernel='rbf', gamma=0.7, C=1.0, probability=True, random_state=2020) # 径向基核\n",
    "# svc = svm.SVC(kernel='poly', degree=3, C=1.0, gamma='auto', probability=True, random_state=2020) # 多项式核\n",
    "\n",
    "rndcls = RandomForestClassifier(random_state=2020)"
   ]
  },
  {
   "cell_type": "code",
   "execution_count": 11,
   "metadata": {},
   "outputs": [
    {
     "data": {
      "image/png": "[encoded data removed]",
      "text/plain": [
       "<Figure size 432x288 with 1 Axes>"
      ]
     },
     "metadata": {
      "needs_background": "light"
     },
     "output_type": "display_data"
    }
   ],
   "source": [
    "from sklearn.metrics import roc_curve, auc\n",
    "import matplotlib.pyplot as plt\n",
    "from sklearn.model_selection import StratifiedKFold\n",
    "\n",
    "%matplotlib inline\n",
    "\n",
    "cv = StratifiedKFold(n_splits=10)    #导入该模型，后面将数据划分10份\n",
    " \n",
    "# 画平均ROC曲线的两个参数\n",
    "mean_tpr = 0.0              # 用来记录画平均ROC曲线的信息\n",
    "mean_fpr = np.linspace(0, 1, 100)\n",
    "cnt = 0\n",
    "for i, (train, test) in enumerate(cv.split(X_train_std,y_train)):       #利用模型划分数据集和目标变量 为一一对应的下标\n",
    "    cnt +=1\n",
    "    probas_ = svc.fit(X_train_std[train], y_train[train]).predict_proba(X_train_std[test]) # 训练模型后预测每条样本得到两种结果的概率\n",
    "    fpr, tpr, thresholds = roc_curve(y_train[test], probas_[:, 1])    # 该函数得到伪正例、真正例、阈值，这里只使用前两个\n",
    " \n",
    "    mean_tpr += np.interp(mean_fpr, fpr, tpr)   # 插值函数 interp(x坐标,每次x增加距离,y坐标)  累计每次循环的总值后面求平均值\n",
    "    mean_tpr[0] = 0.0           # 将第一个真正例=0 以0为起点\n",
    " \n",
    "    roc_auc = auc(fpr, tpr)  # 求auc面积\n",
    "    plt.plot(fpr, tpr, lw=1, label='ROC fold {0:.2f} (area = {1:.2f})'.format(i, roc_auc))    # 画出当前分割数据的ROC曲线\n",
    "\n",
    "plt.plot([0, 1], [0, 1], '--', color=(0.6, 0.6, 0.6), label='Luck') # 画对角线\n",
    " \n",
    "mean_tpr /= cnt   # 求数组的平均值\n",
    "mean_tpr[-1] = 1.0   # 坐标最后一个点为（1,1）  以1为终点\n",
    "mean_auc = auc(mean_fpr, mean_tpr)\n",
    " \n",
    "plt.plot(mean_fpr, mean_tpr, 'k--',label='Mean ROC (area = {0:.2f})'.format(mean_auc), lw=2)\n",
    " \n",
    "plt.xlim([-0.05, 1.05])     # 设置x、y轴的上下限，设置宽一点，以免和边缘重合，可以更好的观察图像的整体\n",
    "plt.ylim([-0.05, 1.05])\n",
    "plt.xlabel('False Positive Rate')\n",
    "plt.ylabel('True Positive Rate')    # 可以使用中文，但需要导入一些库即字体\n",
    "plt.title('ROC Curve')\n",
    "plt.legend(loc=\"lower right\")\n",
    "plt.show()"
   ]
  },
  {
   "cell_type": "code",
   "execution_count": 12,
   "metadata": {},
   "outputs": [
    {
     "name": "stdout",
     "output_type": "stream",
     "text": [
      "               precision    recall  f1-score   support\n",
      "\n",
      "Good sanitize       0.94      0.85      0.89      1718\n",
      " Bad sanitize       0.82      0.93      0.87      1306\n",
      "\n",
      "     accuracy                           0.88      3024\n",
      "    macro avg       0.88      0.89      0.88      3024\n",
      " weighted avg       0.89      0.88      0.88      3024\n",
      "\n"
     ]
    }
   ],
   "source": [
    "from sklearn import metrics\n",
    "predict_target = svc.predict(X_test_std)\n",
    "print(metrics.classification_report(y_test, predict_target, \n",
    "                                    target_names=['Good sanitize', 'Bad sanitize']))"
   ]
  },
  {
   "cell_type": "code",
   "execution_count": 13,
   "metadata": {},
   "outputs": [
    {
     "data": {
      "text/plain": [
       "Text(0.5, 0, 'True label')"
      ]
     },
     "execution_count": 13,
     "metadata": {},
     "output_type": "execute_result"
    },
    {
     "data": {
      "image/png": "[encoded data removed]",
      "text/plain": [
       "<Figure size 288x288 with 2 Axes>"
      ]
     },
     "metadata": {
      "needs_background": "light"
     },
     "output_type": "display_data"
    }
   ],
   "source": [
    "# Confusion matrix\n",
    "%matplotlib inline\n",
    "\n",
    "from sklearn.metrics import confusion_matrix\n",
    "import matplotlib.pyplot as plt\n",
    "\n",
    "cm = confusion_matrix(y_test, svc.predict(X_test_std))\n",
    "plt.matshow(cm,cmap=plt.cm.Greens)\n",
    "plt.colorbar()\n",
    "for x in range(len(cm)):\n",
    "    for y in range(len(cm)):\n",
    "        plt.annotate(cm[x,y],xy=(x,y),horizontalalignment='center',verticalalignment='center')\n",
    "\n",
    "plt.ylabel('Predicted label')# 坐标轴标签\n",
    "plt.xlabel('True label')# 坐标轴标签"
   ]
  },
  {
   "cell_type": "code",
   "execution_count": null,
   "metadata": {},
   "outputs": [],
   "source": []
  }
 ],
 "metadata": {
  "kernelspec": {
   "display_name": "Python 3",
   "language": "python",
   "name": "python3"
  },
  "language_info": {
   "codemirror_mode": {
    "name": "ipython",
    "version": 3
   },
   "file_extension": ".py",
   "mimetype": "text/x-python",
   "name": "python",
   "nbconvert_exporter": "python",
   "pygments_lexer": "ipython3",
   "version": "3.7.5"
  }
 },
 "nbformat": 4,
 "nbformat_minor": 4
}
